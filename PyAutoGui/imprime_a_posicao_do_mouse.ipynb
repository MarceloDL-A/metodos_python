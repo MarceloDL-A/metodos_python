{
 "cells": [
  {
   "cell_type": "markdown",
   "id": "hybrid-chapter",
   "metadata": {},
   "source": [
    "#### [mouse](https://pyautogui.readthedocs.io/en/latest/mouse.html)"
   ]
  },
  {
   "cell_type": "code",
   "execution_count": null,
   "id": "imperial-pastor",
   "metadata": {},
   "outputs": [
    {
     "name": "stdout",
     "output_type": "stream",
     "text": [
      "Press Ctrl-C to quit.\n",
      "X:  748 Y:  41X:  568 Y:  61X: 1072 Y:  30X:  279 Y:  30X:  279 Y:  30X:  281 Y:  33X:  283 Y:  30X:  283 Y:  30X:  283 Y:  30X:  290 Y:  33X:  419 Y:  36X:  419 Y:  36X: 1232 Y:  29X: 1232 Y:  52X:  637 Y:  36X:  637 Y:  36X:  637 Y:  36X:  637 Y:  36X:  637 Y:  36X:  636 Y:  36X:  636 Y:  36X:  573 Y:  45X:  611 Y:  41X:  611 Y:  41X:  568 Y:  40X:  568 Y:  33X:  728 Y:  34X:  728 Y:  34X:  728 Y:  34X:  489 Y:  30X:  804 Y:  17X:  205 Y:  11X:  764 Y:  47"
     ]
    }
   ],
   "source": [
    "#! python3\n",
    "import pyautogui, sys\n",
    "import time\n",
    "print('Press Ctrl-C to quit.')\n",
    "try:\n",
    "    while True:\n",
    "        time.sleep(2)\n",
    "        x, y = pyautogui.position()\n",
    "        positionStr = 'X: ' + str(x).rjust(4) + ' Y: ' + str(y).rjust(4)\n",
    "        print(positionStr, end='')\n",
    "        print('\\b' * len(positionStr), end='', flush=True)\n",
    "except KeyboardInterrupt:\n",
    "    print('\\n')"
   ]
  },
  {
   "cell_type": "code",
   "execution_count": null,
   "id": "loose-ethnic",
   "metadata": {},
   "outputs": [],
   "source": []
  }
 ],
 "metadata": {
  "kernelspec": {
   "display_name": "Python 3",
   "language": "python",
   "name": "python3"
  },
  "language_info": {
   "codemirror_mode": {
    "name": "ipython",
    "version": 3
   },
   "file_extension": ".py",
   "mimetype": "text/x-python",
   "name": "python",
   "nbconvert_exporter": "python",
   "pygments_lexer": "ipython3",
   "version": "3.8.8"
  }
 },
 "nbformat": 4,
 "nbformat_minor": 5
}
