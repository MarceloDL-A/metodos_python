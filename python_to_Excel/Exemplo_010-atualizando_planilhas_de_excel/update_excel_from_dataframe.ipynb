{
 "cells": [
  {
   "cell_type": "markdown",
   "id": "fantastic-velvet",
   "metadata": {},
   "source": [
    "#### 1. Bibliotecas necessárias"
   ]
  },
  {
   "cell_type": "code",
   "execution_count": 1,
   "id": "hungarian-organ",
   "metadata": {},
   "outputs": [],
   "source": [
    "from openpyxl import load_workbook\n",
    "import pandas as pd"
   ]
  },
  {
   "cell_type": "markdown",
   "id": "personal-aquarium",
   "metadata": {},
   "source": [
    "#### 2. Carregando um arquivo do excel contendo planilhas com formatação pré-definida"
   ]
  },
  {
   "cell_type": "code",
   "execution_count": 2,
   "id": "judicial-compatibility",
   "metadata": {},
   "outputs": [],
   "source": [
    "caminho = 'mascara_excel_v002.xlsx'\n",
    "arquivo_excel = load_workbook(caminho)"
   ]
  },
  {
   "cell_type": "markdown",
   "id": "dated-retention",
   "metadata": {},
   "source": [
    "#### 3. Lista as planilhas contidas no arquivo excel"
   ]
  },
  {
   "cell_type": "code",
   "execution_count": 3,
   "id": "close-bolivia",
   "metadata": {
    "tags": []
   },
   "outputs": [
    {
     "data": {
      "text/plain": [
       "[<Worksheet \"MÁSCARA - CEFAG EMPREENDIMENTOS\">,\n",
       " <Worksheet \"HENRIQUE\">,\n",
       " <Worksheet \"COMPOSIÇÃO\">]"
      ]
     },
     "execution_count": 3,
     "metadata": {},
     "output_type": "execute_result"
    }
   ],
   "source": [
    "ls_work_sheets = []\n",
    "for i in arquivo_excel:\n",
    "    ls_work_sheets += [i]\n",
    "ls_work_sheets"
   ]
  },
  {
   "cell_type": "markdown",
   "id": "indonesian-charleston",
   "metadata": {},
   "source": [
    "#### 4. Composição de um dataframe com os dados do excel\n",
    "Para compor um dataframe com os dados de uma planilha do excell temos que definir qual das planilhas do arquivo queremos inserir em um dataframe. Isso pode ser feito pelo indice como foi feito com o objeto **ls_work_sheets[0]** a seguir ou pelo nome da planilha como em **arquivo_excel[\"MÁSCARA - CEFAG EMPREENDIMENTOS\"]**"
   ]
  },
  {
   "cell_type": "code",
   "execution_count": 4,
   "id": "saved-recording",
   "metadata": {},
   "outputs": [
    {
     "data": {
      "text/plain": [
       "<Worksheet \"MÁSCARA - CEFAG EMPREENDIMENTOS\">"
      ]
     },
     "execution_count": 4,
     "metadata": {},
     "output_type": "execute_result"
    }
   ],
   "source": [
    "arquivo_excel[\"MÁSCARA - CEFAG EMPREENDIMENTOS\"]"
   ]
  },
  {
   "cell_type": "code",
   "execution_count": 5,
   "id": "premium-painting",
   "metadata": {},
   "outputs": [
    {
     "data": {
      "text/plain": [
       "<Worksheet \"MÁSCARA - CEFAG EMPREENDIMENTOS\">"
      ]
     },
     "execution_count": 5,
     "metadata": {},
     "output_type": "execute_result"
    }
   ],
   "source": [
    "ls_work_sheets[0]"
   ]
  },
  {
   "cell_type": "markdown",
   "id": "verbal-happening",
   "metadata": {},
   "source": [
    "Defina um nome para o dataframe a ser formado com os dados da planilha  escolhida (como **df_0** a seguir) e atribua os valores da planilha a esse dataframe do seguinte modo:"
   ]
  },
  {
   "cell_type": "code",
   "execution_count": 6,
   "id": "after-benjamin",
   "metadata": {},
   "outputs": [
    {
     "data": {
      "text/html": [
       "<div>\n",
       "<style scoped>\n",
       "    .dataframe tbody tr th:only-of-type {\n",
       "        vertical-align: middle;\n",
       "    }\n",
       "\n",
       "    .dataframe tbody tr th {\n",
       "        vertical-align: top;\n",
       "    }\n",
       "\n",
       "    .dataframe thead th {\n",
       "        text-align: right;\n",
       "    }\n",
       "</style>\n",
       "<table border=\"1\" class=\"dataframe\">\n",
       "  <thead>\n",
       "    <tr style=\"text-align: right;\">\n",
       "      <th></th>\n",
       "      <th>0</th>\n",
       "      <th>1</th>\n",
       "      <th>2</th>\n",
       "      <th>3</th>\n",
       "      <th>4</th>\n",
       "      <th>5</th>\n",
       "      <th>6</th>\n",
       "      <th>7</th>\n",
       "      <th>8</th>\n",
       "    </tr>\n",
       "  </thead>\n",
       "  <tbody>\n",
       "    <tr>\n",
       "      <th>0</th>\n",
       "      <td>MÁSCARA - CEFAG EMPREENDIMENTOS IMOBILIARIOS SPE LTDA - E01_S353_À_S360_CEMARA II</td>\n",
       "      <td>None</td>\n",
       "      <td>None</td>\n",
       "      <td>None</td>\n",
       "      <td>None</td>\n",
       "      <td>None</td>\n",
       "      <td>None</td>\n",
       "      <td>None</td>\n",
       "      <td>None</td>\n",
       "    </tr>\n",
       "    <tr>\n",
       "      <th>1</th>\n",
       "      <td>Descrição</td>\n",
       "      <td>None</td>\n",
       "      <td>5/2020</td>\n",
       "      <td>6/2020</td>\n",
       "      <td>None</td>\n",
       "      <td>None</td>\n",
       "      <td>None</td>\n",
       "      <td>None</td>\n",
       "      <td>None</td>\n",
       "    </tr>\n",
       "    <tr>\n",
       "      <th>2</th>\n",
       "      <td>None</td>\n",
       "      <td>None</td>\n",
       "      <td>valor</td>\n",
       "      <td>valor</td>\n",
       "      <td>None</td>\n",
       "      <td>None</td>\n",
       "      <td>None</td>\n",
       "      <td>=C5-D36</td>\n",
       "      <td>None</td>\n",
       "    </tr>\n",
       "  </tbody>\n",
       "</table>\n",
       "</div>"
      ],
      "text/plain": [
       "                                                                                   0  \\\n",
       "0  MÁSCARA - CEFAG EMPREENDIMENTOS IMOBILIARIOS SPE LTDA - E01_S353_À_S360_CEMARA II   \n",
       "1                                                                          Descrição   \n",
       "2                                                                               None   \n",
       "\n",
       "      1       2       3     4     5     6        7     8  \n",
       "0  None    None    None  None  None  None     None  None  \n",
       "1  None  5/2020  6/2020  None  None  None     None  None  \n",
       "2  None   valor   valor  None  None  None  =C5-D36  None  "
      ]
     },
     "execution_count": 6,
     "metadata": {},
     "output_type": "execute_result"
    }
   ],
   "source": [
    "# Esse comando mostra a largura máxima das células, com o intuito de tornar possível a visualização de toda a informação contida nelas.\n",
    "pd.set_option(\"display.max_colwidth\", None) \n",
    "# Esse comando mostra todas as linhas, com o intuito de tornar possível a visualização de toda a informação da planilha.\n",
    "pd.set_option(\"display.max_rows\", None)\n",
    "df_0 = pd.DataFrame(ls_work_sheets[0].values)\n",
    "# Caso se queria ver somente as primeiras linha utilize o comando a seguir:\n",
    "df_0.head(3)"
   ]
  },
  {
   "cell_type": "markdown",
   "id": "surprised-marble",
   "metadata": {
    "tags": []
   },
   "source": [
    "#### 5. Atualização do dataframe"
   ]
  },
  {
   "cell_type": "markdown",
   "id": "greatest-constitution",
   "metadata": {},
   "source": [
    "Aqui podemos atualizar cada célula do dataframe indicando os indices da linhas e das colunas com o comanto **df_0.iat[i, k]**\n",
    "\n",
    "A célula a seguir é destinada apenas a um teste para verificar o efeito do atualização da informação na planilha. \n",
    "\n",
    "***Deve ser tranformada em markdown ou apagada!***"
   ]
  },
  {
   "cell_type": "code",
   "execution_count": 7,
   "id": "miniature-laser",
   "metadata": {},
   "outputs": [],
   "source": [
    "for i in range(8):\n",
    "    for k in range(8):\n",
    "        df_0.iat[i, k] = \"oihdnasifhpasf\""
   ]
  },
  {
   "cell_type": "markdown",
   "id": "aggressive-console",
   "metadata": {},
   "source": [
    "#### 6. Devolução das informações atualizadas no dataframe para a planilha pré-formatada do excel"
   ]
  },
  {
   "cell_type": "markdown",
   "id": "applicable-overall",
   "metadata": {},
   "source": [
    "Atualiza a planilha definida por pelo indice (como **ls_work_sheets[0]** a seguir) com as informações do dataframe **df_0** definido anteriormente."
   ]
  },
  {
   "cell_type": "code",
   "execution_count": 8,
   "id": "metric-spell",
   "metadata": {},
   "outputs": [],
   "source": [
    "for row in ls_work_sheets[0].rows:\n",
    "    for cell in row:\n",
    "        try:\n",
    "            arquivo_excel.active[cell.coordinate] = df_0.iat[cell.row,cell.column]\n",
    "        except:\n",
    "            pass\n",
    "arquivo_excel.save('arquivo_atualizado2.xlsx') "
   ]
  }
 ],
 "metadata": {
  "kernelspec": {
   "display_name": "Python 3",
   "language": "python",
   "name": "python3"
  },
  "language_info": {
   "codemirror_mode": {
    "name": "ipython",
    "version": 3
   },
   "file_extension": ".py",
   "mimetype": "text/x-python",
   "name": "python",
   "nbconvert_exporter": "python",
   "pygments_lexer": "ipython3",
   "version": "3.8.8"
  }
 },
 "nbformat": 4,
 "nbformat_minor": 5
}
