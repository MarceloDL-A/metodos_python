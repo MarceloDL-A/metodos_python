{
 "cells": [
  {
   "cell_type": "markdown",
   "id": "attempted-daniel",
   "metadata": {},
   "source": [
    "#### Bibliotecas necessárias"
   ]
  },
  {
   "cell_type": "code",
   "execution_count": 26,
   "id": "numeric-rhythm",
   "metadata": {},
   "outputs": [],
   "source": [
    "from openpyxl import load_workbook\n",
    "import pandas as pd"
   ]
  },
  {
   "cell_type": "markdown",
   "id": "invisible-labor",
   "metadata": {},
   "source": [
    "#### Carregando um arquivo do excel contendo planilhas com formatação pré-definida"
   ]
  },
  {
   "cell_type": "code",
   "execution_count": 27,
   "id": "breeding-listening",
   "metadata": {},
   "outputs": [],
   "source": [
    "caminho = 'mascara_excel_v002.xlsx'\n",
    "arquivo_excel = load_workbook(caminho)"
   ]
  },
  {
   "cell_type": "markdown",
   "id": "closed-klein",
   "metadata": {},
   "source": [
    "#### Lista as planilhas contidas no arquivo excel"
   ]
  },
  {
   "cell_type": "code",
   "execution_count": 28,
   "id": "parliamentary-excellence",
   "metadata": {
    "tags": []
   },
   "outputs": [
    {
     "data": {
      "text/plain": [
       "[<Worksheet \"MÁSCARA - CEFAG EMPREENDIMENTOS\">,\n",
       " <Worksheet \"HENRIQUE\">,\n",
       " <Worksheet \"COMPOSIÇÃO\">]"
      ]
     },
     "execution_count": 28,
     "metadata": {},
     "output_type": "execute_result"
    }
   ],
   "source": [
    "ls_work_sheets = []\n",
    "for i in arquivo_excel:\n",
    "    ls_work_sheets += [i]\n",
    "ls_work_sheets"
   ]
  },
  {
   "cell_type": "markdown",
   "id": "historical-brother",
   "metadata": {},
   "source": [
    "#### Para atualizar uma célula de uma planilha do arquivo excell formatado deve-se indicar o nome da planilha no primeiro colchete e o nome da célula a ser atualizada no segundo colchete."
   ]
  },
  {
   "cell_type": "code",
   "execution_count": 21,
   "id": "stupid-commodity",
   "metadata": {},
   "outputs": [],
   "source": [
    "arquivo_excel[\"MÁSCARA - CEFAG EMPREENDIMENTOS\"][\"A1\"] = \"VALOR NOVO\"\n",
    "arquivo_excel[\"COMPOSIÇÃO\"][\"D5\"] = \"VALOR NOVO\""
   ]
  },
  {
   "cell_type": "markdown",
   "id": "prompt-lesson",
   "metadata": {},
   "source": [
    "#### Salva o arquivo atualizado"
   ]
  },
  {
   "cell_type": "code",
   "execution_count": 22,
   "id": "operational-float",
   "metadata": {},
   "outputs": [],
   "source": [
    "arquivo_excel.save('arquivo_atualizado.xlsx') "
   ]
  }
 ],
 "metadata": {
  "kernelspec": {
   "display_name": "Python 3",
   "language": "python",
   "name": "python3"
  },
  "language_info": {
   "codemirror_mode": {
    "name": "ipython",
    "version": 3
   },
   "file_extension": ".py",
   "mimetype": "text/x-python",
   "name": "python",
   "nbconvert_exporter": "python",
   "pygments_lexer": "ipython3",
   "version": "3.8.8"
  }
 },
 "nbformat": 4,
 "nbformat_minor": 5
}
