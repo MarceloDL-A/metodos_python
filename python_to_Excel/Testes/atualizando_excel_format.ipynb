{
 "cells": [
  {
   "cell_type": "markdown",
   "id": "specialized-canyon",
   "metadata": {},
   "source": [
    "#### Carregando uma Planilha Existente"
   ]
  },
  {
   "cell_type": "code",
   "execution_count": 1,
   "id": "exterior-february",
   "metadata": {},
   "outputs": [],
   "source": [
    "from openpyxl import load_workbook\n",
    "import pandas as pd\n",
    "caminho = 'mascara_excel_v002.xlsx'\n",
    "arquivo_excel = load_workbook(caminho)"
   ]
  },
  {
   "cell_type": "markdown",
   "id": "english-library",
   "metadata": {},
   "source": [
    "#### Composição de um dataframe com os dados do excel"
   ]
  },
  {
   "cell_type": "markdown",
   "id": "adjustable-instrumentation",
   "metadata": {},
   "source": [
    "##### Lista de worksheets"
   ]
  },
  {
   "cell_type": "code",
   "execution_count": 2,
   "id": "bronze-communications",
   "metadata": {
    "tags": []
   },
   "outputs": [],
   "source": [
    "ls_work_sheets = []\n",
    "for i in arquivo_excel:\n",
    "    ls_work_sheets += [i]"
   ]
  },
  {
   "cell_type": "code",
   "execution_count": 3,
   "id": "moved-survivor",
   "metadata": {},
   "outputs": [
    {
     "data": {
      "text/plain": [
       "[<Worksheet \"MÁSCARA - CEFAG EMPREENDIMENTOS\">,\n",
       " <Worksheet \"HENRIQUE\">,\n",
       " <Worksheet \"COMPOSIÇÃO\">]"
      ]
     },
     "execution_count": 3,
     "metadata": {},
     "output_type": "execute_result"
    }
   ],
   "source": [
    "ls_work_sheets"
   ]
  },
  {
   "cell_type": "code",
   "execution_count": 4,
   "id": "cathedral-deputy",
   "metadata": {},
   "outputs": [],
   "source": [
    "arquivo_excel[\"MÁSCARA - CEFAG EMPREENDIMENTOS\"][\"D8\"] = \"afdasdaffffffffsadfa?BLSLIHL:\""
   ]
  },
  {
   "cell_type": "code",
   "execution_count": 5,
   "id": "dense-individual",
   "metadata": {},
   "outputs": [
    {
     "data": {
      "text/plain": [
       "<Worksheet \"COMPOSIÇÃO\">"
      ]
     },
     "execution_count": 5,
     "metadata": {},
     "output_type": "execute_result"
    }
   ],
   "source": [
    "arquivo_excel.save('sample_book.xlsx') \n",
    "arquivo_excel.active "
   ]
  },
  {
   "cell_type": "code",
   "execution_count": null,
   "id": "violent-actress",
   "metadata": {},
   "outputs": [],
   "source": []
  },
  {
   "cell_type": "code",
   "execution_count": null,
   "id": "medium-double",
   "metadata": {},
   "outputs": [],
   "source": []
  }
 ],
 "metadata": {
  "kernelspec": {
   "display_name": "Python 3",
   "language": "python",
   "name": "python3"
  },
  "language_info": {
   "codemirror_mode": {
    "name": "ipython",
    "version": 3
   },
   "file_extension": ".py",
   "mimetype": "text/x-python",
   "name": "python",
   "nbconvert_exporter": "python",
   "pygments_lexer": "ipython3",
   "version": "3.8.8"
  }
 },
 "nbformat": 4,
 "nbformat_minor": 5
}
