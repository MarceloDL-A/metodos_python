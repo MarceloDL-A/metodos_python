{
 "cells": [
  {
   "cell_type": "markdown",
   "id": "virtual-title",
   "metadata": {},
   "source": [
    "#### [APRENDA A INTEGRAR PYTHON E EXCEL](https://www.letscode.com.br/blog/aprenda-a-integrar-python-e-excel)"
   ]
  },
  {
   "cell_type": "raw",
   "id": "excited-portrait",
   "metadata": {},
   "source": [
    "!pip install openpyxl"
   ]
  },
  {
   "cell_type": "code",
   "execution_count": 1,
   "id": "seeing-watch",
   "metadata": {},
   "outputs": [],
   "source": [
    "from openpyxl import Workbook\n",
    "arquivo_excel = Workbook()"
   ]
  },
  {
   "cell_type": "code",
   "execution_count": 2,
   "id": "dutch-dynamics",
   "metadata": {},
   "outputs": [],
   "source": [
    "planilha1 = arquivo_excel.active"
   ]
  },
  {
   "cell_type": "code",
   "execution_count": 3,
   "id": "growing-homeless",
   "metadata": {},
   "outputs": [],
   "source": [
    "planilha1.title = \"Gastos\""
   ]
  },
  {
   "cell_type": "markdown",
   "id": "earned-ghana",
   "metadata": {},
   "source": [
    "#### Criando novas planilhas"
   ]
  },
  {
   "cell_type": "code",
   "execution_count": 4,
   "id": "enclosed-gauge",
   "metadata": {},
   "outputs": [],
   "source": [
    "planilha2 = arquivo_excel.create_sheet(\"Ganhos\", 0)"
   ]
  },
  {
   "cell_type": "code",
   "execution_count": 5,
   "id": "phantom-slave",
   "metadata": {},
   "outputs": [
    {
     "name": "stdout",
     "output_type": "stream",
     "text": [
      "['Ganhos', 'Gastos']\n"
     ]
    }
   ],
   "source": [
    "print(arquivo_excel.sheetnames)"
   ]
  },
  {
   "cell_type": "markdown",
   "id": "inner-marker",
   "metadata": {},
   "source": [
    "#### Adicionando Dados a Planilhas"
   ]
  },
  {
   "cell_type": "markdown",
   "id": "ceramic-motel",
   "metadata": {},
   "source": [
    "##### 1 – Atribuido valores a elementos específicos"
   ]
  },
  {
   "cell_type": "code",
   "execution_count": 6,
   "id": "minimal-diploma",
   "metadata": {},
   "outputs": [],
   "source": [
    "planilha1['A1'] = 'Categoria'\n",
    "planilha1['B1'] = 'Valor'\n",
    "planilha1['A2'] = \"Restaurante\"\n",
    "planilha1['B2'] = 45.99"
   ]
  },
  {
   "cell_type": "markdown",
   "id": "terminal-toilet",
   "metadata": {},
   "source": [
    "##### 2 – Adicionando um Grupo de Valores a última Linha Escrita"
   ]
  },
  {
   "cell_type": "code",
   "execution_count": 7,
   "id": "transparent-appointment",
   "metadata": {},
   "outputs": [],
   "source": [
    "valores = [\n",
    "    (\"Categoria\", \"Valor\"),\n",
    "    (\"Restaurante\", 45.99),\n",
    "    (\"Transporte\", 208.45),\n",
    "    (\"Viagem\", 558.54)\n",
    "]\n",
    "for linha in valores:\n",
    "    planilha1.append(linha)"
   ]
  },
  {
   "cell_type": "markdown",
   "id": "bibliographic-cross",
   "metadata": {},
   "source": [
    "##### 3 – Utilizando o método cell"
   ]
  },
  {
   "cell_type": "code",
   "execution_count": 8,
   "id": "ancient-designation",
   "metadata": {},
   "outputs": [
    {
     "data": {
      "text/plain": [
       "<Cell 'Gastos'.B3>"
      ]
     },
     "execution_count": 8,
     "metadata": {},
     "output_type": "execute_result"
    }
   ],
   "source": [
    "planilha1.cell(row=3, column=2, value=34.99)"
   ]
  },
  {
   "cell_type": "markdown",
   "id": "toxic-disposal",
   "metadata": {},
   "source": [
    "#### Adicionando Fórmulas"
   ]
  },
  {
   "cell_type": "code",
   "execution_count": 9,
   "id": "based-equity",
   "metadata": {},
   "outputs": [],
   "source": [
    "planilha1['B7'] = '=SOMA(B2:B6)'"
   ]
  },
  {
   "cell_type": "markdown",
   "id": "handed-routine",
   "metadata": {},
   "source": [
    "#### Lendo Dados da Planilha"
   ]
  },
  {
   "cell_type": "code",
   "execution_count": 10,
   "id": "mineral-return",
   "metadata": {},
   "outputs": [
    {
     "name": "stdout",
     "output_type": "stream",
     "text": [
      "None\n",
      "Categoria\n"
     ]
    }
   ],
   "source": [
    "# Utililizando em índices o nome das células como em um dicionário\n",
    "c1 = planilha1['C1']\n",
    "# Imprime o valor da célula C1\n",
    "print(c1.value)\n",
    "# Utilizando o método cell\n",
    "a1 = planilha1.cell(column=1, row=1)\n",
    "#Imprime o valor da célula a1\n",
    "print(a1.value)"
   ]
  },
  {
   "cell_type": "markdown",
   "id": "generic-stadium",
   "metadata": {},
   "source": [
    "##### Poderíamos utilizar a estrutura de repetição for para ler linha a linha da planilha:"
   ]
  },
  {
   "cell_type": "code",
   "execution_count": 11,
   "id": "legal-carnival",
   "metadata": {},
   "outputs": [
    {
     "name": "stdout",
     "output_type": "stream",
     "text": [
      "Categoria - Valor - None - Restaurante - 45.99 - None - Categoria - 34.99 - None - Restaurante - 45.99 - None - Transporte - 208.45 - None - Viagem - 558.54 - None - None - =SOMA(B2:B6) - None - "
     ]
    }
   ],
   "source": [
    "max_linha = planilha1.max_row\n",
    "max_coluna = planilha1.max_column\n",
    "for i in range(1, max_linha + 1):\n",
    "    for j in range(1, max_coluna + 1):\n",
    "        print(planilha1.cell(row=i, column=j).value, end=\" - \")"
   ]
  },
  {
   "cell_type": "markdown",
   "id": "secondary-employer",
   "metadata": {},
   "source": [
    "#### Salvando Sua Planilha"
   ]
  },
  {
   "cell_type": "code",
   "execution_count": 12,
   "id": "paperback-little",
   "metadata": {},
   "outputs": [],
   "source": [
    "arquivo_excel.save(\"relatorio.xlsx\")"
   ]
  },
  {
   "cell_type": "markdown",
   "id": "thirty-mixer",
   "metadata": {},
   "source": [
    "#### Carregando uma Planilha Existente"
   ]
  },
  {
   "cell_type": "code",
   "execution_count": 13,
   "id": "automatic-escape",
   "metadata": {},
   "outputs": [],
   "source": [
    "from openpyxl import load_workbook\n",
    "caminho = 'formatacao.xlsx'\n",
    "arquivo_excel2 = load_workbook(caminho)"
   ]
  },
  {
   "cell_type": "code",
   "execution_count": 14,
   "id": "smoking-individual",
   "metadata": {},
   "outputs": [],
   "source": [
    "arquivo_excel2.save(\"relatorio_002.xlsx\")"
   ]
  },
  {
   "cell_type": "markdown",
   "id": "molecular-firmware",
   "metadata": {},
   "source": [
    "#### Copiando os dados de uma planilha em outra"
   ]
  },
  {
   "cell_type": "code",
   "execution_count": 15,
   "id": "incoming-soviet",
   "metadata": {},
   "outputs": [
    {
     "name": "stderr",
     "output_type": "stream",
     "text": [
      "<ipython-input-15-b0394ad9ec2a>:1: DeprecationWarning: Call to deprecated function get_sheet_by_name (Use wb[sheetname]).\n",
      "  original = arquivo_excel.get_sheet_by_name('Gastos')\n"
     ]
    }
   ],
   "source": [
    "original = arquivo_excel.get_sheet_by_name('Gastos')\n",
    "copia = arquivo_excel.copy_worksheet(original)\n",
    "arquivo_excel.save('planilha.xlsx')"
   ]
  },
  {
   "cell_type": "code",
   "execution_count": null,
   "id": "federal-found",
   "metadata": {},
   "outputs": [],
   "source": []
  }
 ],
 "metadata": {
  "kernelspec": {
   "display_name": "Python 3",
   "language": "python",
   "name": "python3"
  },
  "language_info": {
   "codemirror_mode": {
    "name": "ipython",
    "version": 3
   },
   "file_extension": ".py",
   "mimetype": "text/x-python",
   "name": "python",
   "nbconvert_exporter": "python",
   "pygments_lexer": "ipython3",
   "version": "3.8.8"
  }
 },
 "nbformat": 4,
 "nbformat_minor": 5
}
