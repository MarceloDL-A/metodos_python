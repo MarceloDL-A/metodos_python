{
 "cells": [
  {
   "cell_type": "code",
   "execution_count": 1,
   "id": "considered-hammer",
   "metadata": {},
   "outputs": [
    {
     "name": "stdout",
     "output_type": "stream",
     "text": [
      "(<class 'TypeError'>, TypeError(\"unsupported operand type(s) for +: 'int' and 'str'\"), <traceback object at 0x0000028FFE0DCE80>)\n",
      "unsupported operand type(s) for +: 'int' and 'str'\n"
     ]
    }
   ],
   "source": [
    "import sys\n",
    "try:\n",
    "    d = 8\n",
    "    d = d + '5'\n",
    "    print(d + d)\\\n",
    "    \n",
    "except (TypeError, SyntaxError) as e:\n",
    "    print(sys.exc_info())\n",
    "    print(e)"
   ]
  },
  {
   "cell_type": "code",
   "execution_count": 4,
   "id": "verified-password",
   "metadata": {},
   "outputs": [
    {
     "name": "stdout",
     "output_type": "stream",
     "text": [
      "(<class 'TypeError'>, TypeError(\"unsupported operand type(s) for +: 'int' and 'str'\"), <traceback object at 0x0000028FFE048E80>)\n",
      "unsupported operand type(s) for +: 'int' and 'str'\n"
     ]
    }
   ],
   "source": [
    "import sys\n",
    "try:\n",
    "    d = 8\n",
    "    d = d + '5'\n",
    "    print(d + d)\n",
    "except (TypeError) as e:\n",
    "    print(sys.exc_info())\n",
    "    print(e)"
   ]
  },
  {
   "cell_type": "code",
   "execution_count": null,
   "id": "german-juice",
   "metadata": {},
   "outputs": [],
   "source": []
  },
  {
   "cell_type": "code",
   "execution_count": null,
   "id": "matched-deputy",
   "metadata": {},
   "outputs": [],
   "source": []
  }
 ],
 "metadata": {
  "kernelspec": {
   "display_name": "Python 3",
   "language": "python",
   "name": "python3"
  },
  "language_info": {
   "codemirror_mode": {
    "name": "ipython",
    "version": 3
   },
   "file_extension": ".py",
   "mimetype": "text/x-python",
   "name": "python",
   "nbconvert_exporter": "python",
   "pygments_lexer": "ipython3",
   "version": "3.8.8"
  }
 },
 "nbformat": 4,
 "nbformat_minor": 5
}
