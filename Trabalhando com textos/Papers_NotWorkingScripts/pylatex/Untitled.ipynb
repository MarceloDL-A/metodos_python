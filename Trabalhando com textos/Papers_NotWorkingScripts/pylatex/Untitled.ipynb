{
 "cells": [
  {
   "cell_type": "code",
   "execution_count": 4,
   "id": "average-forest",
   "metadata": {},
   "outputs": [],
   "source": [
    "__name__ = '__main__'"
   ]
  },
  {
   "cell_type": "code",
   "execution_count": 5,
   "id": "failing-surgery",
   "metadata": {},
   "outputs": [],
   "source": [
    "__file__='file'"
   ]
  },
  {
   "cell_type": "code",
   "execution_count": 6,
   "id": "charged-pharmacy",
   "metadata": {},
   "outputs": [
    {
     "name": "stdout",
     "output_type": "stream",
     "text": [
      "latexmk.exe: The script engine could not be found.\n",
      "latexmk.exe: Data: scriptEngine=\"perl.exe\"\n",
      "\n"
     ]
    },
    {
     "ename": "CalledProcessError",
     "evalue": "Command '['latexmk', '--pdf', '--interaction=nonstopmode', 'C:\\\\Users\\\\Marcelo Delmondes\\\\Desktop\\\\M\\\\Métodos\\\\Papers_NotWorkingScripts\\\\pylatex\\\\full.tex']' returned non-zero exit status 1.",
     "output_type": "error",
     "traceback": [
      "\u001b[1;31m---------------------------------------------------------------------------\u001b[0m",
      "\u001b[1;31mCalledProcessError\u001b[0m                        Traceback (most recent call last)",
      "\u001b[1;32mfile\u001b[0m in \u001b[0;36m<module>\u001b[1;34m\u001b[0m\n\u001b[0;32m     66\u001b[0m                 \u001b[0mkitten_pic\u001b[0m\u001b[1;33m.\u001b[0m\u001b[0madd_caption\u001b[0m\u001b[1;33m(\u001b[0m\u001b[1;34m'Look it\\'s on its back'\u001b[0m\u001b[1;33m)\u001b[0m\u001b[1;33m\u001b[0m\u001b[1;33m\u001b[0m\u001b[0m\n\u001b[0;32m     67\u001b[0m \u001b[1;33m\u001b[0m\u001b[0m\n\u001b[1;32m---> 68\u001b[1;33m     \u001b[0mdoc\u001b[0m\u001b[1;33m.\u001b[0m\u001b[0mgenerate_pdf\u001b[0m\u001b[1;33m(\u001b[0m\u001b[1;34m'full'\u001b[0m\u001b[1;33m,\u001b[0m \u001b[0mclean_tex\u001b[0m\u001b[1;33m=\u001b[0m\u001b[1;32mFalse\u001b[0m\u001b[1;33m)\u001b[0m\u001b[1;33m\u001b[0m\u001b[1;33m\u001b[0m\u001b[0m\n\u001b[0m",
      "\u001b[1;32mC:\\Anaconda\\lib\\site-packages\\pylatex\\document.py\u001b[0m in \u001b[0;36mgenerate_pdf\u001b[1;34m(self, filepath, clean, clean_tex, compiler, compiler_args, silent)\u001b[0m\n\u001b[0;32m    248\u001b[0m \u001b[1;33m\u001b[0m\u001b[0m\n\u001b[0;32m    249\u001b[0m             \u001b[1;32mtry\u001b[0m\u001b[1;33m:\u001b[0m\u001b[1;33m\u001b[0m\u001b[1;33m\u001b[0m\u001b[0m\n\u001b[1;32m--> 250\u001b[1;33m                 output = subprocess.check_output(command,\n\u001b[0m\u001b[0;32m    251\u001b[0m                                                  \u001b[0mstderr\u001b[0m\u001b[1;33m=\u001b[0m\u001b[0msubprocess\u001b[0m\u001b[1;33m.\u001b[0m\u001b[0mSTDOUT\u001b[0m\u001b[1;33m,\u001b[0m\u001b[1;33m\u001b[0m\u001b[1;33m\u001b[0m\u001b[0m\n\u001b[0;32m    252\u001b[0m                                                  **check_output_kwargs)\n",
      "\u001b[1;32mC:\\Anaconda\\lib\\subprocess.py\u001b[0m in \u001b[0;36mcheck_output\u001b[1;34m(timeout, *popenargs, **kwargs)\u001b[0m\n\u001b[0;32m    413\u001b[0m         \u001b[0mkwargs\u001b[0m\u001b[1;33m[\u001b[0m\u001b[1;34m'input'\u001b[0m\u001b[1;33m]\u001b[0m \u001b[1;33m=\u001b[0m \u001b[0mempty\u001b[0m\u001b[1;33m\u001b[0m\u001b[1;33m\u001b[0m\u001b[0m\n\u001b[0;32m    414\u001b[0m \u001b[1;33m\u001b[0m\u001b[0m\n\u001b[1;32m--> 415\u001b[1;33m     return run(*popenargs, stdout=PIPE, timeout=timeout, check=True,\n\u001b[0m\u001b[0;32m    416\u001b[0m                **kwargs).stdout\n\u001b[0;32m    417\u001b[0m \u001b[1;33m\u001b[0m\u001b[0m\n",
      "\u001b[1;32mC:\\Anaconda\\lib\\subprocess.py\u001b[0m in \u001b[0;36mrun\u001b[1;34m(input, capture_output, timeout, check, *popenargs, **kwargs)\u001b[0m\n\u001b[0;32m    514\u001b[0m         \u001b[0mretcode\u001b[0m \u001b[1;33m=\u001b[0m \u001b[0mprocess\u001b[0m\u001b[1;33m.\u001b[0m\u001b[0mpoll\u001b[0m\u001b[1;33m(\u001b[0m\u001b[1;33m)\u001b[0m\u001b[1;33m\u001b[0m\u001b[1;33m\u001b[0m\u001b[0m\n\u001b[0;32m    515\u001b[0m         \u001b[1;32mif\u001b[0m \u001b[0mcheck\u001b[0m \u001b[1;32mand\u001b[0m \u001b[0mretcode\u001b[0m\u001b[1;33m:\u001b[0m\u001b[1;33m\u001b[0m\u001b[1;33m\u001b[0m\u001b[0m\n\u001b[1;32m--> 516\u001b[1;33m             raise CalledProcessError(retcode, process.args,\n\u001b[0m\u001b[0;32m    517\u001b[0m                                      output=stdout, stderr=stderr)\n\u001b[0;32m    518\u001b[0m     \u001b[1;32mreturn\u001b[0m \u001b[0mCompletedProcess\u001b[0m\u001b[1;33m(\u001b[0m\u001b[0mprocess\u001b[0m\u001b[1;33m.\u001b[0m\u001b[0margs\u001b[0m\u001b[1;33m,\u001b[0m \u001b[0mretcode\u001b[0m\u001b[1;33m,\u001b[0m \u001b[0mstdout\u001b[0m\u001b[1;33m,\u001b[0m \u001b[0mstderr\u001b[0m\u001b[1;33m)\u001b[0m\u001b[1;33m\u001b[0m\u001b[1;33m\u001b[0m\u001b[0m\n",
      "\u001b[1;31mCalledProcessError\u001b[0m: Command '['latexmk', '--pdf', '--interaction=nonstopmode', 'C:\\\\Users\\\\Marcelo Delmondes\\\\Desktop\\\\M\\\\Métodos\\\\Papers_NotWorkingScripts\\\\pylatex\\\\full.tex']' returned non-zero exit status 1."
     ]
    }
   ],
   "source": [
    "import numpy as np\n",
    "\n",
    "from pylatex import Document, Section, Subsection, Tabular, Math, TikZ, Axis, \\\n",
    "    Plot, Figure, Matrix, Alignat\n",
    "from pylatex.utils import italic\n",
    "import os\n",
    "\n",
    "if __name__ == '__main__':\n",
    "    image_filename = os.path.join(os.path.dirname(__file__), 'Cute_grey_kitten.jpg')\n",
    "\n",
    "    geometry_options = {\"tmargin\": \"1cm\", \"lmargin\": \"10cm\"}\n",
    "    doc = Document(geometry_options=geometry_options)\n",
    "\n",
    "    with doc.create(Section('The simple stuff')):\n",
    "        doc.append('Some regular text and some')\n",
    "        doc.append(italic('italic text. '))\n",
    "        doc.append('\\nAlso some crazy characters: $&#{}')\n",
    "        with doc.create(Subsection('Math that is incorrect')):\n",
    "            doc.append(Math(data=['2*3', '=', 9]))\n",
    "\n",
    "        with doc.create(Subsection('Table of something')):\n",
    "            with doc.create(Tabular('rc|cl')) as table:\n",
    "                table.add_hline()\n",
    "                table.add_row((1, 2, 3, 4))\n",
    "                table.add_hline(1, 2)\n",
    "                table.add_empty_row()\n",
    "                table.add_row((4, 5, 6, 7))\n",
    "\n",
    "    a = np.array([[100, 10, 20]]).T\n",
    "    M = np.matrix([[2, 3, 4],\n",
    "                   [0, 0, 1],\n",
    "                   [0, 0, 2]])\n",
    "\n",
    "    with doc.create(Section('The fancy stuff')):\n",
    "        with doc.create(Subsection('Correct matrix equations')):\n",
    "            doc.append(Math(data=[Matrix(M), Matrix(a), '=', Matrix(M * a)]))\n",
    "\n",
    "        with doc.create(Subsection('Alignat math environment')):\n",
    "            with doc.create(Alignat(numbering=False, escape=False)) as agn:\n",
    "                agn.append(r'\\frac{a}{b} &= 0 \\\\')\n",
    "                agn.extend([Matrix(M), Matrix(a), '&=', Matrix(M * a)])\n",
    "\n",
    "        with doc.create(Subsection('Beautiful graphs')):\n",
    "            with doc.create(TikZ()):\n",
    "                plot_options = 'height=4cm, width=6cm, grid=major'\n",
    "                with doc.create(Axis(options=plot_options)) as plot:\n",
    "                    plot.append(Plot(name='model', func='-x^5 - 242'))\n",
    "\n",
    "                    coordinates = [\n",
    "                        (-4.77778, 2027.60977),\n",
    "                        (-3.55556, 347.84069),\n",
    "                        (-2.33333, 22.58953),\n",
    "                        (-1.11111, -493.50066),\n",
    "                        (0.11111, 46.66082),\n",
    "                        (1.33333, -205.56286),\n",
    "                        (2.55556, -341.40638),\n",
    "                        (3.77778, -1169.24780),\n",
    "                        (5.00000, -3269.56775),\n",
    "                    ]\n",
    "\n",
    "                    plot.append(Plot(name='estimate', coordinates=coordinates))\n",
    "\n",
    "        with doc.create(Subsection('Cute kitten pictures')):\n",
    "            with doc.create(Figure(position='h!')) as kitten_pic:\n",
    "                kitten_pic.add_image(image_filename, width='120px')\n",
    "                kitten_pic.add_caption('Look it\\'s on its back')\n",
    "\n",
    "    doc.generate_pdf('full', clean_tex=False)"
   ]
  },
  {
   "cell_type": "code",
   "execution_count": null,
   "id": "confidential-purpose",
   "metadata": {},
   "outputs": [],
   "source": []
  },
  {
   "cell_type": "code",
   "execution_count": null,
   "id": "liked-block",
   "metadata": {},
   "outputs": [],
   "source": []
  }
 ],
 "metadata": {
  "kernelspec": {
   "display_name": "Python 3",
   "language": "python",
   "name": "python3"
  },
  "language_info": {
   "codemirror_mode": {
    "name": "ipython",
    "version": 3
   },
   "file_extension": ".py",
   "mimetype": "text/x-python",
   "name": "python",
   "nbconvert_exporter": "python",
   "pygments_lexer": "ipython3",
   "version": "3.8.8"
  }
 },
 "nbformat": 4,
 "nbformat_minor": 5
}
