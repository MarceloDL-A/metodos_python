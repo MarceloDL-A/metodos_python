{
 "cells": [
  {
   "cell_type": "markdown",
   "metadata": {},
   "source": [
    "# A meta-analysis of the mechanical properties of ice-templated ceramics and metals\n",
    "\n",
    "Welcome to the notebook accompanying this paper: \"A meta-analysis of the mechanical properties of ice-templated ceramics and metals\", published in *Science and Technology of Advanced Materials* (link coming as soon as the paper is available online).\n",
    "\n",
    "Follow through the notebook to generate the plots published in the paper. You need to have *Matplotlib*, *Numpy*, and *Pandas* installed. If you are not familiar with the IPython notebook format, start here: <http://ipython.org/index.html>\n",
    "\n",
    "Your files and directories should be organized as follow, in your working directory:\n",
    "\n",
    "* *code*: contains this IPython notebook\n",
    "* *figures*: where all figures will be saved\n",
    "* *data*: where the CSV files should be. There are two sets of data: \n",
    "    * The data compiled from the literature review on ice templating (*icetemplating.csv*). \n",
    "    * The data corresponding to the properties of cellular ceramics (*studart.csv*), and compiled in this paper: Studart, A. R., Gonzenbach, U. T., Tervoort, E., & Gauckler, L. J. (2006). Processing Routes to Macroporous Ceramics: A Review. Journal of the American Ceramic Society, 89(6), 1771–1789. doi:10.1111/j.1551-2916.2006.01044.x The paper can be found here <http://www.blackwell-synergy.com/doi/abs/10.1111/j.1551-2916.2006.01044.x> (paywall)\n",
    "\n",
    "    You can download these sets of data from Figshare here: <http://dx.doi.org/10.6084/m9.figshare.1412626>\n",
    "\n",
    "-May, 2015. Sylvain Deville, Sylvain Meille, Jordi Seuba\n",
    "\n",
    "Email to <sylvaindeville@gmail.com> or tweet to <http://twitter.com/DevilleSy> if you have any questions or comments, or just want to say hi!"
   ]
  },
  {
   "cell_type": "raw",
   "metadata": {},
   "source": [
    "!pip install pandoc"
   ]
  },
  {
   "cell_type": "code",
   "execution_count": 3,
   "metadata": {
    "collapsed": false,
    "jupyter": {
     "outputs_hidden": false
    },
    "slideshow": {
     "slide_type": "slide"
    }
   },
   "outputs": [],
   "source": [
    "import pandas as pd"
   ]
  },
  {
   "cell_type": "code",
   "execution_count": 4,
   "metadata": {
    "collapsed": false,
    "jupyter": {
     "outputs_hidden": false
    },
    "slideshow": {
     "slide_type": "slide"
    }
   },
   "outputs": [],
   "source": [
    "import matplotlib.pyplot as plt"
   ]
  },
  {
   "cell_type": "code",
   "execution_count": 5,
   "metadata": {},
   "outputs": [],
   "source": [
    "import io"
   ]
  },
  {
   "cell_type": "code",
   "execution_count": 6,
   "metadata": {
    "collapsed": false,
    "jupyter": {
     "outputs_hidden": false
    },
    "slideshow": {
     "slide_type": "slide"
    }
   },
   "outputs": [],
   "source": [
    "from numpy import linspace\n",
    "from matplotlib import rc #for latex use on the plots\n",
    "from matplotlib.ticker import MultipleLocator, FormatStrFormatter # for labels formattings\n",
    "%matplotlib inline"
   ]
  },
  {
   "cell_type": "code",
   "execution_count": 7,
   "metadata": {
    "collapsed": false,
    "jupyter": {
     "outputs_hidden": false
    },
    "slideshow": {
     "slide_type": "slide"
    }
   },
   "outputs": [],
   "source": [
    "perso_linewidth = 0.3\n",
    "# This will change your default rcParams\n",
    "def init_plotting():\n",
    "    plt.rcParams['figure.figsize'] = (3,3)\n",
    "    plt.rcParams['font.size'] = 8\n",
    "    plt.rcParams['font.family'] = 'serif'\n",
    "    plt.rcParams['axes.labelsize'] = plt.rcParams['font.size']\n",
    "    plt.rcParams['axes.titlesize'] = 1.5*plt.rcParams['font.size']\n",
    "    plt.rcParams['legend.fontsize'] = plt.rcParams['font.size']\n",
    "    plt.rcParams['xtick.labelsize'] = plt.rcParams['font.size']\n",
    "    plt.rcParams['ytick.labelsize'] = plt.rcParams['font.size']\n",
    "#     plt.rcParams['savefig.dpi'] = int(2)*plt.rcParams['savefig.dpi']\n",
    "    plt.rcParams['axes.linewidth'] = perso_linewidth\n",
    "    plt.rcParams['savefig.dpi'] = '300'\n",
    "    plt.rcParams['axes.facecolor'] = 'white'\n",
    "    plt.rcParams['axes.edgecolor'] = '0'\n",
    "    plt.rcParams['axes.grid'] = False\n",
    "    plt.rcParams['grid.color']='white'\n",
    "    plt.rcParams['grid.linestyle'] = '-'\n",
    "    plt.rcParams['grid.linewidth'] = '0.1'\n",
    "    plt.rcParams['axes.axisbelow'] = True\n",
    "    plt.rcParams['lines.markersize']= 2.3 \n",
    "    plt.rcParams['lines.markeredgewidth']= '0.1'\n",
    "    plt.rcParams['lines.color']= 'r' \n",
    "    plt.rcParams['lines.marker']= 'o' \n",
    "    plt.rcParams['lines.linestyle']= '' \n",
    "    plt.rcParams['xtick.color']= '0'\n",
    "    plt.rcParams['ytick.color']= '0'\n",
    "#     plt.rcParams['axes.color_cycle']= ['#3778bf', '#feb308', '#a8a495', '#7bb274', '#825f87']\n",
    "    plt.gca().spines['right'].set_color('none')\n",
    "    plt.gca().spines['right'].set_visible('False')\n",
    "    plt.gca().spines['top'].set_visible('False')\n",
    "    plt.gca().spines['top'].set_color('none')\n",
    "    plt.gca().xaxis.set_ticks_position('bottom')\n",
    "    plt.gca().yaxis.set_ticks_position('left')\n",
    "    plt.rcParams['ytick.minor.size']= 1.5\n",
    "    plt.rcParams['ytick.major.width']= perso_linewidth\n",
    "    plt.rcParams['ytick.minor.width']= perso_linewidth\n",
    "    plt.rcParams['xtick.major.width']= perso_linewidth\n",
    "    plt.rcParams['xtick.minor.width']= perso_linewidth\n",
    "\n",
    "init_plotting()\n",
    "\n",
    "plt.close() # this line to avoid an empty plot showing up"
   ]
  },
  {
   "cell_type": "code",
   "execution_count": 8,
   "metadata": {
    "collapsed": false,
    "jupyter": {
     "outputs_hidden": false
    },
    "slideshow": {
     "slide_type": "slide"
    }
   },
   "outputs": [],
   "source": [
    "# function to list the bib key of papers used in the plots\n",
    "# The output is formatted to be used directly in Markdown. Pandoc can take care of the reference list from here.\n",
    "def list_authors(data):\n",
    "    authors = data.dropna()\n",
    "    authors = authors.drop_duplicates()\n",
    "    authors.tolist()\n",
    "    print (str(len(authors)) + \" papers\")\n",
    "    print ('@'+'; @'.join(authors))"
   ]
  },
  {
   "cell_type": "code",
   "execution_count": 9,
   "metadata": {
    "collapsed": false,
    "jupyter": {
     "outputs_hidden": false
    }
   },
   "outputs": [],
   "source": [
    "# common formatting for the plots, not passed as rcParams\n",
    "figuresize = 3\n",
    "titlefontsize = 8\n",
    "titleweight = 'bold'\n",
    "\n",
    "rc('font', **{'family':'serif', 'serif':['Palatino']})\n",
    "rc('text', usetex=True)"
   ]
  },
  {
   "cell_type": "markdown",
   "metadata": {},
   "source": [
    "# Mechanical models used to predict the compressive strength\n",
    "\n",
    "## Closed cells\n",
    "$$\\sigma=\\sigma_{p}\\left(C_6\\left(\\phi\\frac{\\rho^*}{\\rho_s}\\right)+C_{6}^{''}\\left(1-\\phi\\right)\\frac{\\rho^*}{\\rho_s}\\right) \\text{  (eq. 1)}$$ \n",
    "with $C_6=0.65$ and $C_6^\"=1$, and where $\\phi$ is the solid fraction in the edges, $\\rho_s$ and $\\rho^*$ the apparent density of the dense and cellular material respectively, and $\\sigma_p$ the modulus of rupture of the solid cell wall material.\n",
    "\n",
    "## Open cell, brittle crushing model\n",
    "$$\\sigma=\\sigma_{p}C_4\\left(\\frac{\\rho^*}{\\rho_s}\\right)^{3/2}\\text{  (eq. 2)}$$ \n",
    "with $C_4=0.2$, and where $\\sigma_{p}$ is the modulus of rupture of the solid cell wall material, and $\\rho_s$ and $\\rho^*$ the apparent density of the dense and cellular material respectively.\n",
    "\n",
    "## Honeycomb, out of plane\n",
    "$$\\sigma=6 E_s \\left(\\frac{\\rho^*}{\\rho_s}\\right)^3 \\text{  (eq. 3)}$$\n",
    "where $E_s$ the Young's modulus of the corresponding dense material, and $\\rho_s$ and $\\rho^*$ the apparent density of the dense and cellular material respectively."
   ]
  },
  {
   "cell_type": "code",
   "execution_count": 10,
   "metadata": {
    "jupyter": {
     "source_hidden": true
    },
    "tags": []
   },
   "outputs": [],
   "source": [
    "# Parameters of the Ashby model\n",
    "phi_edges = 0\n",
    "C2 = 0.2\n",
    "C6 = 0.65\n",
    "C6s = 1\n",
    "\n",
    "# data for the upper bound value of compressive strength vs porosity\n",
    "relative_density_table = linspace(0.0, 1.0, num=1000)\n",
    "relative_porosity = [(1-i)*100 for i in relative_density_table]\n",
    "\n",
    "# open cells model:\n",
    "brit_crush_str = [C2*i**(1.5) for i in relative_density_table]\n",
    "\n",
    "# closed cells models:\n",
    "closedcell_str = [C6*phi_edges*i +C6s*(1-phi_edges)*i for i in relative_density_table]\n",
    "\n",
    "# functions used to plot the prediction of the models on the plots\n",
    "def plot_upper_limit():\n",
    "        plt.plot(relative_porosity, brit_crush_str, linestyle=':', linewidth='0.5', marker='', dashes=[2, 2], color='0.5', zorder=1, dash_capstyle='round')\n",
    "        plt.plot(relative_porosity, closedcell_str, linestyle=':', linewidth='0.5', marker='', dashes=[2, 2], color='0.5', zorder=1, dash_capstyle='round')\n",
    "        \n",
    "def plot_upper_limit_log():\n",
    "        plt.plot(relative_density_table, brit_crush_str, linestyle=':', linewidth='0.5', marker='', dashes=[2, 2], color='0.5', zorder=1, dash_capstyle='round')\n",
    "        plt.plot(relative_density_table, closedcell_str, linestyle=':', linewidth='0.5', marker='', dashes=[2, 2], color='0.5', zorder=1, dash_capstyle='round')        \n",
    "\n",
    "strength_table = linspace(0.1, 1000.0, num=10000)\n",
    "        \n",
    "def plot_upper_limit_honeycomb():\n",
    "        plt.plot(strength_table, strength_table, linestyle='--', linewidth='0.5', marker='', dashes=[2, 2], color='0.5', zorder=1, dash_capstyle='round', markevery='2')    \n"
   ]
  },
  {
   "cell_type": "markdown",
   "metadata": {},
   "source": [
    "# Load the data"
   ]
  },
  {
   "cell_type": "code",
   "execution_count": 11,
   "metadata": {
    "colab": {
     "autoexec": {
      "startup": false,
      "wait_interval": 0
     }
    },
    "colab_type": "code",
    "id": "y3wDs8XXb8nC"
   },
   "outputs": [],
   "source": [
    "import numpy as np\n",
    "import pandas as pd\n",
    "from sklearn.model_selection import train_test_split\n",
    "from sklearn.neighbors import KNeighborsClassifier\n",
    "from sklearn.metrics import confusion_matrix"
   ]
  },
  {
   "cell_type": "code",
   "execution_count": 12,
   "metadata": {},
   "outputs": [
    {
     "data": {
      "text/html": [
       "<div>\n",
       "<style scoped>\n",
       "    .dataframe tbody tr th:only-of-type {\n",
       "        vertical-align: middle;\n",
       "    }\n",
       "\n",
       "    .dataframe tbody tr th {\n",
       "        vertical-align: top;\n",
       "    }\n",
       "\n",
       "    .dataframe thead th {\n",
       "        text-align: right;\n",
       "    }\n",
       "</style>\n",
       "<table border=\"1\" class=\"dataframe\">\n",
       "  <thead>\n",
       "    <tr style=\"text-align: right;\">\n",
       "      <th></th>\n",
       "      <th>Device</th>\n",
       "      <th>Size [cm2]</th>\n",
       "      <th>Temperature [C]</th>\n",
       "      <th>Irradiance [W/m2]</th>\n",
       "      <th>Jsc [mA/cm2]</th>\n",
       "      <th>Isc [mA]</th>\n",
       "      <th>Voc [mV]</th>\n",
       "      <th>Impp [mA]</th>\n",
       "      <th>Vmpp [mV]</th>\n",
       "      <th>Pmpp [mW]</th>\n",
       "      <th>...</th>\n",
       "      <th>f2</th>\n",
       "      <th>f5</th>\n",
       "      <th>f8</th>\n",
       "      <th>f10</th>\n",
       "      <th>Ref GaAs</th>\n",
       "      <th>QDSKmeio</th>\n",
       "      <th>QDSKfundo</th>\n",
       "      <th>QDSK</th>\n",
       "      <th>I+</th>\n",
       "      <th>Si</th>\n",
       "    </tr>\n",
       "  </thead>\n",
       "  <tbody>\n",
       "    <tr>\n",
       "      <th>0</th>\n",
       "      <td>3906</td>\n",
       "      <td>0.035387</td>\n",
       "      <td>25.360</td>\n",
       "      <td>995.050732</td>\n",
       "      <td>16.742954</td>\n",
       "      <td>0.592484</td>\n",
       "      <td>882.761335</td>\n",
       "      <td>0.520127</td>\n",
       "      <td>714.941595</td>\n",
       "      <td>0.371861</td>\n",
       "      <td>...</td>\n",
       "      <td>0</td>\n",
       "      <td>0</td>\n",
       "      <td>0</td>\n",
       "      <td>0</td>\n",
       "      <td>0</td>\n",
       "      <td>0</td>\n",
       "      <td>0</td>\n",
       "      <td>0</td>\n",
       "      <td>0</td>\n",
       "      <td>0</td>\n",
       "    </tr>\n",
       "    <tr>\n",
       "      <th>1</th>\n",
       "      <td>3906</td>\n",
       "      <td>0.037082</td>\n",
       "      <td>25.465</td>\n",
       "      <td>995.050732</td>\n",
       "      <td>16.809543</td>\n",
       "      <td>0.623330</td>\n",
       "      <td>903.100750</td>\n",
       "      <td>0.569063</td>\n",
       "      <td>738.691294</td>\n",
       "      <td>0.420362</td>\n",
       "      <td>...</td>\n",
       "      <td>0</td>\n",
       "      <td>0</td>\n",
       "      <td>0</td>\n",
       "      <td>0</td>\n",
       "      <td>0</td>\n",
       "      <td>0</td>\n",
       "      <td>0</td>\n",
       "      <td>0</td>\n",
       "      <td>0</td>\n",
       "      <td>0</td>\n",
       "    </tr>\n",
       "    <tr>\n",
       "      <th>2</th>\n",
       "      <td>3906</td>\n",
       "      <td>0.036205</td>\n",
       "      <td>25.405</td>\n",
       "      <td>995.050732</td>\n",
       "      <td>16.808316</td>\n",
       "      <td>0.608537</td>\n",
       "      <td>905.901882</td>\n",
       "      <td>0.567865</td>\n",
       "      <td>748.108530</td>\n",
       "      <td>0.424825</td>\n",
       "      <td>...</td>\n",
       "      <td>0</td>\n",
       "      <td>0</td>\n",
       "      <td>0</td>\n",
       "      <td>0</td>\n",
       "      <td>0</td>\n",
       "      <td>0</td>\n",
       "      <td>0</td>\n",
       "      <td>0</td>\n",
       "      <td>0</td>\n",
       "      <td>0</td>\n",
       "    </tr>\n",
       "    <tr>\n",
       "      <th>3</th>\n",
       "      <td>3906</td>\n",
       "      <td>0.102450</td>\n",
       "      <td>25.000</td>\n",
       "      <td>990.831707</td>\n",
       "      <td>12.553037</td>\n",
       "      <td>1.286059</td>\n",
       "      <td>882.503050</td>\n",
       "      <td>1.179564</td>\n",
       "      <td>732.329341</td>\n",
       "      <td>0.863829</td>\n",
       "      <td>...</td>\n",
       "      <td>0</td>\n",
       "      <td>0</td>\n",
       "      <td>0</td>\n",
       "      <td>0</td>\n",
       "      <td>0</td>\n",
       "      <td>0</td>\n",
       "      <td>0</td>\n",
       "      <td>0</td>\n",
       "      <td>0</td>\n",
       "      <td>0</td>\n",
       "    </tr>\n",
       "    <tr>\n",
       "      <th>4</th>\n",
       "      <td>3906</td>\n",
       "      <td>0.102450</td>\n",
       "      <td>25.000</td>\n",
       "      <td>990.831707</td>\n",
       "      <td>12.436932</td>\n",
       "      <td>1.274164</td>\n",
       "      <td>883.127060</td>\n",
       "      <td>1.168964</td>\n",
       "      <td>734.897123</td>\n",
       "      <td>0.859068</td>\n",
       "      <td>...</td>\n",
       "      <td>0</td>\n",
       "      <td>0</td>\n",
       "      <td>0</td>\n",
       "      <td>0</td>\n",
       "      <td>0</td>\n",
       "      <td>0</td>\n",
       "      <td>0</td>\n",
       "      <td>0</td>\n",
       "      <td>0</td>\n",
       "      <td>0</td>\n",
       "    </tr>\n",
       "    <tr>\n",
       "      <th>...</th>\n",
       "      <td>...</td>\n",
       "      <td>...</td>\n",
       "      <td>...</td>\n",
       "      <td>...</td>\n",
       "      <td>...</td>\n",
       "      <td>...</td>\n",
       "      <td>...</td>\n",
       "      <td>...</td>\n",
       "      <td>...</td>\n",
       "      <td>...</td>\n",
       "      <td>...</td>\n",
       "      <td>...</td>\n",
       "      <td>...</td>\n",
       "      <td>...</td>\n",
       "      <td>...</td>\n",
       "      <td>...</td>\n",
       "      <td>...</td>\n",
       "      <td>...</td>\n",
       "      <td>...</td>\n",
       "      <td>...</td>\n",
       "      <td>...</td>\n",
       "    </tr>\n",
       "    <tr>\n",
       "      <th>2765</th>\n",
       "      <td>3975</td>\n",
       "      <td>0.048300</td>\n",
       "      <td>25.000</td>\n",
       "      <td>998.034634</td>\n",
       "      <td>16.977690</td>\n",
       "      <td>0.820022</td>\n",
       "      <td>945.689372</td>\n",
       "      <td>0.772679</td>\n",
       "      <td>810.879477</td>\n",
       "      <td>0.626549</td>\n",
       "      <td>...</td>\n",
       "      <td>0</td>\n",
       "      <td>0</td>\n",
       "      <td>1</td>\n",
       "      <td>0</td>\n",
       "      <td>0</td>\n",
       "      <td>0</td>\n",
       "      <td>0</td>\n",
       "      <td>0</td>\n",
       "      <td>0</td>\n",
       "      <td>0</td>\n",
       "    </tr>\n",
       "    <tr>\n",
       "      <th>2766</th>\n",
       "      <td>3975</td>\n",
       "      <td>0.048300</td>\n",
       "      <td>25.000</td>\n",
       "      <td>998.034634</td>\n",
       "      <td>17.139725</td>\n",
       "      <td>0.827849</td>\n",
       "      <td>946.851068</td>\n",
       "      <td>0.778047</td>\n",
       "      <td>808.880230</td>\n",
       "      <td>0.629347</td>\n",
       "      <td>...</td>\n",
       "      <td>0</td>\n",
       "      <td>0</td>\n",
       "      <td>1</td>\n",
       "      <td>0</td>\n",
       "      <td>0</td>\n",
       "      <td>0</td>\n",
       "      <td>0</td>\n",
       "      <td>0</td>\n",
       "      <td>0</td>\n",
       "      <td>0</td>\n",
       "    </tr>\n",
       "    <tr>\n",
       "      <th>2767</th>\n",
       "      <td>3975</td>\n",
       "      <td>0.048300</td>\n",
       "      <td>25.000</td>\n",
       "      <td>998.034634</td>\n",
       "      <td>17.103985</td>\n",
       "      <td>0.826122</td>\n",
       "      <td>933.315074</td>\n",
       "      <td>0.774141</td>\n",
       "      <td>785.604613</td>\n",
       "      <td>0.608169</td>\n",
       "      <td>...</td>\n",
       "      <td>0</td>\n",
       "      <td>0</td>\n",
       "      <td>1</td>\n",
       "      <td>0</td>\n",
       "      <td>0</td>\n",
       "      <td>0</td>\n",
       "      <td>0</td>\n",
       "      <td>0</td>\n",
       "      <td>0</td>\n",
       "      <td>0</td>\n",
       "    </tr>\n",
       "    <tr>\n",
       "      <th>2768</th>\n",
       "      <td>3975</td>\n",
       "      <td>0.048300</td>\n",
       "      <td>25.000</td>\n",
       "      <td>998.034634</td>\n",
       "      <td>17.129158</td>\n",
       "      <td>0.827338</td>\n",
       "      <td>936.091055</td>\n",
       "      <td>0.775803</td>\n",
       "      <td>786.010630</td>\n",
       "      <td>0.609789</td>\n",
       "      <td>...</td>\n",
       "      <td>0</td>\n",
       "      <td>0</td>\n",
       "      <td>1</td>\n",
       "      <td>0</td>\n",
       "      <td>0</td>\n",
       "      <td>0</td>\n",
       "      <td>0</td>\n",
       "      <td>0</td>\n",
       "      <td>0</td>\n",
       "      <td>0</td>\n",
       "    </tr>\n",
       "    <tr>\n",
       "      <th>2769</th>\n",
       "      <td>3975</td>\n",
       "      <td>0.048300</td>\n",
       "      <td>25.000</td>\n",
       "      <td>998.034634</td>\n",
       "      <td>17.139725</td>\n",
       "      <td>0.827849</td>\n",
       "      <td>946.851068</td>\n",
       "      <td>0.778047</td>\n",
       "      <td>808.880230</td>\n",
       "      <td>0.629347</td>\n",
       "      <td>...</td>\n",
       "      <td>0</td>\n",
       "      <td>0</td>\n",
       "      <td>1</td>\n",
       "      <td>0</td>\n",
       "      <td>0</td>\n",
       "      <td>0</td>\n",
       "      <td>0</td>\n",
       "      <td>0</td>\n",
       "      <td>0</td>\n",
       "      <td>0</td>\n",
       "    </tr>\n",
       "  </tbody>\n",
       "</table>\n",
       "<p>2770 rows × 57 columns</p>\n",
       "</div>"
      ],
      "text/plain": [
       "     Device   Size [cm2]  Temperature [C]  Irradiance [W/m2]  Jsc [mA/cm2]  \\\n",
       "0       3906    0.035387           25.360         995.050732     16.742954   \n",
       "1       3906    0.037082           25.465         995.050732     16.809543   \n",
       "2       3906    0.036205           25.405         995.050732     16.808316   \n",
       "3       3906    0.102450           25.000         990.831707     12.553037   \n",
       "4       3906    0.102450           25.000         990.831707     12.436932   \n",
       "...      ...         ...              ...                ...           ...   \n",
       "2765    3975    0.048300           25.000         998.034634     16.977690   \n",
       "2766    3975    0.048300           25.000         998.034634     17.139725   \n",
       "2767    3975    0.048300           25.000         998.034634     17.103985   \n",
       "2768    3975    0.048300           25.000         998.034634     17.129158   \n",
       "2769    3975    0.048300           25.000         998.034634     17.139725   \n",
       "\n",
       "      Isc [mA]    Voc [mV]  Impp [mA]   Vmpp [mV]  Pmpp [mW]  ... f2  f5  f8  \\\n",
       "0     0.592484  882.761335   0.520127  714.941595   0.371861  ...  0   0   0   \n",
       "1     0.623330  903.100750   0.569063  738.691294   0.420362  ...  0   0   0   \n",
       "2     0.608537  905.901882   0.567865  748.108530   0.424825  ...  0   0   0   \n",
       "3     1.286059  882.503050   1.179564  732.329341   0.863829  ...  0   0   0   \n",
       "4     1.274164  883.127060   1.168964  734.897123   0.859068  ...  0   0   0   \n",
       "...        ...         ...        ...         ...        ...  ... ..  ..  ..   \n",
       "2765  0.820022  945.689372   0.772679  810.879477   0.626549  ...  0   0   1   \n",
       "2766  0.827849  946.851068   0.778047  808.880230   0.629347  ...  0   0   1   \n",
       "2767  0.826122  933.315074   0.774141  785.604613   0.608169  ...  0   0   1   \n",
       "2768  0.827338  936.091055   0.775803  786.010630   0.609789  ...  0   0   1   \n",
       "2769  0.827849  946.851068   0.778047  808.880230   0.629347  ...  0   0   1   \n",
       "\n",
       "      f10  Ref GaAs  QDSKmeio  QDSKfundo  QDSK  I+ Si  \n",
       "0       0         0         0          0     0   0  0  \n",
       "1       0         0         0          0     0   0  0  \n",
       "2       0         0         0          0     0   0  0  \n",
       "3       0         0         0          0     0   0  0  \n",
       "4       0         0         0          0     0   0  0  \n",
       "...   ...       ...       ...        ...   ...  .. ..  \n",
       "2765    0         0         0          0     0   0  0  \n",
       "2766    0         0         0          0     0   0  0  \n",
       "2767    0         0         0          0     0   0  0  \n",
       "2768    0         0         0          0     0   0  0  \n",
       "2769    0         0         0          0     0   0  0  \n",
       "\n",
       "[2770 rows x 57 columns]"
      ]
     },
     "execution_count": 12,
     "metadata": {},
     "output_type": "execute_result"
    }
   ],
   "source": [
    "df = pd.read_csv(\"CSs_dados_tratados_002.csv\", )\n",
    "df"
   ]
  },
  {
   "cell_type": "code",
   "execution_count": 15,
   "metadata": {
    "collapsed": false,
    "jupyter": {
     "outputs_hidden": false
    }
   },
   "outputs": [
    {
     "data": {
      "text/html": [
       "<div>\n",
       "<style scoped>\n",
       "    .dataframe tbody tr th:only-of-type {\n",
       "        vertical-align: middle;\n",
       "    }\n",
       "\n",
       "    .dataframe tbody tr th {\n",
       "        vertical-align: top;\n",
       "    }\n",
       "\n",
       "    .dataframe thead th {\n",
       "        text-align: right;\n",
       "    }\n",
       "</style>\n",
       "<table border=\"1\" class=\"dataframe\">\n",
       "  <thead>\n",
       "    <tr style=\"text-align: right;\">\n",
       "      <th></th>\n",
       "      <th>Mendeley key</th>\n",
       "      <th>Citation</th>\n",
       "      <th>Solvant</th>\n",
       "      <th>Material</th>\n",
       "      <th>Material class</th>\n",
       "      <th>Ceramic class</th>\n",
       "      <th>Constant temperature</th>\n",
       "      <th>Cooling rate</th>\n",
       "      <th>Interface velocity</th>\n",
       "      <th>Wall thickness</th>\n",
       "      <th>...</th>\n",
       "      <th>Youngs Modulus (MPa)</th>\n",
       "      <th>Normalized Young Modulus</th>\n",
       "      <th>green body ?</th>\n",
       "      <th>Compressive strength dense material</th>\n",
       "      <th>Flexural strength dense material</th>\n",
       "      <th>Normalized strength (compression)</th>\n",
       "      <th>Normalized strength (flexion)</th>\n",
       "      <th>E_dense</th>\n",
       "      <th>Honeycomb_Ashby</th>\n",
       "      <th>Normalized_strength_Elastic_modulus</th>\n",
       "    </tr>\n",
       "  </thead>\n",
       "  <tbody>\n",
       "    <tr>\n",
       "      <th>0</th>\n",
       "      <td>Shen2014a</td>\n",
       "      <td>Shen, P., Xi, J., Fu, Y., Shaga, A., Sun, C., ...</td>\n",
       "      <td>water</td>\n",
       "      <td>alumina</td>\n",
       "      <td>cera</td>\n",
       "      <td>oxide</td>\n",
       "      <td>NaN</td>\n",
       "      <td>NaN</td>\n",
       "      <td>NaN</td>\n",
       "      <td>10-71</td>\n",
       "      <td>...</td>\n",
       "      <td>NaN</td>\n",
       "      <td>NaN</td>\n",
       "      <td>0.0</td>\n",
       "      <td>2600.0</td>\n",
       "      <td>400.0</td>\n",
       "      <td>0.017500</td>\n",
       "      <td>NaN</td>\n",
       "      <td>390.0</td>\n",
       "      <td>69.71094</td>\n",
       "      <td>0.017949</td>\n",
       "    </tr>\n",
       "    <tr>\n",
       "      <th>1</th>\n",
       "      <td>Shen2014a</td>\n",
       "      <td>Shen, P., Xi, J., Fu, Y., Shaga, A., Sun, C., ...</td>\n",
       "      <td>water</td>\n",
       "      <td>alumina</td>\n",
       "      <td>cera</td>\n",
       "      <td>oxide</td>\n",
       "      <td>NaN</td>\n",
       "      <td>NaN</td>\n",
       "      <td>NaN</td>\n",
       "      <td>8-58</td>\n",
       "      <td>...</td>\n",
       "      <td>NaN</td>\n",
       "      <td>NaN</td>\n",
       "      <td>0.0</td>\n",
       "      <td>2600.0</td>\n",
       "      <td>400.0</td>\n",
       "      <td>0.055000</td>\n",
       "      <td>NaN</td>\n",
       "      <td>390.0</td>\n",
       "      <td>91.97136</td>\n",
       "      <td>0.056410</td>\n",
       "    </tr>\n",
       "    <tr>\n",
       "      <th>2</th>\n",
       "      <td>Shen2014a</td>\n",
       "      <td>Shen, P., Xi, J., Fu, Y., Shaga, A., Sun, C., ...</td>\n",
       "      <td>water</td>\n",
       "      <td>alumina</td>\n",
       "      <td>cera</td>\n",
       "      <td>oxide</td>\n",
       "      <td>NaN</td>\n",
       "      <td>NaN</td>\n",
       "      <td>NaN</td>\n",
       "      <td>10-72</td>\n",
       "      <td>...</td>\n",
       "      <td>NaN</td>\n",
       "      <td>NaN</td>\n",
       "      <td>0.0</td>\n",
       "      <td>2600.0</td>\n",
       "      <td>400.0</td>\n",
       "      <td>0.160000</td>\n",
       "      <td>0.00500</td>\n",
       "      <td>390.0</td>\n",
       "      <td>161.27514</td>\n",
       "      <td>0.164103</td>\n",
       "    </tr>\n",
       "    <tr>\n",
       "      <th>3</th>\n",
       "      <td>Yang2014</td>\n",
       "      <td>Yang, H., Ye, F., Liu, Q., Liu, S., Gao, Y., &amp;...</td>\n",
       "      <td>water</td>\n",
       "      <td>silicon nitride+alumina+yttria</td>\n",
       "      <td>cera</td>\n",
       "      <td>covalent</td>\n",
       "      <td>NaN</td>\n",
       "      <td>NaN</td>\n",
       "      <td>NaN</td>\n",
       "      <td>NaN</td>\n",
       "      <td>...</td>\n",
       "      <td>NaN</td>\n",
       "      <td>NaN</td>\n",
       "      <td>0.0</td>\n",
       "      <td>3200.0</td>\n",
       "      <td>1000.0</td>\n",
       "      <td>NaN</td>\n",
       "      <td>0.00087</td>\n",
       "      <td>NaN</td>\n",
       "      <td>NaN</td>\n",
       "      <td>NaN</td>\n",
       "    </tr>\n",
       "    <tr>\n",
       "      <th>4</th>\n",
       "      <td>Yang2014</td>\n",
       "      <td>Yang, H., Ye, F., Liu, Q., Liu, S., Gao, Y., &amp;...</td>\n",
       "      <td>water</td>\n",
       "      <td>silicon nitride+alumina+yttria</td>\n",
       "      <td>cera</td>\n",
       "      <td>covalent</td>\n",
       "      <td>NaN</td>\n",
       "      <td>NaN</td>\n",
       "      <td>NaN</td>\n",
       "      <td>NaN</td>\n",
       "      <td>...</td>\n",
       "      <td>NaN</td>\n",
       "      <td>NaN</td>\n",
       "      <td>0.0</td>\n",
       "      <td>3200.0</td>\n",
       "      <td>1000.0</td>\n",
       "      <td>NaN</td>\n",
       "      <td>0.00112</td>\n",
       "      <td>NaN</td>\n",
       "      <td>NaN</td>\n",
       "      <td>NaN</td>\n",
       "    </tr>\n",
       "    <tr>\n",
       "      <th>...</th>\n",
       "      <td>...</td>\n",
       "      <td>...</td>\n",
       "      <td>...</td>\n",
       "      <td>...</td>\n",
       "      <td>...</td>\n",
       "      <td>...</td>\n",
       "      <td>...</td>\n",
       "      <td>...</td>\n",
       "      <td>...</td>\n",
       "      <td>...</td>\n",
       "      <td>...</td>\n",
       "      <td>...</td>\n",
       "      <td>...</td>\n",
       "      <td>...</td>\n",
       "      <td>...</td>\n",
       "      <td>...</td>\n",
       "      <td>...</td>\n",
       "      <td>...</td>\n",
       "      <td>...</td>\n",
       "      <td>...</td>\n",
       "      <td>...</td>\n",
       "    </tr>\n",
       "    <tr>\n",
       "      <th>661</th>\n",
       "      <td>Li2015b</td>\n",
       "      <td>Li, W., Porter, M. M., Olevsky, E. A., German,...</td>\n",
       "      <td>NaN</td>\n",
       "      <td>titania</td>\n",
       "      <td>cera</td>\n",
       "      <td>oxide</td>\n",
       "      <td>NaN</td>\n",
       "      <td>10.0</td>\n",
       "      <td>NaN</td>\n",
       "      <td>NaN</td>\n",
       "      <td>...</td>\n",
       "      <td>NaN</td>\n",
       "      <td>NaN</td>\n",
       "      <td>0.0</td>\n",
       "      <td>700.0</td>\n",
       "      <td>400.0</td>\n",
       "      <td>0.004700</td>\n",
       "      <td>NaN</td>\n",
       "      <td>220.0</td>\n",
       "      <td>2.90004</td>\n",
       "      <td>0.008545</td>\n",
       "    </tr>\n",
       "    <tr>\n",
       "      <th>662</th>\n",
       "      <td>Li2015b</td>\n",
       "      <td>Li, W., Porter, M. M., Olevsky, E. A., German,...</td>\n",
       "      <td>NaN</td>\n",
       "      <td>titania</td>\n",
       "      <td>cera</td>\n",
       "      <td>oxide</td>\n",
       "      <td>NaN</td>\n",
       "      <td>10.0</td>\n",
       "      <td>NaN</td>\n",
       "      <td>NaN</td>\n",
       "      <td>...</td>\n",
       "      <td>NaN</td>\n",
       "      <td>NaN</td>\n",
       "      <td>0.0</td>\n",
       "      <td>700.0</td>\n",
       "      <td>400.0</td>\n",
       "      <td>0.002825</td>\n",
       "      <td>NaN</td>\n",
       "      <td>220.0</td>\n",
       "      <td>4.45500</td>\n",
       "      <td>0.005136</td>\n",
       "    </tr>\n",
       "    <tr>\n",
       "      <th>663</th>\n",
       "      <td>Li2015b</td>\n",
       "      <td>Li, W., Porter, M. M., Olevsky, E. A., German,...</td>\n",
       "      <td>NaN</td>\n",
       "      <td>titania</td>\n",
       "      <td>cera</td>\n",
       "      <td>oxide</td>\n",
       "      <td>NaN</td>\n",
       "      <td>10.0</td>\n",
       "      <td>NaN</td>\n",
       "      <td>NaN</td>\n",
       "      <td>...</td>\n",
       "      <td>NaN</td>\n",
       "      <td>NaN</td>\n",
       "      <td>0.0</td>\n",
       "      <td>700.0</td>\n",
       "      <td>400.0</td>\n",
       "      <td>0.009700</td>\n",
       "      <td>NaN</td>\n",
       "      <td>220.0</td>\n",
       "      <td>20.62500</td>\n",
       "      <td>0.017636</td>\n",
       "    </tr>\n",
       "    <tr>\n",
       "      <th>664</th>\n",
       "      <td>Li2015b</td>\n",
       "      <td>Li, W., Porter, M. M., Olevsky, E. A., German,...</td>\n",
       "      <td>NaN</td>\n",
       "      <td>titania</td>\n",
       "      <td>cera</td>\n",
       "      <td>oxide</td>\n",
       "      <td>NaN</td>\n",
       "      <td>10.0</td>\n",
       "      <td>NaN</td>\n",
       "      <td>NaN</td>\n",
       "      <td>...</td>\n",
       "      <td>NaN</td>\n",
       "      <td>NaN</td>\n",
       "      <td>0.0</td>\n",
       "      <td>700.0</td>\n",
       "      <td>400.0</td>\n",
       "      <td>1.285000</td>\n",
       "      <td>NaN</td>\n",
       "      <td>220.0</td>\n",
       "      <td>492.68736</td>\n",
       "      <td>2.336364</td>\n",
       "    </tr>\n",
       "    <tr>\n",
       "      <th>665</th>\n",
       "      <td>NaN</td>\n",
       "      <td>NaN</td>\n",
       "      <td>NaN</td>\n",
       "      <td>NaN</td>\n",
       "      <td>NaN</td>\n",
       "      <td>NaN</td>\n",
       "      <td>NaN</td>\n",
       "      <td>NaN</td>\n",
       "      <td>NaN</td>\n",
       "      <td>NaN</td>\n",
       "      <td>...</td>\n",
       "      <td>NaN</td>\n",
       "      <td>NaN</td>\n",
       "      <td>NaN</td>\n",
       "      <td>NaN</td>\n",
       "      <td>NaN</td>\n",
       "      <td>NaN</td>\n",
       "      <td>NaN</td>\n",
       "      <td>NaN</td>\n",
       "      <td>NaN</td>\n",
       "      <td>NaN</td>\n",
       "    </tr>\n",
       "  </tbody>\n",
       "</table>\n",
       "<p>666 rows × 40 columns</p>\n",
       "</div>"
      ],
      "text/plain": [
       "    Mendeley key                                           Citation Solvant  \\\n",
       "0      Shen2014a  Shen, P., Xi, J., Fu, Y., Shaga, A., Sun, C., ...   water   \n",
       "1      Shen2014a  Shen, P., Xi, J., Fu, Y., Shaga, A., Sun, C., ...   water   \n",
       "2      Shen2014a  Shen, P., Xi, J., Fu, Y., Shaga, A., Sun, C., ...   water   \n",
       "3       Yang2014  Yang, H., Ye, F., Liu, Q., Liu, S., Gao, Y., &...   water   \n",
       "4       Yang2014  Yang, H., Ye, F., Liu, Q., Liu, S., Gao, Y., &...   water   \n",
       "..           ...                                                ...     ...   \n",
       "661      Li2015b  Li, W., Porter, M. M., Olevsky, E. A., German,...     NaN   \n",
       "662      Li2015b  Li, W., Porter, M. M., Olevsky, E. A., German,...     NaN   \n",
       "663      Li2015b  Li, W., Porter, M. M., Olevsky, E. A., German,...     NaN   \n",
       "664      Li2015b  Li, W., Porter, M. M., Olevsky, E. A., German,...     NaN   \n",
       "665          NaN                                                NaN     NaN   \n",
       "\n",
       "                           Material Material class Ceramic class  \\\n",
       "0                           alumina           cera         oxide   \n",
       "1                           alumina           cera         oxide   \n",
       "2                           alumina           cera         oxide   \n",
       "3    silicon nitride+alumina+yttria           cera      covalent   \n",
       "4    silicon nitride+alumina+yttria           cera      covalent   \n",
       "..                              ...            ...           ...   \n",
       "661                         titania           cera         oxide   \n",
       "662                         titania           cera         oxide   \n",
       "663                         titania           cera         oxide   \n",
       "664                         titania           cera         oxide   \n",
       "665                             NaN            NaN           NaN   \n",
       "\n",
       "     Constant temperature  Cooling rate  Interface velocity Wall thickness  \\\n",
       "0                     NaN           NaN                 NaN          10-71   \n",
       "1                     NaN           NaN                 NaN           8-58   \n",
       "2                     NaN           NaN                 NaN          10-72   \n",
       "3                     NaN           NaN                 NaN            NaN   \n",
       "4                     NaN           NaN                 NaN            NaN   \n",
       "..                    ...           ...                 ...            ...   \n",
       "661                   NaN          10.0                 NaN            NaN   \n",
       "662                   NaN          10.0                 NaN            NaN   \n",
       "663                   NaN          10.0                 NaN            NaN   \n",
       "664                   NaN          10.0                 NaN            NaN   \n",
       "665                   NaN           NaN                 NaN            NaN   \n",
       "\n",
       "     ...  Youngs Modulus (MPa) Normalized Young Modulus green body ?  \\\n",
       "0    ...                   NaN                      NaN          0.0   \n",
       "1    ...                   NaN                      NaN          0.0   \n",
       "2    ...                   NaN                      NaN          0.0   \n",
       "3    ...                   NaN                      NaN          0.0   \n",
       "4    ...                   NaN                      NaN          0.0   \n",
       "..   ...                   ...                      ...          ...   \n",
       "661  ...                   NaN                      NaN          0.0   \n",
       "662  ...                   NaN                      NaN          0.0   \n",
       "663  ...                   NaN                      NaN          0.0   \n",
       "664  ...                   NaN                      NaN          0.0   \n",
       "665  ...                   NaN                      NaN          NaN   \n",
       "\n",
       "    Compressive strength dense material Flexural strength dense material  \\\n",
       "0                                2600.0                            400.0   \n",
       "1                                2600.0                            400.0   \n",
       "2                                2600.0                            400.0   \n",
       "3                                3200.0                           1000.0   \n",
       "4                                3200.0                           1000.0   \n",
       "..                                  ...                              ...   \n",
       "661                               700.0                            400.0   \n",
       "662                               700.0                            400.0   \n",
       "663                               700.0                            400.0   \n",
       "664                               700.0                            400.0   \n",
       "665                                 NaN                              NaN   \n",
       "\n",
       "     Normalized strength (compression)  Normalized strength (flexion) E_dense  \\\n",
       "0                             0.017500                            NaN   390.0   \n",
       "1                             0.055000                            NaN   390.0   \n",
       "2                             0.160000                        0.00500   390.0   \n",
       "3                                  NaN                        0.00087     NaN   \n",
       "4                                  NaN                        0.00112     NaN   \n",
       "..                                 ...                            ...     ...   \n",
       "661                           0.004700                            NaN   220.0   \n",
       "662                           0.002825                            NaN   220.0   \n",
       "663                           0.009700                            NaN   220.0   \n",
       "664                           1.285000                            NaN   220.0   \n",
       "665                                NaN                            NaN     NaN   \n",
       "\n",
       "    Honeycomb_Ashby  Normalized_strength_Elastic_modulus  \n",
       "0          69.71094                             0.017949  \n",
       "1          91.97136                             0.056410  \n",
       "2         161.27514                             0.164103  \n",
       "3               NaN                                  NaN  \n",
       "4               NaN                                  NaN  \n",
       "..              ...                                  ...  \n",
       "661         2.90004                             0.008545  \n",
       "662         4.45500                             0.005136  \n",
       "663        20.62500                             0.017636  \n",
       "664       492.68736                             2.336364  \n",
       "665             NaN                                  NaN  \n",
       "\n",
       "[666 rows x 40 columns]"
      ]
     },
     "execution_count": 15,
     "metadata": {},
     "output_type": "execute_result"
    }
   ],
   "source": [
    "# data = pd.io.parsers.read_csv('icetemplating.csv', sep=';', decimal=',')\n",
    "data = pd.io.parsers.read_csv('icetemplating.csv', sep=';', decimal=',')\n",
    "data"
   ]
  },
  {
   "cell_type": "code",
   "execution_count": 16,
   "metadata": {
    "collapsed": false,
    "jupyter": {
     "outputs_hidden": false
    }
   },
   "outputs": [
    {
     "ename": "FileNotFoundError",
     "evalue": "[Errno 2] No such file or directory: 'studart.csv'",
     "output_type": "error",
     "traceback": [
      "\u001b[1;31m---------------------------------------------------------------------------\u001b[0m",
      "\u001b[1;31mFileNotFoundError\u001b[0m                         Traceback (most recent call last)",
      "\u001b[1;32m<ipython-input-16-1833bd28e219>\u001b[0m in \u001b[0;36m<module>\u001b[1;34m\u001b[0m\n\u001b[1;32m----> 1\u001b[1;33m \u001b[0mfoams\u001b[0m \u001b[1;33m=\u001b[0m \u001b[0mpd\u001b[0m\u001b[1;33m.\u001b[0m\u001b[0mio\u001b[0m\u001b[1;33m.\u001b[0m\u001b[0mparsers\u001b[0m\u001b[1;33m.\u001b[0m\u001b[0mread_csv\u001b[0m\u001b[1;33m(\u001b[0m\u001b[1;34m'studart.csv'\u001b[0m\u001b[1;33m,\u001b[0m \u001b[0msep\u001b[0m\u001b[1;33m=\u001b[0m\u001b[1;34m';'\u001b[0m\u001b[1;33m,\u001b[0m \u001b[0mdecimal\u001b[0m\u001b[1;33m=\u001b[0m\u001b[1;34m','\u001b[0m\u001b[1;33m)\u001b[0m\u001b[1;33m\u001b[0m\u001b[1;33m\u001b[0m\u001b[0m\n\u001b[0m",
      "\u001b[1;32mC:\\Anaconda\\lib\\site-packages\\pandas\\io\\parsers.py\u001b[0m in \u001b[0;36mread_csv\u001b[1;34m(filepath_or_buffer, sep, delimiter, header, names, index_col, usecols, squeeze, prefix, mangle_dupe_cols, dtype, engine, converters, true_values, false_values, skipinitialspace, skiprows, skipfooter, nrows, na_values, keep_default_na, na_filter, verbose, skip_blank_lines, parse_dates, infer_datetime_format, keep_date_col, date_parser, dayfirst, cache_dates, iterator, chunksize, compression, thousands, decimal, lineterminator, quotechar, quoting, doublequote, escapechar, comment, encoding, dialect, error_bad_lines, warn_bad_lines, delim_whitespace, low_memory, memory_map, float_precision, storage_options)\u001b[0m\n\u001b[0;32m    608\u001b[0m     \u001b[0mkwds\u001b[0m\u001b[1;33m.\u001b[0m\u001b[0mupdate\u001b[0m\u001b[1;33m(\u001b[0m\u001b[0mkwds_defaults\u001b[0m\u001b[1;33m)\u001b[0m\u001b[1;33m\u001b[0m\u001b[1;33m\u001b[0m\u001b[0m\n\u001b[0;32m    609\u001b[0m \u001b[1;33m\u001b[0m\u001b[0m\n\u001b[1;32m--> 610\u001b[1;33m     \u001b[1;32mreturn\u001b[0m \u001b[0m_read\u001b[0m\u001b[1;33m(\u001b[0m\u001b[0mfilepath_or_buffer\u001b[0m\u001b[1;33m,\u001b[0m \u001b[0mkwds\u001b[0m\u001b[1;33m)\u001b[0m\u001b[1;33m\u001b[0m\u001b[1;33m\u001b[0m\u001b[0m\n\u001b[0m\u001b[0;32m    611\u001b[0m \u001b[1;33m\u001b[0m\u001b[0m\n\u001b[0;32m    612\u001b[0m \u001b[1;33m\u001b[0m\u001b[0m\n",
      "\u001b[1;32mC:\\Anaconda\\lib\\site-packages\\pandas\\io\\parsers.py\u001b[0m in \u001b[0;36m_read\u001b[1;34m(filepath_or_buffer, kwds)\u001b[0m\n\u001b[0;32m    460\u001b[0m \u001b[1;33m\u001b[0m\u001b[0m\n\u001b[0;32m    461\u001b[0m     \u001b[1;31m# Create the parser.\u001b[0m\u001b[1;33m\u001b[0m\u001b[1;33m\u001b[0m\u001b[1;33m\u001b[0m\u001b[0m\n\u001b[1;32m--> 462\u001b[1;33m     \u001b[0mparser\u001b[0m \u001b[1;33m=\u001b[0m \u001b[0mTextFileReader\u001b[0m\u001b[1;33m(\u001b[0m\u001b[0mfilepath_or_buffer\u001b[0m\u001b[1;33m,\u001b[0m \u001b[1;33m**\u001b[0m\u001b[0mkwds\u001b[0m\u001b[1;33m)\u001b[0m\u001b[1;33m\u001b[0m\u001b[1;33m\u001b[0m\u001b[0m\n\u001b[0m\u001b[0;32m    463\u001b[0m \u001b[1;33m\u001b[0m\u001b[0m\n\u001b[0;32m    464\u001b[0m     \u001b[1;32mif\u001b[0m \u001b[0mchunksize\u001b[0m \u001b[1;32mor\u001b[0m \u001b[0miterator\u001b[0m\u001b[1;33m:\u001b[0m\u001b[1;33m\u001b[0m\u001b[1;33m\u001b[0m\u001b[0m\n",
      "\u001b[1;32mC:\\Anaconda\\lib\\site-packages\\pandas\\io\\parsers.py\u001b[0m in \u001b[0;36m__init__\u001b[1;34m(self, f, engine, **kwds)\u001b[0m\n\u001b[0;32m    817\u001b[0m             \u001b[0mself\u001b[0m\u001b[1;33m.\u001b[0m\u001b[0moptions\u001b[0m\u001b[1;33m[\u001b[0m\u001b[1;34m\"has_index_names\"\u001b[0m\u001b[1;33m]\u001b[0m \u001b[1;33m=\u001b[0m \u001b[0mkwds\u001b[0m\u001b[1;33m[\u001b[0m\u001b[1;34m\"has_index_names\"\u001b[0m\u001b[1;33m]\u001b[0m\u001b[1;33m\u001b[0m\u001b[1;33m\u001b[0m\u001b[0m\n\u001b[0;32m    818\u001b[0m \u001b[1;33m\u001b[0m\u001b[0m\n\u001b[1;32m--> 819\u001b[1;33m         \u001b[0mself\u001b[0m\u001b[1;33m.\u001b[0m\u001b[0m_engine\u001b[0m \u001b[1;33m=\u001b[0m \u001b[0mself\u001b[0m\u001b[1;33m.\u001b[0m\u001b[0m_make_engine\u001b[0m\u001b[1;33m(\u001b[0m\u001b[0mself\u001b[0m\u001b[1;33m.\u001b[0m\u001b[0mengine\u001b[0m\u001b[1;33m)\u001b[0m\u001b[1;33m\u001b[0m\u001b[1;33m\u001b[0m\u001b[0m\n\u001b[0m\u001b[0;32m    820\u001b[0m \u001b[1;33m\u001b[0m\u001b[0m\n\u001b[0;32m    821\u001b[0m     \u001b[1;32mdef\u001b[0m \u001b[0mclose\u001b[0m\u001b[1;33m(\u001b[0m\u001b[0mself\u001b[0m\u001b[1;33m)\u001b[0m\u001b[1;33m:\u001b[0m\u001b[1;33m\u001b[0m\u001b[1;33m\u001b[0m\u001b[0m\n",
      "\u001b[1;32mC:\\Anaconda\\lib\\site-packages\\pandas\\io\\parsers.py\u001b[0m in \u001b[0;36m_make_engine\u001b[1;34m(self, engine)\u001b[0m\n\u001b[0;32m   1048\u001b[0m             )\n\u001b[0;32m   1049\u001b[0m         \u001b[1;31m# error: Too many arguments for \"ParserBase\"\u001b[0m\u001b[1;33m\u001b[0m\u001b[1;33m\u001b[0m\u001b[1;33m\u001b[0m\u001b[0m\n\u001b[1;32m-> 1050\u001b[1;33m         \u001b[1;32mreturn\u001b[0m \u001b[0mmapping\u001b[0m\u001b[1;33m[\u001b[0m\u001b[0mengine\u001b[0m\u001b[1;33m]\u001b[0m\u001b[1;33m(\u001b[0m\u001b[0mself\u001b[0m\u001b[1;33m.\u001b[0m\u001b[0mf\u001b[0m\u001b[1;33m,\u001b[0m \u001b[1;33m**\u001b[0m\u001b[0mself\u001b[0m\u001b[1;33m.\u001b[0m\u001b[0moptions\u001b[0m\u001b[1;33m)\u001b[0m  \u001b[1;31m# type: ignore[call-arg]\u001b[0m\u001b[1;33m\u001b[0m\u001b[1;33m\u001b[0m\u001b[0m\n\u001b[0m\u001b[0;32m   1051\u001b[0m \u001b[1;33m\u001b[0m\u001b[0m\n\u001b[0;32m   1052\u001b[0m     \u001b[1;32mdef\u001b[0m \u001b[0m_failover_to_python\u001b[0m\u001b[1;33m(\u001b[0m\u001b[0mself\u001b[0m\u001b[1;33m)\u001b[0m\u001b[1;33m:\u001b[0m\u001b[1;33m\u001b[0m\u001b[1;33m\u001b[0m\u001b[0m\n",
      "\u001b[1;32mC:\\Anaconda\\lib\\site-packages\\pandas\\io\\parsers.py\u001b[0m in \u001b[0;36m__init__\u001b[1;34m(self, src, **kwds)\u001b[0m\n\u001b[0;32m   1865\u001b[0m \u001b[1;33m\u001b[0m\u001b[0m\n\u001b[0;32m   1866\u001b[0m         \u001b[1;31m# open handles\u001b[0m\u001b[1;33m\u001b[0m\u001b[1;33m\u001b[0m\u001b[1;33m\u001b[0m\u001b[0m\n\u001b[1;32m-> 1867\u001b[1;33m         \u001b[0mself\u001b[0m\u001b[1;33m.\u001b[0m\u001b[0m_open_handles\u001b[0m\u001b[1;33m(\u001b[0m\u001b[0msrc\u001b[0m\u001b[1;33m,\u001b[0m \u001b[0mkwds\u001b[0m\u001b[1;33m)\u001b[0m\u001b[1;33m\u001b[0m\u001b[1;33m\u001b[0m\u001b[0m\n\u001b[0m\u001b[0;32m   1868\u001b[0m         \u001b[1;32massert\u001b[0m \u001b[0mself\u001b[0m\u001b[1;33m.\u001b[0m\u001b[0mhandles\u001b[0m \u001b[1;32mis\u001b[0m \u001b[1;32mnot\u001b[0m \u001b[1;32mNone\u001b[0m\u001b[1;33m\u001b[0m\u001b[1;33m\u001b[0m\u001b[0m\n\u001b[0;32m   1869\u001b[0m         \u001b[1;32mfor\u001b[0m \u001b[0mkey\u001b[0m \u001b[1;32min\u001b[0m \u001b[1;33m(\u001b[0m\u001b[1;34m\"storage_options\"\u001b[0m\u001b[1;33m,\u001b[0m \u001b[1;34m\"encoding\"\u001b[0m\u001b[1;33m,\u001b[0m \u001b[1;34m\"memory_map\"\u001b[0m\u001b[1;33m,\u001b[0m \u001b[1;34m\"compression\"\u001b[0m\u001b[1;33m)\u001b[0m\u001b[1;33m:\u001b[0m\u001b[1;33m\u001b[0m\u001b[1;33m\u001b[0m\u001b[0m\n",
      "\u001b[1;32mC:\\Anaconda\\lib\\site-packages\\pandas\\io\\parsers.py\u001b[0m in \u001b[0;36m_open_handles\u001b[1;34m(self, src, kwds)\u001b[0m\n\u001b[0;32m   1360\u001b[0m         \u001b[0mLet\u001b[0m \u001b[0mthe\u001b[0m \u001b[0mreaders\u001b[0m \u001b[0mopen\u001b[0m \u001b[0mIOHanldes\u001b[0m \u001b[0mafter\u001b[0m \u001b[0mthey\u001b[0m \u001b[0mare\u001b[0m \u001b[0mdone\u001b[0m \u001b[1;32mwith\u001b[0m \u001b[0mtheir\u001b[0m \u001b[0mpotential\u001b[0m \u001b[0mraises\u001b[0m\u001b[1;33m.\u001b[0m\u001b[1;33m\u001b[0m\u001b[1;33m\u001b[0m\u001b[0m\n\u001b[0;32m   1361\u001b[0m         \"\"\"\n\u001b[1;32m-> 1362\u001b[1;33m         self.handles = get_handle(\n\u001b[0m\u001b[0;32m   1363\u001b[0m             \u001b[0msrc\u001b[0m\u001b[1;33m,\u001b[0m\u001b[1;33m\u001b[0m\u001b[1;33m\u001b[0m\u001b[0m\n\u001b[0;32m   1364\u001b[0m             \u001b[1;34m\"r\"\u001b[0m\u001b[1;33m,\u001b[0m\u001b[1;33m\u001b[0m\u001b[1;33m\u001b[0m\u001b[0m\n",
      "\u001b[1;32mC:\\Anaconda\\lib\\site-packages\\pandas\\io\\common.py\u001b[0m in \u001b[0;36mget_handle\u001b[1;34m(path_or_buf, mode, encoding, compression, memory_map, is_text, errors, storage_options)\u001b[0m\n\u001b[0;32m    640\u001b[0m                 \u001b[0merrors\u001b[0m \u001b[1;33m=\u001b[0m \u001b[1;34m\"replace\"\u001b[0m\u001b[1;33m\u001b[0m\u001b[1;33m\u001b[0m\u001b[0m\n\u001b[0;32m    641\u001b[0m             \u001b[1;31m# Encoding\u001b[0m\u001b[1;33m\u001b[0m\u001b[1;33m\u001b[0m\u001b[1;33m\u001b[0m\u001b[0m\n\u001b[1;32m--> 642\u001b[1;33m             handle = open(\n\u001b[0m\u001b[0;32m    643\u001b[0m                 \u001b[0mhandle\u001b[0m\u001b[1;33m,\u001b[0m\u001b[1;33m\u001b[0m\u001b[1;33m\u001b[0m\u001b[0m\n\u001b[0;32m    644\u001b[0m                 \u001b[0mioargs\u001b[0m\u001b[1;33m.\u001b[0m\u001b[0mmode\u001b[0m\u001b[1;33m,\u001b[0m\u001b[1;33m\u001b[0m\u001b[1;33m\u001b[0m\u001b[0m\n",
      "\u001b[1;31mFileNotFoundError\u001b[0m: [Errno 2] No such file or directory: 'studart.csv'"
     ]
    }
   ],
   "source": [
    "foams = pd.io.parsers.read_csv('studart.csv', sep=';', decimal=',')"
   ]
  },
  {
   "cell_type": "markdown",
   "metadata": {},
   "source": [
    "# Create a few subsets of data"
   ]
  },
  {
   "cell_type": "code",
   "execution_count": null,
   "metadata": {
    "collapsed": false,
    "jupyter": {
     "outputs_hidden": false
    }
   },
   "outputs": [],
   "source": [
    "water = data[(data['Solvant'] == 'water') & (data['green body ?'] < 1)]\n",
    "camphene = data[(data['Solvant'] == 'camphene')]\n",
    "tba = data[(data['Solvant'] == 'TBA')]\n",
    "\n",
    "cellular = data[(data['failure mode'] == 'cellular')]\n",
    "brittle = data[(data['failure mode'] == 'brittle')]\n",
    "failureunknown = data[(data['failure mode'] == '?')]\n",
    "\n",
    "defects = data[(data['Defects'] == 'yes')]\n",
    "nodefects = data[(data['Defects'] == 'no')]\n",
    "notsureifdefects = data[(data['Defects'] == '?')]\n",
    "\n",
    "withparticlesize = data[(data['Granulo poudre'] > 0)]"
   ]
  },
  {
   "cell_type": "markdown",
   "metadata": {},
   "source": [
    "# Porosity vs. solid loading, for the three most commonly used solvents\n",
    "Figure 3 of the paper"
   ]
  },
  {
   "cell_type": "code",
   "execution_count": null,
   "metadata": {},
   "outputs": [],
   "source": [
    "from matplotlib.texmanager import TexManager"
   ]
  },
  {
   "cell_type": "code",
   "execution_count": null,
   "metadata": {},
   "outputs": [],
   "source": [
    "import sys, os, math, tempfile, atexit, shutil\n",
    "from joblib import Parallel, delayed\n",
    "import matplotlib.texmanager"
   ]
  },
  {
   "cell_type": "code",
   "execution_count": null,
   "metadata": {},
   "outputs": [],
   "source": [
    "TexManager()"
   ]
  },
  {
   "cell_type": "code",
   "execution_count": null,
   "metadata": {},
   "outputs": [],
   "source": [
    "# Subprocess function\n",
    "def subprocess_task():\n",
    "    mpldir = tempfile.mkdtemp()\n",
    "    atexit.register(shutil.rmtree, mpldir)\n",
    "    umask = os.umask(0)\n",
    "    os.umask(umask)\n",
    "    os.chmod(mpldir, 0o777 & ~umask)\n",
    "    os.environ['HOME'] = mpldir\n",
    "    os.environ['MPLCONFIGDIR'] = mpldir\n",
    "    import matplotlib\n",
    "    class TexManager(matplotlib.texmanager.TexManager):\n",
    "        texcache = os.path.join(mpldir, 'tex.cache')\n",
    "    matplotlib.texmanager.TexManager = TexManager\n",
    "    matplotlib.rcParams['ps.useafm'] = True\n",
    "    matplotlib.rcParams['pdf.use14corefonts'] = True\n",
    "    matplotlib.rcParams['text.usetex'] = True\n",
    "\n",
    "    # From here on, safe to use matplotlib in parallel\n",
    "\n",
    "\n",
    "# Main process function\n",
    "def mainprocess_task(n_threads=32):\n",
    "    import numpy as np\n",
    "    import matplotlib.pyplot as plt\n",
    "    with Parallel(n_jobs=n_threads) as parallel:\n",
    "        parallel(delayed(subprocess_task)() for i in range(0,256))"
   ]
  },
  {
   "cell_type": "code",
   "execution_count": null,
   "metadata": {
    "collapsed": false,
    "jupyter": {
     "outputs_hidden": false
    }
   },
   "outputs": [],
   "source": [
    "subprocess_task()"
   ]
  },
  {
   "cell_type": "code",
   "execution_count": null,
   "metadata": {},
   "outputs": [],
   "source": [
    "mainprocess_task(n_threads=32)"
   ]
  },
  {
   "cell_type": "code",
   "execution_count": null,
   "metadata": {},
   "outputs": [],
   "source": [
    "fig = plt.figure(figsize = (3*figuresize, figuresize))\n",
    "\n",
    "ax = fig.add_subplot(1,3,1)\n",
    "plt.plot(water['Solid Loading'], water['Porosity'])\n",
    "ax.set_xlabel('Solid Loading (vol.\\%)')\n",
    "ax.set_ylabel('Porosity (\\%)')\n",
    "plt.title('Water', fontsize=titlefontsize, weight=titleweight)\n",
    "plt.xlim(0,65)\n",
    "plt.ylim(0,100)\n",
    "\n",
    "ax = fig.add_subplot(1,3,2)\n",
    "plt.plot(camphene['Solid Loading'], camphene['Porosity'])\n",
    "ax.set_xlabel('Solid Loading (vol.\\%)')\n",
    "plt.xlim(0,65)\n",
    "plt.ylim(0,100)\n",
    "ax.set_yticklabels([])\n",
    "plt.title('Camphene', fontsize=titlefontsize, weight=titleweight)\n",
    "\n",
    "ax = fig.add_subplot(1,3,3)\n",
    "plt.plot(tba['Solid Loading'], tba['Porosity'])\n",
    "ax.set_xlabel('Solid Loading (vol.\\%)')\n",
    "plt.xlim(0,65)\n",
    "plt.ylim(0,100)\n",
    "ax.set_yticklabels([])\n",
    "plt.title('TBA', fontsize=titlefontsize, weight=titleweight)\n",
    "\n",
    "plt.tight_layout()\n",
    "fig.savefig('../figures/figure3.png')"
   ]
  },
  {
   "cell_type": "markdown",
   "metadata": {},
   "source": [
    "# Range of pore size achieved for the three most commonly used solvents\n",
    "Figure 4 of the paper"
   ]
  },
  {
   "cell_type": "code",
   "execution_count": null,
   "metadata": {
    "collapsed": false,
    "jupyter": {
     "outputs_hidden": false
    }
   },
   "outputs": [],
   "source": [
    "#extract the data with a pore value\n",
    "water_porewidth = water[(water['Pore width'] > 0)]\n",
    "camphene_porewidth = camphene[(camphene['Pore width'] > 0)]\n",
    "tba_porewidth = tba[(tba['Pore width'] > 0)]\n",
    "\n",
    "water_porewidth = water['Pore width'].tolist()\n",
    "camphene_porewidth = camphene['Pore width'].tolist()\n",
    "tba_porewidth = tba['Pore width'].tolist()\n",
    "\n",
    "# remove duplicate values\n",
    "water_porewidth = list(set(water_porewidth))\n",
    "camphene_porewidth = list(set(camphene_porewidth))\n",
    "tba_porewidth = list(set(tba_porewidth))\n",
    "\n",
    "# remove NaN and sort list\n",
    "water_porewidth = [x for x in water_porewidth if x>0]\n",
    "water_porewidth.sort()\n",
    "\n",
    "camphene_porewidth = [x for x in camphene_porewidth if x>0]\n",
    "camphene_porewidth.sort()\n",
    "\n",
    "tba_porewidth = [x for x in tba_porewidth if x>0]\n",
    "tba_porewidth.sort()\n",
    "\n",
    "# Figure \n",
    "fig = plt.figure(figsize=(figuresize, 0.75*figuresize))\n",
    "ax1 = fig.add_subplot(131)\n",
    "ax1.plot(water_porewidth)\n",
    "ax1.set_yscale('log')\n",
    "ax1.set_ylabel('Pore size (\\mu m)')\n",
    "rectangle = plt.Rectangle((-1, min(water_porewidth)), len(water_porewidth)+1, max(water_porewidth)-min(water_porewidth), color='0.9', zorder=0)\n",
    "plt.gca().add_patch(rectangle)\n",
    "plt.ylim(0,500)\n",
    "plt.xlim(-1,len(water_porewidth))\n",
    "plt.title('Water', fontsize=titlefontsize)\n",
    "plt.gca().xaxis.set_major_locator(plt.NullLocator())\n",
    "\n",
    "ax2 = fig.add_subplot(132, sharey=ax1)\n",
    "ax2.plot(camphene_porewidth)\n",
    "ax2.ticklabel_format(axis='both', visible=False)\n",
    "plt.setp(ax2.get_xticklabels(), visible=False)\n",
    "plt.setp(ax2.get_yticklabels(), visible=False)\n",
    "rectangle = plt.Rectangle((-1, min(camphene_porewidth)), len(camphene_porewidth)+1, max(camphene_porewidth)-min(camphene_porewidth), color='0.9', zorder=0)\n",
    "plt.gca().add_patch(rectangle)\n",
    "plt.ylim(0,500)\n",
    "plt.xlim(-1,len(camphene_porewidth))\n",
    "plt.title('Camphene', fontsize=titlefontsize)\n",
    "plt.gca().xaxis.set_major_locator(plt.NullLocator())\n",
    "\n",
    "ax3 = fig.add_subplot(133, sharey=ax1)\n",
    "ax3.plot(tba_porewidth)\n",
    "ax3.ticklabel_format(visible=False)\n",
    "plt.setp(ax3.get_xticklabels(), visible=False)\n",
    "plt.setp(ax3.get_yticklabels(), visible=False)\n",
    "rectangle = plt.Rectangle((-1, min(tba_porewidth)), len(tba_porewidth)+1, max(tba_porewidth)-min(tba_porewidth), color='0.9', zorder=0)\n",
    "plt.gca().add_patch(rectangle)\n",
    "plt.ylim(1,1000)\n",
    "plt.xlim(-1,len(tba_porewidth))\n",
    "plt.title('TBA', fontsize=titlefontsize)\n",
    "plt.tight_layout()\n",
    "fig.subplots_adjust(wspace=0)\n",
    "plt.gca().xaxis.set_major_locator(plt.NullLocator())\n",
    "\n",
    "fig.savefig('../figures/figure4.png')"
   ]
  },
  {
   "cell_type": "markdown",
   "metadata": {},
   "source": [
    "# Pore size vs. total porosity content, all solvents\n",
    "Figure 5 of the paper"
   ]
  },
  {
   "cell_type": "code",
   "execution_count": null,
   "metadata": {
    "collapsed": false,
    "jupyter": {
     "outputs_hidden": false
    }
   },
   "outputs": [],
   "source": [
    "fig = plt.figure()\n",
    "ax = fig.add_subplot(1,1,1)\n",
    "plt.plot(data['Porosity'], data['Pore width'])\n",
    "ax.set_ylabel('Pore size (\\mu m)')\n",
    "ax.set_xlabel('Porosity (\\%)')\n",
    "#ax.set_yscale('log')\n",
    "plt.ylim(-10, 520)\n",
    "plt.xlim(15, 100)\n",
    "plt.tight_layout()\n",
    "fig.savefig('../figures/figure5.png')"
   ]
  },
  {
   "cell_type": "markdown",
   "metadata": {},
   "source": [
    "# Overview of the compressive strength achieved\n",
    "Figure 6 of the paper"
   ]
  },
  {
   "cell_type": "code",
   "execution_count": null,
   "metadata": {
    "collapsed": false,
    "jupyter": {
     "outputs_hidden": false
    }
   },
   "outputs": [],
   "source": [
    "from scipy.optimize import curve_fit\n",
    "\n",
    "# function used to fit the regression. Strength is assumed to vary with the power law of the relative density\n",
    "def func (x, a, b, c):\n",
    "    return a*(1-x/100)**b+c\n",
    "\n",
    "fig = plt.figure()\n",
    "\n",
    "# fit the data with a regression analysis\n",
    "data_bis = data[(data['Porosity'] > 0) & (data['Normalized strength (compression)'] > 0)]\n",
    "fitParamsIT, fitCovIT = curve_fit(func, data_bis['Porosity'], data_bis['Normalized strength (compression)'])\n",
    "porosity_table = linspace(0, 100.0, num=10000)\n",
    "\n",
    "ax = fig.add_subplot(1,1,1)\n",
    "plt.plot(data['Porosity'], data['Normalized strength (compression)'])\n",
    "plt.plot(foams['porosity'], foams['norm strength'])\n",
    "plt.plot(porosity_table, func(porosity_table, fitParamsIT[0], fitParamsIT[1], fitParamsIT[2]), marker='', linestyle=':', color='k', dashes=[0.3, 2], zorder=1, dash_capstyle='round')\n",
    "plot_upper_limit() # plot the open and close-cell model predictions\n",
    "ax.set_yscale('log')\n",
    "ax.set_xlabel('Porosity (\\%)')\n",
    "ax.set_ylabel('Compressive Strength (normalized)')\n",
    "xmin = 15\n",
    "xmax = 100\n",
    "ymin = 0.0001\n",
    "ymax = 2\n",
    "plt.ylim(ymin, ymax)\n",
    "plt.xlim(xmin, xmax)\n",
    "\n",
    "plt.tight_layout()\n",
    "fig.savefig('../figures/figure6.png')"
   ]
  },
  {
   "cell_type": "code",
   "execution_count": null,
   "metadata": {
    "collapsed": false,
    "jupyter": {
     "outputs_hidden": false
    }
   },
   "outputs": [],
   "source": [
    "# parameters of the fit\n",
    "print 'Exponent of the power law: '+str(fitParamsIT[1])"
   ]
  },
  {
   "cell_type": "code",
   "execution_count": null,
   "metadata": {
    "collapsed": false,
    "jupyter": {
     "outputs_hidden": false
    }
   },
   "outputs": [],
   "source": [
    "# Extract the bibliographic references used for the plot\n",
    "authors = data['Mendeley key']\n",
    "list_authors(authors)"
   ]
  },
  {
   "cell_type": "markdown",
   "metadata": {},
   "source": [
    "# Overview of the flexural strength achieved\n",
    "Figure 7 of the paper"
   ]
  },
  {
   "cell_type": "code",
   "execution_count": null,
   "metadata": {
    "collapsed": false,
    "jupyter": {
     "outputs_hidden": false
    }
   },
   "outputs": [],
   "source": [
    "fig = plt.figure()\n",
    "ax = fig.add_subplot(1,1,1)\n",
    "plt.plot(data['Porosity'], data['Normalized strength (flexion)'])\n",
    "ax.set_yscale('log')\n",
    "ax.set_xlabel('Porosity (\\%)')\n",
    "ax.set_ylabel('Flexural Strength (normalized)')\n",
    "plt.ylim(0.0001, 2)\n",
    "plt.xlim(20, 90)\n",
    "\n",
    "plt.tight_layout()\n",
    "fig.savefig('../figures/figure7.png')"
   ]
  },
  {
   "cell_type": "code",
   "execution_count": null,
   "metadata": {
    "collapsed": false,
    "jupyter": {
     "outputs_hidden": false
    }
   },
   "outputs": [],
   "source": [
    "# Extract the bib ref of the above plot\n",
    "dataplot = data[(data['Normalized strength (flexion)'] > 0)]\n",
    "authors = dataplot['Mendeley key']\n",
    "list_authors(authors)"
   ]
  },
  {
   "cell_type": "markdown",
   "metadata": {},
   "source": [
    "# Compressive strength vs. pore size\n",
    "Figure 8 of the paper"
   ]
  },
  {
   "cell_type": "code",
   "execution_count": null,
   "metadata": {
    "collapsed": false,
    "jupyter": {
     "outputs_hidden": false
    }
   },
   "outputs": [],
   "source": [
    "fig = plt.figure()\n",
    "ax = fig.add_subplot(1,1,1)\n",
    "plt.plot(data['Pore width'], data['Normalized strength (compression)'])\n",
    "ax.set_xscale('log')\n",
    "ax.set_yscale('log')\n",
    "ax.set_xlabel('Pore size (\\mu m)')\n",
    "ax.set_ylabel('Compressive Strength (normalized)')\n",
    "plt.ylim(0.0001, 5)\n",
    "plt.xlim(2, 700)\n",
    "plt.tight_layout()\n",
    "\n",
    "# line with -1/2 slope\n",
    "poresize_table = linspace(60, 200.0, num=10000)\n",
    "plt.plot(poresize_table, 100*poresize_table**(-1/2), marker='', linestyle='-', color='black', linewidth='0.3')\n",
    "plt.plot([100, 120], [1, 1], 'k-', lw=0.3)\n",
    "plt.annotate('-1/2', (110, 1.2), fontsize='5')\n",
    "            \n",
    "fig.savefig('../figures/figure8.png')"
   ]
  },
  {
   "cell_type": "code",
   "execution_count": null,
   "metadata": {
    "collapsed": false,
    "jupyter": {
     "outputs_hidden": false
    }
   },
   "outputs": [],
   "source": [
    "# Extract the bib ref of the above plot\n",
    "dataplot = data[(data['Pore width'] > 0)]\n",
    "authors = dataplot['Mendeley key']\n",
    "list_authors(authors)"
   ]
  },
  {
   "cell_type": "markdown",
   "metadata": {},
   "source": [
    "# Compressive strength and failure modes\n",
    "Figure 9 of the paper"
   ]
  },
  {
   "cell_type": "code",
   "execution_count": null,
   "metadata": {
    "collapsed": false,
    "jupyter": {
     "outputs_hidden": false
    }
   },
   "outputs": [],
   "source": [
    "fig = plt.figure()\n",
    "ax = fig.add_subplot(1,1,1)\n",
    "plt.plot(cellular['Porosity'], cellular['Normalized strength (compression)'])\n",
    "plt.plot(brittle['Porosity'], brittle['Normalized strength (compression)'])\n",
    "\n",
    "ax.set_yscale('log')\n",
    "ax.set_xlabel('Porosity (\\%)')\n",
    "ax.set_ylabel('Compressive Strength (normalized)')\n",
    "plt.ylim(0.002, 1)\n",
    "plt.xlim(20, 100)\n",
    "\n",
    "plt.tight_layout()\n",
    "fig.savefig('../figures/figure9.png')"
   ]
  },
  {
   "cell_type": "code",
   "execution_count": null,
   "metadata": {
    "collapsed": false,
    "jupyter": {
     "outputs_hidden": false
    }
   },
   "outputs": [],
   "source": [
    "# Extract the bib ref of the above plot\n",
    "dataplot = cellular[(cellular['Normalized strength (compression)'] > 0)]\n",
    "authors = dataplot['Mendeley key']\n",
    "\n",
    "print \"cellular:\"\n",
    "list_authors(authors)\n",
    "\n",
    "dataplot = brittle[(brittle['Normalized strength (compression)'] > 0)]\n",
    "authors = dataplot['Mendeley key']\n",
    "\n",
    "print \"brittle:\"\n",
    "list_authors(authors)"
   ]
  },
  {
   "cell_type": "markdown",
   "metadata": {},
   "source": [
    "# Compressive strength in presence and absence of ice-lenses type structural defects\n",
    "Figure 11 of the paper"
   ]
  },
  {
   "cell_type": "code",
   "execution_count": null,
   "metadata": {
    "collapsed": false,
    "jupyter": {
     "outputs_hidden": false
    }
   },
   "outputs": [],
   "source": [
    "fig = plt.figure()\n",
    "ax = fig.add_subplot(1,1,1)\n",
    "plt.plot(notsureifdefects['Porosity'], notsureifdefects['Normalized strength (compression)'], color='white')\n",
    "plt.plot(nodefects['Porosity'], nodefects['Normalized strength (compression)'])\n",
    "plt.plot(defects['Porosity'], defects['Normalized strength (compression)'])\n",
    "ax.set_yscale('log')\n",
    "ax.set_xlabel('Porosity (\\%)')\n",
    "ax.set_ylabel('Compressive Strength (normalized)')\n",
    "plt.ylim(0.001, 3)\n",
    "plt.xlim(20, 100)\n",
    "\n",
    "plt.tight_layout()\n",
    "\n",
    "fig.savefig('../figures/figure11.png')"
   ]
  },
  {
   "cell_type": "code",
   "execution_count": null,
   "metadata": {
    "collapsed": false,
    "jupyter": {
     "outputs_hidden": false
    }
   },
   "outputs": [],
   "source": [
    "# Extract the bib ref of the above plot\n",
    "dataplot = defects[(defects['Normalized strength (compression)'] > 0)]\n",
    "authors = dataplot['Mendeley key']\n",
    "print \"Defects: \"\n",
    "list_authors(authors)\n",
    "\n",
    "dataplot = nodefects[(nodefects['Normalized strength (compression)'] > 0)]\n",
    "authors = dataplot['Mendeley key']\n",
    "print \"No defects: \"\n",
    "list_authors(authors)\n",
    "\n",
    "dataplot = notsureifdefects[(notsureifdefects['Normalized strength (compression)'] > 0)]\n",
    "authors = dataplot['Mendeley key']\n",
    "print \"Not sure if defects: \"\n",
    "list_authors(authors)"
   ]
  },
  {
   "cell_type": "markdown",
   "metadata": {},
   "source": [
    "# Influence of the starting particle size over the compressive strength\n",
    "Figure 12 of the paper"
   ]
  },
  {
   "cell_type": "code",
   "execution_count": null,
   "metadata": {
    "collapsed": false,
    "jupyter": {
     "outputs_hidden": false
    }
   },
   "outputs": [],
   "source": [
    "fig = plt.figure()\n",
    "ax = fig.add_subplot(1,1,1)\n",
    "plt.plot(data['Granulo poudre'], data['Normalized strength (compression)'])\n",
    "ax.set_yscale('log')\n",
    "ax.set_xscale('log')\n",
    "ax.set_xlabel('Particle size (\\mu m)')\n",
    "ax.set_ylabel('Strength (normalized)')\n",
    "plt.ylim(0.001, 10)\n",
    "plt.tight_layout()\n",
    "\n",
    "# line with -1/2 slope\n",
    "poresize_table = linspace(10, 50.0, num=10000)\n",
    "plt.plot(poresize_table, 20*poresize_table**(-1/2), marker='', linestyle='-', color='black', linewidth='0.3')\n",
    "plt.plot([20, 40], [1, 1], 'k-', lw=0.3)\n",
    "plt.annotate('-1/2', (20, 1.2), fontsize='5')\n",
    "\n",
    "fig.savefig('../figures/figure12.png')"
   ]
  },
  {
   "cell_type": "code",
   "execution_count": null,
   "metadata": {
    "collapsed": false,
    "jupyter": {
     "outputs_hidden": false
    }
   },
   "outputs": [],
   "source": [
    "# Extract the bibliographic references used for the plot\n",
    "dataplot = data[(data['Granulo poudre'] > 0) & (data['Normalized strength (compression)']>0)]\n",
    "authors = dataplot['Mendeley key']\n",
    "list_authors(authors)"
   ]
  },
  {
   "cell_type": "markdown",
   "metadata": {},
   "source": [
    "# Influence of the nature of the solvent over the compressive strength.\n",
    "Figure 13 of the paper"
   ]
  },
  {
   "cell_type": "code",
   "execution_count": null,
   "metadata": {
    "collapsed": false,
    "jupyter": {
     "outputs_hidden": false
    }
   },
   "outputs": [],
   "source": [
    "fig = plt.figure(figsize = (3*figuresize, figuresize))\n",
    "\n",
    "ax = fig.add_subplot(1,3,1)\n",
    "plt.scatter(water['Porosity'], water['Normalized strength (compression)'], s=water['Pore width'], lw=0, alpha=0.3, color='#3778bf')\n",
    "ax.set_yscale('log')\n",
    "ax.set_xlabel('Porosity (\\%)')\n",
    "ax.set_ylabel('Compressive Strength (normalized)')\n",
    "plt.title('Water', fontsize=titlefontsize, weight=titleweight)\n",
    "plt.ylim(0.001, 2)\n",
    "plt.xlim(20, 100)\n",
    "\n",
    "ax = fig.add_subplot(1,3,2)\n",
    "plt.scatter(camphene['Porosity'], camphene['Normalized strength (compression)'], s=camphene['Pore width'], lw=0, alpha=0.3, color='#3778bf')\n",
    "ax.set_yscale('log')\n",
    "ax.set_xscale('log')\n",
    "ax.set_xlabel('Porosity (\\%)')\n",
    "ax.set_yticklabels([])\n",
    "plt.title('Camphene', fontsize=titlefontsize, weight=titleweight)\n",
    "plt.ylim(0.001, 2)\n",
    "plt.xlim(20, 100)\n",
    "\n",
    "ax = fig.add_subplot(1,3,3)\n",
    "plt.scatter(tba['Porosity'], tba['Normalized strength (compression)'], s=tba['Pore width'], lw=0, alpha=0.3, color='#3778bf')\n",
    "ax.set_yscale('log')\n",
    "ax.set_xlabel('Porosity (\\%)')\n",
    "ax.set_yticklabels([])\n",
    "plt.title('TBA', fontsize=titlefontsize, weight=titleweight)\n",
    "plt.ylim(0.001, 2)\n",
    "plt.xlim(20, 100)\n",
    "\n",
    "plt.tight_layout()\n",
    "\n",
    "fig.savefig('../figures/figure13.png')"
   ]
  },
  {
   "cell_type": "code",
   "execution_count": null,
   "metadata": {
    "collapsed": false,
    "jupyter": {
     "outputs_hidden": false
    }
   },
   "outputs": [],
   "source": [
    "# Extract the bibliographic references used for the plot\n",
    "dataplot = water[(water['Normalized strength (compression)']>0)]\n",
    "authors = dataplot['Mendeley key']\n",
    "print \"water: \"\n",
    "list_authors(authors)\n",
    "\n",
    "dataplot = camphene[(camphene['Normalized strength (compression)']>0)]\n",
    "authors = dataplot['Mendeley key']\n",
    "print \"camphene: \"\n",
    "list_authors(authors)\n",
    "\n",
    "dataplot = tba[(tba['Normalized strength (compression)']>0)]\n",
    "authors = dataplot['Mendeley key']\n",
    "print \"tba: \"\n",
    "list_authors(authors)"
   ]
  },
  {
   "cell_type": "markdown",
   "metadata": {},
   "source": [
    "# Compressive strength: measured (all materials) vs. predicted by Ashby honeycomb out-of-plane model\n",
    "Figure 16 of the paper"
   ]
  },
  {
   "cell_type": "code",
   "execution_count": null,
   "metadata": {
    "collapsed": false,
    "jupyter": {
     "outputs_hidden": false
    }
   },
   "outputs": [],
   "source": [
    "# Multipannels figure\n",
    "\n",
    "# value for the 1:1 line on the plots\n",
    "strength_table = linspace(0.1, 1000.0, num=10000)\n",
    "        \n",
    "def plot_upper_limit_honeycomb():\n",
    "    plt.plot(strength_table, strength_table, linestyle='--', linewidth='0.5', marker='', dashes=[2, 2], color='0.5', zorder=1, dash_capstyle='round', markevery='2')    \n",
    "\n",
    "f,  (ax1, ax2, ax3) = plt.subplots(3, sharex=True, sharey=True, figsize=(figuresize, 2*figuresize))\n",
    "plt.ylim(0.11, 2000)\n",
    "\n",
    "ax1.plot(water['Strength (MPa)'], water['Honeycomb_Ashby'])\n",
    "ax1.plot(defects['Strength (MPa)'], defects['Honeycomb_Ashby'])\n",
    "ax1.plot(strength_table, strength_table, linestyle='--', linewidth='0.5', marker='', dashes=[2, 2], color='0.5', zorder=1, dash_capstyle='round', markevery='2')\n",
    "ax1.set_yscale('log')\n",
    "ax1.set_xscale('log')\n",
    "ax1.set_ylabel(' ')\n",
    "closed_text = ax1.annotate(\"Water\", xy=(0.2,600), fontsize=titlefontsize, color='k')\n",
    "\n",
    "ax2.plot(camphene['Strength (MPa)'], camphene['Honeycomb_Ashby'])\n",
    "ax2.plot(strength_table, strength_table, linestyle='--', linewidth='0.5', marker='', dashes=[2, 2], color='0.5', zorder=1, dash_capstyle='round', markevery='2')\n",
    "plot_upper_limit_honeycomb()\n",
    "ax2.set_yscale('log')\n",
    "ax2.set_xscale('log')\n",
    "ax2.set_ylabel('Predicted strength (honeycomb model) (MPa)')\n",
    "closed_text = ax2.annotate(\"Camphene\", xy=(0.2,600), fontsize=titlefontsize, color='k')\n",
    "\n",
    "ax3.plot(tba['Strength (MPa)'], tba['Honeycomb_Ashby'])\n",
    "ax3.plot(strength_table, strength_table, linestyle='--', linewidth='0.5', marker='', dashes=[2, 2], color='0.5', zorder=1, dash_capstyle='round', markevery='2')\n",
    "plot_upper_limit_honeycomb()\n",
    "ax3.set_yscale('log')\n",
    "ax3.set_xscale('log')\n",
    "ax3.set_ylabel(' ')\n",
    "ax3.set_xlabel('Measured compressive strength (MPa)')\n",
    "closed_text = ax3.annotate(\"Tert-butyl alcohol\", xy=(0.2,600), fontsize=titlefontsize, color='k')\n",
    "\n",
    "plt.tight_layout()\n",
    "f.subplots_adjust(hspace=0)\n",
    "plt.setp([a.get_xticklabels() for a in f.axes[:-1]], visible=False)\n",
    "\n",
    "f.savefig('../figures/figure16.png')"
   ]
  },
  {
   "cell_type": "code",
   "execution_count": null,
   "metadata": {
    "collapsed": false,
    "jupyter": {
     "outputs_hidden": false
    }
   },
   "outputs": [],
   "source": [
    "# Extract the bib ref of the above plot\n",
    "data_water = water[(water['Strength (MPa)'] > 0) & (water['Honeycomb_Ashby'] > 0)]\n",
    "data_camphene = camphene[(camphene['Strength (MPa)'] > 0) & (camphene['Honeycomb_Ashby'] > 0)]\n",
    "data_tba = tba[(tba['Strength (MPa)'] > 0) & (tba['Honeycomb_Ashby'] > 0)]\n",
    "\n",
    "authors = data_water['Mendeley key']\n",
    "print 'Water: '\n",
    "list_authors(authors)\n",
    "\n",
    "authors = data_camphene['Mendeley key']\n",
    "print 'Camphene: '\n",
    "list_authors(authors)\n",
    "\n",
    "authors = data_tba['Mendeley key']\n",
    "print 'TBA: '\n",
    "list_authors(authors)"
   ]
  },
  {
   "cell_type": "code",
   "execution_count": null,
   "metadata": {
    "collapsed": false,
    "jupyter": {
     "outputs_hidden": false
    }
   },
   "outputs": [],
   "source": [
    "#%install_ext http://raw.github.com/jrjohansson/version_information/master/version_information.py\n",
    "# you need to run the line above only once\n",
    "%load_ext version_information\n",
    "%reload_ext version_information\n",
    "\n",
    "%version_information numpy, scipy, matplotlib"
   ]
  },
  {
   "cell_type": "markdown",
   "metadata": {},
   "source": [
    "# Acknowledgements\n",
    "The research leading to these results has received funding from the European Research Council under the European Community's Seventh Framework Programme (FP7/2007-2013) Grant Agreement no. 278004 (project FreeCo)"
   ]
  },
  {
   "cell_type": "code",
   "execution_count": null,
   "metadata": {},
   "outputs": [],
   "source": []
  }
 ],
 "metadata": {
  "kernelspec": {
   "display_name": "Python 3",
   "language": "python",
   "name": "python3"
  },
  "language_info": {
   "codemirror_mode": {
    "name": "ipython",
    "version": 3
   },
   "file_extension": ".py",
   "mimetype": "text/x-python",
   "name": "python",
   "nbconvert_exporter": "python",
   "pygments_lexer": "ipython3",
   "version": "3.8.8"
  }
 },
 "nbformat": 4,
 "nbformat_minor": 4
}
