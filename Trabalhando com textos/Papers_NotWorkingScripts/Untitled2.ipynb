{
 "cells": [
  {
   "cell_type": "raw",
   "id": "removed-parks",
   "metadata": {},
   "source": [
    "!pip install nb-pdf-template"
   ]
  },
  {
   "cell_type": "code",
   "execution_count": 1,
   "id": "wound-edgar",
   "metadata": {},
   "outputs": [
    {
     "name": "stdout",
     "output_type": "stream",
     "text": [
      "Requirement already satisfied: nb_pdf_template in c:\\anaconda\\lib\\site-packages (4.0.0)\n"
     ]
    }
   ],
   "source": [
    "!pip install -U nb_pdf_template"
   ]
  },
  {
   "cell_type": "code",
   "execution_count": null,
   "id": "amateur-corner",
   "metadata": {},
   "outputs": [],
   "source": []
  }
 ],
 "metadata": {
  "kernelspec": {
   "display_name": "Python 3",
   "language": "python",
   "name": "python3"
  },
  "language_info": {
   "codemirror_mode": {
    "name": "ipython",
    "version": 3
   },
   "file_extension": ".py",
   "mimetype": "text/x-python",
   "name": "python",
   "nbconvert_exporter": "python",
   "pygments_lexer": "ipython3",
   "version": "3.8.8"
  }
 },
 "nbformat": 4,
 "nbformat_minor": 5
}
