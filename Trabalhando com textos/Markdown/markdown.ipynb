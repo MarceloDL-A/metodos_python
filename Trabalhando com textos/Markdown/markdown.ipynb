{
 "cells": [
  {
   "cell_type": "markdown",
   "id": "incorporate-ceramic",
   "metadata": {},
   "source": [
    "[markdown-cheatsheet-online][1] \\\n",
    "[jupyter-notebook.readthedocs.io][2] \\\n",
    "[da2k][3]\n",
    "\n",
    "[1]: <https://guides.github.com/pdfs/markdown-cheatsheet-online.pdf>\n",
    "[2]: <https://jupyter-notebook.readthedocs.io/en/latest/examples/Notebook/Working%20With%20Markdown%20Cells.html>\n",
    "[3]: <https://blog.da2k.com.br/2015/02/08/aprenda-markdown/>"
   ]
  },
  {
   "cell_type": "markdown",
   "id": "ethical-committee",
   "metadata": {},
   "source": [
    "[LaTeX equations](https://jupyter-notebook.readthedocs.io/en/latest/examples/Notebook/Working%20With%20Markdown%20Cells.html)"
   ]
  },
  {
   "cell_type": "markdown",
   "id": "aging-province",
   "metadata": {},
   "source": [
    "$e^{i\\pi} + 1 = 0$"
   ]
  },
  {
   "cell_type": "markdown",
   "id": "phantom-somalia",
   "metadata": {},
   "source": [
    "\\begin{equation}\n",
    "e^x=\\sum_{i=0}^\\infty \\frac{1}{i!}x^i\n",
    "\\end{equation}"
   ]
  },
  {
   "cell_type": "markdown",
   "id": "entire-edgar",
   "metadata": {},
   "source": [
    "<video controls src=\"../images/animation.m4v\">animation</video>"
   ]
  },
  {
   "cell_type": "markdown",
   "id": "invalid-organization",
   "metadata": {},
   "source": [
    "I love supporting the **[EFF](https://eff.org)**.\n",
    "This is the *[Markdown Guide](https://www.markdownguide.org)*.\n",
    "See the section on [`code`](#code)."
   ]
  },
  {
   "cell_type": "markdown",
   "id": "becoming-brave",
   "metadata": {},
   "source": [
    ":smiley:"
   ]
  },
  {
   "cell_type": "code",
   "execution_count": null,
   "id": "potential-emergency",
   "metadata": {},
   "outputs": [],
   "source": []
  },
  {
   "cell_type": "markdown",
   "id": "extended-optics",
   "metadata": {},
   "source": [
    "My favorite search engine is [Duck Duck Go](https://duckduckgo.com \"The best search engine for privacy\").\n",
    "\n",
    "[1] (https://www.google.com/search?q=real+dolar&oq=real+do&aqs=chrome.0.69i59i433j69i57j0l8.10400j0j7&sourceid=chrome&ie=UTF-8)"
   ]
  },
  {
   "cell_type": "markdown",
   "id": "known-upper",
   "metadata": {},
   "source": [
    "[1]: https://en.wikipedia.org/wiki/Hobbit#Lifestyle\n",
    "\n",
    ":link:"
   ]
  },
  {
   "cell_type": "markdown",
   "id": "demographic-universe",
   "metadata": {},
   "source": [
    "> [1]: https://en.wikipedia.org/wiki/Hobbit#Lifestyle\n",
    "[1]: https://en.wikipedia.org/wiki/Hobbit#Lifestyle \"Hobbit lifestyles\"\n",
    "[1]: https://en.wikipedia.org/wiki/Hobbit#Lifestyle 'Hobbit lifestyles'\n",
    "[1]: https://en.wikipedia.org/wiki/Hobbit#Lifestyle (Hobbit lifestyles)\n",
    "[1]: <https://en.wikipedia.org/wiki/Hobbit#Lifestyle> \"Hobbit lifestyles\"\n",
    "[1]: <https://en.wikipedia.org/wiki/Hobbit#Lifestyle> 'Hobbit lifestyles'\n",
    "[1]: <https://en.wikipedia.org/wiki/Hobbit#Lifestyle> (Hobbit lifestyles)"
   ]
  },
  {
   "cell_type": "markdown",
   "id": "growing-chart",
   "metadata": {},
   "source": [
    "- [1]: https://en.wikipedia.org/wiki/Hobbit#Lifestyle\n",
    "-- [1]: https://en.wikipedia.org/wiki/Hobbit#Lifestyle \"Hobbit lifestyles\"\n",
    "    - [1]: https://en.wikipedia.org/wiki/Hobbit#Lifestyle 'Hobbit lifestyles'\n",
    " -[1]: https://en.wikipedia.org/wiki/Hobbit#Lifestyle (Hobbit lifestyles)\n",
    "[1]: <https://en.wikipedia.org/wiki/Hobbit#Lifestyle> \"Hobbit lifestyles\"\n",
    "[1]: <https://en.wikipedia.org/wiki/Hobbit#Lifestyle> 'Hobbit lifestyles'\n",
    "[1]: <https://en.wikipedia.org/wiki/Hobbit#Lifestyle> (Hobbit lifestyles)"
   ]
  },
  {
   "cell_type": "markdown",
   "id": "dutch-concentrate",
   "metadata": {},
   "source": [
    "In a hole in the ground there lived a hobbit. Not a nasty, dirty, wet hole, filled with the ends\n",
    "of worms and an oozy smell, nor yet a dry, bare, sandy hole with nothing in it to sit down on or to\n",
    "eat: it was a [hobbit-hole][1], and that means comfort.\n",
    "\n",
    "[1]: <https://en.wikipedia.org/wiki/Hobbit#Lifestyle> \"Hobbit lifestyles\""
   ]
  },
  {
   "cell_type": "markdown",
   "id": "dated-lebanon",
   "metadata": {},
   "source": [
    ":link:"
   ]
  },
  {
   "cell_type": "markdown",
   "id": "pressing-swift",
   "metadata": {},
   "source": [
    "| :bowtie: `:bowtie:` | :smile: `:smile:` | :laughing: `:laughing:` |"
   ]
  },
  {
   "cell_type": "markdown",
   "id": "freelance-subcommittee",
   "metadata": {},
   "source": [
    ":bowtie: :bowtie:"
   ]
  },
  {
   "cell_type": "markdown",
   "id": "reverse-insured",
   "metadata": {},
   "source": [
    "[The Ultimate Markdown Guide (for Jupyter Notebook)](https://medium.com/analytics-vidhya/the-ultimate-markdown-guide-for-jupyter-notebook-d5e5abf728fd)"
   ]
  },
  {
   "cell_type": "markdown",
   "id": "infectious-entrance",
   "metadata": {},
   "source": [
    "![](https://www.python.org/static/community_logos/python-logo-master-v3-TM.png)"
   ]
  },
  {
   "cell_type": "markdown",
   "id": "ultimate-narrative",
   "metadata": {},
   "source": [
    "![](https://www.python.org/static/community_logos/python-logo-master-v3-TM.png “Python Logo”)"
   ]
  },
  {
   "cell_type": "markdown",
   "id": "creative-force",
   "metadata": {},
   "source": [
    "![][some-id]\n",
    "\n",
    "[some-id]: https://www.python.org/static/community_logos/python-logo-master-v3-TM.png \"Python Logo\""
   ]
  },
  {
   "cell_type": "markdown",
   "id": "cubic-priest",
   "metadata": {},
   "source": [
    "<table>\n",
    "<thead>\n",
    "<tr><th>Header</th><th>Header</th><th>Header</th></tr>\n",
    "</thead>\n",
    "<tbody>\n",
    "<tr><td>A</td><td>B</td><td>C</td></tr>\n",
    "<tr><td>X</td><td>Y</td><td>Z</td></tr>\n",
    "</tbody>\n",
    "</table>"
   ]
  },
  {
   "cell_type": "code",
   "execution_count": null,
   "id": "outstanding-syndrome",
   "metadata": {},
   "outputs": [],
   "source": []
  }
 ],
 "metadata": {
  "kernelspec": {
   "display_name": "Python 3",
   "language": "python",
   "name": "python3"
  },
  "language_info": {
   "codemirror_mode": {
    "name": "ipython",
    "version": 3
   },
   "file_extension": ".py",
   "mimetype": "text/x-python",
   "name": "python",
   "nbconvert_exporter": "python",
   "pygments_lexer": "ipython3",
   "version": "3.8.8"
  }
 },
 "nbformat": 4,
 "nbformat_minor": 5
}
