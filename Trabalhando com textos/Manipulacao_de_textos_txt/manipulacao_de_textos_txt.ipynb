{
 "cells": [
  {
   "cell_type": "markdown",
   "metadata": {},
   "source": [
    "### Referências:\n",
    "### 1- [Reading and Writing to text files in Python](https://www.geeksforgeeks.org/reading-writing-text-files-python/)\n",
    "### 2- [Ler um txt evitando problemas com acentos em python](https://pt.stackoverflow.com/questions/438384/ler-um-txt-evitando-problemas-com-acentos-em-python)"
   ]
  },
  {
   "cell_type": "code",
   "execution_count": 1,
   "metadata": {},
   "outputs": [],
   "source": [
    "arq = \"texto_exemplo.txt\""
   ]
  },
  {
   "cell_type": "code",
   "execution_count": 2,
   "metadata": {},
   "outputs": [],
   "source": [
    "file1 = open(arq,\"r+\", encoding=\"utf8\") "
   ]
  },
  {
   "cell_type": "code",
   "execution_count": 3,
   "metadata": {},
   "outputs": [
    {
     "data": {
      "text/plain": [
       "<_io.TextIOWrapper name='texto_exemplo.txt' mode='r+' encoding='utf8'>"
      ]
     },
     "execution_count": 3,
     "metadata": {},
     "output_type": "execute_result"
    }
   ],
   "source": [
    "file1"
   ]
  },
  {
   "cell_type": "code",
   "execution_count": 4,
   "metadata": {},
   "outputs": [
    {
     "name": "stdout",
     "output_type": "stream",
     "text": [
      "Pré-estréia\n",
      "Os planos para um segundo grupo de garotos da Big Hit Entertainment foram anunciados pelo fundador Bang Si-hyuk[6] em 2017 e uma data de estréia para o início de 2019 marcada em novembro de 2018.[7] TXT foi revelado oficialmente em 10 de janeiro de 2019.[8]\n",
      "\n",
      "Rapidamente, o TXT ficou em primeiro lugar em vários mecanismos de busca, e recebeu atenção da Billboard, que escreveu vários artigos e postou vídeos falando do grupo.[9]\n",
      "\n",
      "No mesmo dia, foi revelado Yeonjun, o primeiro membro do grupo. Alguns dias depois foram revelados outros membros como Soobin (que mais tarde foi confirmado como líder), Hueningkai, Taehyun e Beomgyu. Três dias depois, em 24 de janeiro, houve a confirmação de que o TXT seria um grupo de cinco membros, e então um vídeo introdutório e uma foto do grupo foram liberados. Além disso, o grupo estabeleceu sua saudação oficial criando sua conta no Twitter, o forum oficial de fãs e o seu canal no V Live.\n",
      "\n",
      "2019: estréia com The Dream Chapter: Star e primeiro comeback com The Dream Chapter: Magic\n",
      "Em 7 de fevereiro de 2019, a Big Hit confirmou que a data de estreia seria 4 de março. Um show de estreia do grupo foi ao ar na Mnet e no YouTube. O título do EP, The Dream Chapter: Star, também foi revelado.[10] Um showcase foi realizado no Yes24 Live Hall em 5 de março.[11] Após o lançamento do EP, o videoclipe de seu single de estreia, \"Crown\", quebrou o recorde do vídeo musical de estréia mais visto no K-pop em 24 horas por um boy group, atingindo mais de 15 milhões de visualizações registradas no Youtube.[12][13] Mais tarde o grupo também lançou outros dois MVs intitulados \"Cat & Dog\" (possuindo uma versão em inglês), a principal b-side do EP, e a cinemática \"Nap of a Star\", esta que deu início ao universo fictício de TXT chamado \"TU\".[14]\n",
      "\n",
      "Uma semana após o lançamento de seu álbum, o grupo estreia em primeiro lugar na Billboard Emerging Artists, World Albums, e World Digital Song Sales e estreou no No. 140 na Billboard 200 pela primeira vez, tornando-os grupo de K-pop mais rápido a aparecer nas paradas e no álbum de estréia mais bem apresentado por qualquer grupo masculino de K-pop.[15][16] O grupo ganhou seu primeiro troféu de música no dia 12 de março no The Show.[17]\n",
      "\n",
      "\n",
      "TXT durante sua promoção no Music Bank em 19 de março de 2019.\n",
      "Dando continuidade ao período de promoção do álbum de debut, foi anunciado em 8 de abril que o grupo entraria em turnê pelos Estados Unidos (intitulada Star in U.S.) passando por cinco cidades, Nova Iorque, Chicago, Orlando, Atlanta, Dallas e Los Angeles.[18] Ainda em abril, a iHeartRadio anunciou TXT para a line-up principal do festival Wango Tango, este que ocorreu no dia 1 de junho. Com essa participação, Tomorrow by Together se tornou o primeiro grupo de K-pop a se apresentar no festival.[19] Paralelamente a turnê pelos EUA, o grupo estava gravando um reality show de oito episódios pela Mnet, intilulado \"One Dream.TXT\",[20] este que acompanhou os 30 dias que estiveram em terras americanas; o primeiro episódio foi ao ar em 27 de junho e o último em 22 de agosto. A transmissão foi ao vivo pelo canal coreano de TV da Mnet e gravado na íntegra no canal da mesma no Youtube.No dia 1 de agosto TXT participou de seu primeiro evento de premiação, o MGMA, promovida e realizada pela Genie e Mnet em conjunto.[21] Nessa ocasião, o grupo realizou uma apresentação da música título \"Crown\", no entanto Yeonjun não pode ir ao evento devido a dores nas costas, segundo a Big Hit em um comunicado momentos antes do inicio da premiação,[22][23] mas mesmo desfalcados a presentação foi realizada. Eles também foram nomeados para a categoria \"Best Male Rookie of the Year\" (melhor estreante masculino do ano), saindo da noite como vencedores do prêmio, o primeiro do tipo.[24][25]\n"
     ]
    }
   ],
   "source": [
    "print(file1.read())"
   ]
  },
  {
   "cell_type": "code",
   "execution_count": 5,
   "metadata": {},
   "outputs": [
    {
     "name": "stdout",
     "output_type": "stream",
     "text": [
      "One\n",
      "Two\n"
     ]
    }
   ],
   "source": [
    "print(\"One\")\n",
    "print(\"Two\")"
   ]
  }
 ],
 "metadata": {
  "kernelspec": {
   "display_name": "Python 3",
   "language": "python",
   "name": "python3"
  },
  "language_info": {
   "codemirror_mode": {
    "name": "ipython",
    "version": 3
   },
   "file_extension": ".py",
   "mimetype": "text/x-python",
   "name": "python",
   "nbconvert_exporter": "python",
   "pygments_lexer": "ipython3",
   "version": "3.8.8"
  }
 },
 "nbformat": 4,
 "nbformat_minor": 4
}
