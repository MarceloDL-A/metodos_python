{
 "cells": [
  {
   "cell_type": "markdown",
   "metadata": {},
   "source": [
    "## Note book utilizado para retirar as linhas com a palavra work de um **requeriments.txt**"
   ]
  },
  {
   "cell_type": "markdown",
   "metadata": {},
   "source": [
    "### Referências:\n",
    "### 1- [Reading and Writing to text files in Python](https://www.geeksforgeeks.org/reading-writing-text-files-python/)\n",
    "### 2- [Ler um txt evitando problemas com acentos em python](https://pt.stackoverflow.com/questions/438384/ler-um-txt-evitando-problemas-com-acentos-em-python)"
   ]
  },
  {
   "cell_type": "code",
   "execution_count": 1,
   "metadata": {},
   "outputs": [],
   "source": [
    "import re"
   ]
  },
  {
   "cell_type": "code",
   "execution_count": 2,
   "metadata": {},
   "outputs": [],
   "source": [
    "arq = \"requirements_c.txt\""
   ]
  },
  {
   "cell_type": "code",
   "execution_count": 3,
   "metadata": {},
   "outputs": [],
   "source": [
    "file1 = open(arq,\"r+\", encoding=\"utf-16\") "
   ]
  },
  {
   "cell_type": "code",
   "execution_count": 4,
   "metadata": {},
   "outputs": [],
   "source": [
    "file1_read = file1.read()"
   ]
  },
  {
   "cell_type": "code",
   "execution_count": 5,
   "metadata": {},
   "outputs": [
    {
     "name": "stdout",
     "output_type": "stream",
     "text": [
      "argon2-cffi @ file:///D:/bld/argon2-cffi_1605217273648/work\n",
      "async-generator==1.10\n",
      "attrs @ file:///home/conda/feedstock_root/build_artifacts/attrs_1605083924122/work\n",
      "autobahn==21.3.1\n",
      "Automat==20.2.0\n",
      "backcall @ file:///home/conda/feedstock_root/build_artifacts/backcall_1592338393461/work\n",
      "backports.functools-lru-cache==1.6.1\n",
      "bleach @ file:///home/conda/feedstock_root/build_artifacts/bleach_1612213472466/work\n",
      "certifi==2020.12.5\n",
      "cffi @ file:///D:/bld/cffi_1613414140225/work\n",
      "chardet==3.0.4\n",
      "colorama @ file:///home/conda/feedstock_root/build_artifacts/colorama_1602866480661/work\n",
      "constantly==15.1.0\n",
      "cryptography==3.4.6\n",
      "cycler==0.10.0\n",
      "Cython==0.29.17\n",
      "d2l==0.16.1\n",
      "dateparser==1.0.0\n",
      "decorator==4.4.2\n",
      "defusedxml @ file:///home/conda/feedstock_root/build_artifacts/defusedxml_1614970054099/work\n",
      "entrypoints @ file:///home/conda/feedstock_root/build_artifacts/entrypoints_1605121927639/work/dist/entrypoints-0.3-py2.py3-none-any.whl\n",
      "graphviz==0.8.4\n",
      "hyperlink==21.0.0\n",
      "idna==2.6\n",
      "importlib-metadata @ file:///D:/bld/importlib-metadata_1614193935181/work\n",
      "incremental==21.3.0\n",
      "ipykernel @ file:///D:/bld/ipykernel_1613853122135/work/dist/ipykernel-5.5.0-py3-none-any.whl\n",
      "ipython @ file:///D:/bld/ipython_1614393744923/work\n",
      "ipython-genutils==0.2.0\n",
      "ipywidgets==7.6.3\n",
      "jedi @ file:///D:/bld/jedi_1610146948662/work\n",
      "Jinja2 @ file:///home/conda/feedstock_root/build_artifacts/jinja2_1612119311452/work\n",
      "joblib==1.0.1\n",
      "jsonschema @ file:///home/conda/feedstock_root/build_artifacts/jsonschema_1614815863336/work\n",
      "jupyter==1.0.0\n",
      "jupyter-client @ file:///home/conda/feedstock_root/build_artifacts/jupyter_client_1610375432619/work\n",
      "jupyter-console==6.2.0\n",
      "jupyter-contrib-core==0.3.3\n",
      "jupyter-contrib-nbextensions @ file:///home/conda/feedstock_root/build_artifacts/jupyter_contrib_nbextensions_1614931162960/work\n",
      "jupyter-core @ file:///D:/bld/jupyter_core_1612125450516/work\n",
      "jupyter-highlight-selected-word @ file:///D:/bld/jupyter_highlight_selected_word_1611341154347/work\n",
      "jupyter-latex-envs @ file:///home/conda/feedstock_root/build_artifacts/jupyter_latex_envs_1614852190293/work\n",
      "jupyter-nbextensions-configurator @ file:///D:/bld/jupyter_nbextensions_configurator_1611341297787/work\n",
      "jupyterlab-pygments @ file:///home/conda/feedstock_root/build_artifacts/jupyterlab_pygments_1601375948261/work\n",
      "jupyterlab-widgets==1.0.0\n",
      "kiwisolver @ file:///D:/bld/kiwisolver_1610099948875/work\n",
      "lxml @ file:///D:/bld/lxml_1610146678687/work\n",
      "MarkupSafe @ file:///D:/bld/markupsafe_1610127683324/work\n",
      "matplotlib @ file:///D:/bld/matplotlib-suite_1611858820206/work\n",
      "mistune @ file:///D:/bld/mistune_1610113104461/work\n",
      "mxnet==1.7.0.post1\n",
      "nbclient @ file:///home/conda/feedstock_root/build_artifacts/nbclient_1614336084111/work\n",
      "nbconvert @ file:///D:/bld/nbconvert_1605402041690/work\n",
      "nbformat @ file:///home/conda/feedstock_root/build_artifacts/nbformat_1611005694671/work\n",
      "nest-asyncio==1.5.1\n",
      "notebook @ file:///D:/bld/notebook_1610575486218/work\n",
      "numpy @ file:///D:/bld/numpy_1612953165809/work\n",
      "olefile @ file:///home/conda/feedstock_root/build_artifacts/olefile_1602866521163/work\n",
      "packaging @ file:///home/conda/feedstock_root/build_artifacts/packaging_1612459636436/work\n",
      "pandas @ file:///D:/bld/pandas_1614698105739/work\n",
      "pandas-ta==0.2.45b0\n",
      "pandocfilters==1.4.3\n",
      "parso @ file:///home/conda/feedstock_root/build_artifacts/parso_1607618318316/work\n",
      "patsy==0.5.1\n",
      "pickleshare @ file:///home/conda/feedstock_root/build_artifacts/pickleshare_1602536217715/work\n",
      "Pillow @ file:///D:/bld/pillow_1614689932919/work\n",
      "pip-date==1.0.3\n",
      "pmdarima==1.8.0\n",
      "prometheus-client @ file:///home/conda/feedstock_root/build_artifacts/prometheus_client_1605543085815/work\n",
      "prompt-toolkit @ file:///home/conda/feedstock_root/build_artifacts/prompt-toolkit_1613068548426/work\n",
      "pyasn1==0.4.8\n",
      "pyasn1-modules==0.2.8\n",
      "pycparser @ file:///home/conda/feedstock_root/build_artifacts/pycparser_1593275161868/work\n",
      "Pygments @ file:///home/conda/feedstock_root/build_artifacts/pygments_1613412098605/work\n",
      "pyOpenSSL==20.0.1\n",
      "pyparsing==2.4.7\n",
      "pypiwin32==223\n",
      "pyrsistent @ file:///D:/bld/pyrsistent_1610147004705/work\n",
      "python-binance==0.7.9\n",
      "python-dateutil==2.8.1\n",
      "pytz @ file:///home/conda/feedstock_root/build_artifacts/pytz_1612179539967/work\n",
      "pywin32==300\n",
      "pywinpty @ file:///D:/bld/pywinpty_1602377663724/work\n",
      "PyYAML==5.4.1\n",
      "pyzmq @ file:///D:/bld/pyzmq_1614611907285/work\n",
      "qtconsole==5.0.2\n",
      "QtPy==1.9.0\n",
      "regex==2020.11.13\n",
      "requests==2.18.4\n",
      "scikit-learn==0.24.1\n",
      "scipy @ file:///C:/bld/scipy_1609458016927/work\n",
      "seaborn @ file:///home/conda/feedstock_root/build_artifacts/seaborn-split_1611834504644/work\n",
      "Send2Trash==1.5.0\n",
      "service-identity==18.1.0\n",
      "six @ file:///home/conda/feedstock_root/build_artifacts/six_1590081179328/work\n",
      "statsmodels @ file:///D:/bld/statsmodels_1612273760174/work\n",
      "TA-Lib @ file:///D:/bld/ta-lib_1602550568580/work\n",
      "terminado @ file:///D:/bld/terminado_1609796834027/work\n",
      "testpath==0.4.4\n",
      "threadpoolctl==2.1.0\n",
      "tornado @ file:///D:/bld/tornado_1610094858390/work\n",
      "traitlets @ file:///home/conda/feedstock_root/build_artifacts/traitlets_1602771532708/work\n",
      "Twisted==21.2.0\n",
      "twisted-iocpsupport==1.0.1\n",
      "txaio==21.2.1\n",
      "tzlocal==2.1\n",
      "ujson==4.0.2\n",
      "urllib3==1.22\n",
      "wcwidth @ file:///home/conda/feedstock_root/build_artifacts/wcwidth_1600965781394/work\n",
      "webencodings==0.5.1\n",
      "widgetsnbextension==3.5.1\n",
      "wincertstore==0.2\n",
      "zipp @ file:///home/conda/feedstock_root/build_artifacts/zipp_1614945704755/work\n",
      "zope.interface==5.2.0\n",
      "\n"
     ]
    }
   ],
   "source": [
    "print(file1_read)"
   ]
  },
  {
   "cell_type": "code",
   "execution_count": 6,
   "metadata": {},
   "outputs": [],
   "source": [
    "file1 = open(arq,\"r+\", encoding = \"utf-16\") "
   ]
  },
  {
   "cell_type": "code",
   "execution_count": 7,
   "metadata": {},
   "outputs": [],
   "source": [
    "Lines = file1.readlines()"
   ]
  },
  {
   "cell_type": "code",
   "execution_count": 8,
   "metadata": {},
   "outputs": [
    {
     "data": {
      "text/plain": [
       "114"
      ]
     },
     "execution_count": 8,
     "metadata": {},
     "output_type": "execute_result"
    }
   ],
   "source": [
    "len(Lines)"
   ]
  },
  {
   "cell_type": "markdown",
   "metadata": {},
   "source": [
    "#### Retira as linnhas com a palavra work"
   ]
  },
  {
   "cell_type": "code",
   "execution_count": 9,
   "metadata": {},
   "outputs": [],
   "source": [
    "Lines_new = \"\"\n",
    "for i in range(len(Lines)):\n",
    "#     print(Lines[i])\n",
    "    index =  Lines[i].find(\"work\")\n",
    "#     print(index)\n",
    "    if index < 0:\n",
    "        Lines_new += Lines[i]"
   ]
  },
  {
   "cell_type": "markdown",
   "metadata": {},
   "source": [
    "#### Novas linhas sem a palavra work"
   ]
  },
  {
   "cell_type": "code",
   "execution_count": 10,
   "metadata": {},
   "outputs": [
    {
     "name": "stdout",
     "output_type": "stream",
     "text": [
      "async-generator==1.10\n",
      "autobahn==21.3.1\n",
      "Automat==20.2.0\n",
      "backports.functools-lru-cache==1.6.1\n",
      "certifi==2020.12.5\n",
      "chardet==3.0.4\n",
      "constantly==15.1.0\n",
      "cryptography==3.4.6\n",
      "cycler==0.10.0\n",
      "Cython==0.29.17\n",
      "d2l==0.16.1\n",
      "dateparser==1.0.0\n",
      "decorator==4.4.2\n",
      "graphviz==0.8.4\n",
      "hyperlink==21.0.0\n",
      "idna==2.6\n",
      "incremental==21.3.0\n",
      "ipython-genutils==0.2.0\n",
      "ipywidgets==7.6.3\n",
      "joblib==1.0.1\n",
      "jupyter==1.0.0\n",
      "jupyter-console==6.2.0\n",
      "jupyter-contrib-core==0.3.3\n",
      "jupyterlab-widgets==1.0.0\n",
      "mxnet==1.7.0.post1\n",
      "nest-asyncio==1.5.1\n",
      "pandas-ta==0.2.45b0\n",
      "pandocfilters==1.4.3\n",
      "patsy==0.5.1\n",
      "pip-date==1.0.3\n",
      "pmdarima==1.8.0\n",
      "pyasn1==0.4.8\n",
      "pyasn1-modules==0.2.8\n",
      "pyOpenSSL==20.0.1\n",
      "pyparsing==2.4.7\n",
      "pypiwin32==223\n",
      "python-binance==0.7.9\n",
      "python-dateutil==2.8.1\n",
      "pywin32==300\n",
      "PyYAML==5.4.1\n",
      "qtconsole==5.0.2\n",
      "QtPy==1.9.0\n",
      "regex==2020.11.13\n",
      "requests==2.18.4\n",
      "scikit-learn==0.24.1\n",
      "Send2Trash==1.5.0\n",
      "service-identity==18.1.0\n",
      "testpath==0.4.4\n",
      "threadpoolctl==2.1.0\n",
      "Twisted==21.2.0\n",
      "twisted-iocpsupport==1.0.1\n",
      "txaio==21.2.1\n",
      "tzlocal==2.1\n",
      "ujson==4.0.2\n",
      "urllib3==1.22\n",
      "webencodings==0.5.1\n",
      "widgetsnbextension==3.5.1\n",
      "wincertstore==0.2\n",
      "zope.interface==5.2.0\n",
      "\n"
     ]
    }
   ],
   "source": [
    "print(Lines_new)"
   ]
  },
  {
   "cell_type": "code",
   "execution_count": 11,
   "metadata": {},
   "outputs": [
    {
     "data": {
      "text/plain": [
       "str"
      ]
     },
     "execution_count": 11,
     "metadata": {},
     "output_type": "execute_result"
    }
   ],
   "source": [
    "type(Lines_new)"
   ]
  },
  {
   "cell_type": "markdown",
   "metadata": {},
   "source": [
    "#### Salva as novas linhas sem a palavra work em um novo arquivo **req.txt**"
   ]
  },
  {
   "cell_type": "code",
   "execution_count": 12,
   "metadata": {},
   "outputs": [],
   "source": [
    "f = open(\"req.txt\", \"w\")\n",
    "\n",
    "f.write(Lines_new)\n",
    "\n",
    "f.close()"
   ]
  },
  {
   "cell_type": "code",
   "execution_count": null,
   "metadata": {},
   "outputs": [],
   "source": []
  }
 ],
 "metadata": {
  "kernelspec": {
   "display_name": "Python 3",
   "language": "python",
   "name": "python3"
  },
  "language_info": {
   "codemirror_mode": {
    "name": "ipython",
    "version": 3
   },
   "file_extension": ".py",
   "mimetype": "text/x-python",
   "name": "python",
   "nbconvert_exporter": "python",
   "pygments_lexer": "ipython3",
   "version": "3.8.8"
  }
 },
 "nbformat": 4,
 "nbformat_minor": 4
}
