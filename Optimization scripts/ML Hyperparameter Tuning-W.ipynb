{
 "cells": [
  {
   "cell_type": "markdown",
   "metadata": {},
   "source": [
    "#### [Referência principal](https://github.com/rahul-raoniar/Rahul_Raoniar_Blogs)"
   ]
  },
  {
   "cell_type": "markdown",
   "metadata": {},
   "source": [
    "## Import relavant libraries"
   ]
  },
  {
   "cell_type": "code",
   "execution_count": 1,
   "metadata": {},
   "outputs": [],
   "source": [
    "import pandas as pd\n",
    "import numpy as np\n",
    "import matplotlib.pyplot as plt\n",
    "\n",
    "from sklearn.ensemble import GradientBoostingRegressor\n",
    "from sklearn.ensemble import RandomForestRegressor\n",
    "\n",
    "from sklearn.preprocessing import StandardScaler\n",
    "from sklearn.model_selection import train_test_split\n",
    "from sklearn.metrics import mean_absolute_error\n",
    "\n",
    "from sklearn.model_selection import GridSearchCV, RandomizedSearchCV"
   ]
  },
  {
   "cell_type": "markdown",
   "metadata": {},
   "source": [
    "## Reading dataset"
   ]
  },
  {
   "cell_type": "code",
   "execution_count": 2,
   "metadata": {},
   "outputs": [
    {
     "data": {
      "text/html": [
       "<div>\n",
       "<style scoped>\n",
       "    .dataframe tbody tr th:only-of-type {\n",
       "        vertical-align: middle;\n",
       "    }\n",
       "\n",
       "    .dataframe tbody tr th {\n",
       "        vertical-align: top;\n",
       "    }\n",
       "\n",
       "    .dataframe thead th {\n",
       "        text-align: right;\n",
       "    }\n",
       "</style>\n",
       "<table border=\"1\" class=\"dataframe\">\n",
       "  <thead>\n",
       "    <tr style=\"text-align: right;\">\n",
       "      <th></th>\n",
       "      <th>Cement</th>\n",
       "      <th>BF_slag</th>\n",
       "      <th>Fly_ash</th>\n",
       "      <th>Water</th>\n",
       "      <th>Super_plasticizer</th>\n",
       "      <th>Coarse_aggregate</th>\n",
       "      <th>Fine_aggregate</th>\n",
       "      <th>Age</th>\n",
       "      <th>Comp_str</th>\n",
       "    </tr>\n",
       "  </thead>\n",
       "  <tbody>\n",
       "    <tr>\n",
       "      <th>0</th>\n",
       "      <td>540.0</td>\n",
       "      <td>0.0</td>\n",
       "      <td>0.0</td>\n",
       "      <td>162.0</td>\n",
       "      <td>2.5</td>\n",
       "      <td>1040.0</td>\n",
       "      <td>676.0</td>\n",
       "      <td>28</td>\n",
       "      <td>79.986111</td>\n",
       "    </tr>\n",
       "    <tr>\n",
       "      <th>1</th>\n",
       "      <td>540.0</td>\n",
       "      <td>0.0</td>\n",
       "      <td>0.0</td>\n",
       "      <td>162.0</td>\n",
       "      <td>2.5</td>\n",
       "      <td>1055.0</td>\n",
       "      <td>676.0</td>\n",
       "      <td>28</td>\n",
       "      <td>61.887366</td>\n",
       "    </tr>\n",
       "    <tr>\n",
       "      <th>2</th>\n",
       "      <td>332.5</td>\n",
       "      <td>142.5</td>\n",
       "      <td>0.0</td>\n",
       "      <td>228.0</td>\n",
       "      <td>0.0</td>\n",
       "      <td>932.0</td>\n",
       "      <td>594.0</td>\n",
       "      <td>270</td>\n",
       "      <td>40.269535</td>\n",
       "    </tr>\n",
       "    <tr>\n",
       "      <th>3</th>\n",
       "      <td>332.5</td>\n",
       "      <td>142.5</td>\n",
       "      <td>0.0</td>\n",
       "      <td>228.0</td>\n",
       "      <td>0.0</td>\n",
       "      <td>932.0</td>\n",
       "      <td>594.0</td>\n",
       "      <td>365</td>\n",
       "      <td>41.052780</td>\n",
       "    </tr>\n",
       "    <tr>\n",
       "      <th>4</th>\n",
       "      <td>198.6</td>\n",
       "      <td>132.4</td>\n",
       "      <td>0.0</td>\n",
       "      <td>192.0</td>\n",
       "      <td>0.0</td>\n",
       "      <td>978.4</td>\n",
       "      <td>825.5</td>\n",
       "      <td>360</td>\n",
       "      <td>44.296075</td>\n",
       "    </tr>\n",
       "  </tbody>\n",
       "</table>\n",
       "</div>"
      ],
      "text/plain": [
       "   Cement  BF_slag  Fly_ash  Water  Super_plasticizer  Coarse_aggregate  \\\n",
       "0   540.0      0.0      0.0  162.0                2.5            1040.0   \n",
       "1   540.0      0.0      0.0  162.0                2.5            1055.0   \n",
       "2   332.5    142.5      0.0  228.0                0.0             932.0   \n",
       "3   332.5    142.5      0.0  228.0                0.0             932.0   \n",
       "4   198.6    132.4      0.0  192.0                0.0             978.4   \n",
       "\n",
       "   Fine_aggregate  Age   Comp_str  \n",
       "0           676.0   28  79.986111  \n",
       "1           676.0   28  61.887366  \n",
       "2           594.0  270  40.269535  \n",
       "3           594.0  365  41.052780  \n",
       "4           825.5  360  44.296075  "
      ]
     },
     "execution_count": 2,
     "metadata": {},
     "output_type": "execute_result"
    }
   ],
   "source": [
    "concrete = pd.read_excel(\"Concrete.xlsx\")\n",
    "concrete.head()"
   ]
  },
  {
   "cell_type": "code",
   "execution_count": 3,
   "metadata": {},
   "outputs": [
    {
     "name": "stdout",
     "output_type": "stream",
     "text": [
      "<class 'pandas.core.frame.DataFrame'>\n",
      "RangeIndex: 1030 entries, 0 to 1029\n",
      "Data columns (total 9 columns):\n",
      " #   Column             Non-Null Count  Dtype  \n",
      "---  ------             --------------  -----  \n",
      " 0   Cement             1030 non-null   float64\n",
      " 1   BF_slag            1030 non-null   float64\n",
      " 2   Fly_ash            1030 non-null   float64\n",
      " 3   Water              1030 non-null   float64\n",
      " 4   Super_plasticizer  1030 non-null   float64\n",
      " 5   Coarse_aggregate   1030 non-null   float64\n",
      " 6   Fine_aggregate     1030 non-null   float64\n",
      " 7   Age                1030 non-null   int64  \n",
      " 8   Comp_str           1030 non-null   float64\n",
      "dtypes: float64(8), int64(1)\n",
      "memory usage: 72.5 KB\n"
     ]
    }
   ],
   "source": [
    "concrete.info()"
   ]
  },
  {
   "cell_type": "code",
   "execution_count": 4,
   "metadata": {},
   "outputs": [
    {
     "data": {
      "text/html": [
       "<div>\n",
       "<style scoped>\n",
       "    .dataframe tbody tr th:only-of-type {\n",
       "        vertical-align: middle;\n",
       "    }\n",
       "\n",
       "    .dataframe tbody tr th {\n",
       "        vertical-align: top;\n",
       "    }\n",
       "\n",
       "    .dataframe thead th {\n",
       "        text-align: right;\n",
       "    }\n",
       "</style>\n",
       "<table border=\"1\" class=\"dataframe\">\n",
       "  <thead>\n",
       "    <tr style=\"text-align: right;\">\n",
       "      <th></th>\n",
       "      <th>Cement</th>\n",
       "      <th>BF_slag</th>\n",
       "      <th>Fly_ash</th>\n",
       "      <th>Water</th>\n",
       "      <th>Super_plasticizer</th>\n",
       "      <th>Coarse_aggregate</th>\n",
       "      <th>Fine_aggregate</th>\n",
       "      <th>Age</th>\n",
       "      <th>Comp_str</th>\n",
       "    </tr>\n",
       "  </thead>\n",
       "  <tbody>\n",
       "    <tr>\n",
       "      <th>count</th>\n",
       "      <td>1030.000000</td>\n",
       "      <td>1030.000000</td>\n",
       "      <td>1030.000000</td>\n",
       "      <td>1030.000000</td>\n",
       "      <td>1030.000000</td>\n",
       "      <td>1030.000000</td>\n",
       "      <td>1030.000000</td>\n",
       "      <td>1030.000000</td>\n",
       "      <td>1030.000000</td>\n",
       "    </tr>\n",
       "    <tr>\n",
       "      <th>mean</th>\n",
       "      <td>281.165631</td>\n",
       "      <td>73.895485</td>\n",
       "      <td>54.187136</td>\n",
       "      <td>181.566359</td>\n",
       "      <td>6.203112</td>\n",
       "      <td>972.918592</td>\n",
       "      <td>773.578883</td>\n",
       "      <td>45.662136</td>\n",
       "      <td>35.817836</td>\n",
       "    </tr>\n",
       "    <tr>\n",
       "      <th>std</th>\n",
       "      <td>104.507142</td>\n",
       "      <td>86.279104</td>\n",
       "      <td>63.996469</td>\n",
       "      <td>21.355567</td>\n",
       "      <td>5.973492</td>\n",
       "      <td>77.753818</td>\n",
       "      <td>80.175427</td>\n",
       "      <td>63.169912</td>\n",
       "      <td>16.705679</td>\n",
       "    </tr>\n",
       "    <tr>\n",
       "      <th>min</th>\n",
       "      <td>102.000000</td>\n",
       "      <td>0.000000</td>\n",
       "      <td>0.000000</td>\n",
       "      <td>121.750000</td>\n",
       "      <td>0.000000</td>\n",
       "      <td>801.000000</td>\n",
       "      <td>594.000000</td>\n",
       "      <td>1.000000</td>\n",
       "      <td>2.331808</td>\n",
       "    </tr>\n",
       "    <tr>\n",
       "      <th>25%</th>\n",
       "      <td>192.375000</td>\n",
       "      <td>0.000000</td>\n",
       "      <td>0.000000</td>\n",
       "      <td>164.900000</td>\n",
       "      <td>0.000000</td>\n",
       "      <td>932.000000</td>\n",
       "      <td>730.950000</td>\n",
       "      <td>7.000000</td>\n",
       "      <td>23.707115</td>\n",
       "    </tr>\n",
       "    <tr>\n",
       "      <th>50%</th>\n",
       "      <td>272.900000</td>\n",
       "      <td>22.000000</td>\n",
       "      <td>0.000000</td>\n",
       "      <td>185.000000</td>\n",
       "      <td>6.350000</td>\n",
       "      <td>968.000000</td>\n",
       "      <td>779.510000</td>\n",
       "      <td>28.000000</td>\n",
       "      <td>34.442774</td>\n",
       "    </tr>\n",
       "    <tr>\n",
       "      <th>75%</th>\n",
       "      <td>350.000000</td>\n",
       "      <td>142.950000</td>\n",
       "      <td>118.270000</td>\n",
       "      <td>192.000000</td>\n",
       "      <td>10.160000</td>\n",
       "      <td>1029.400000</td>\n",
       "      <td>824.000000</td>\n",
       "      <td>56.000000</td>\n",
       "      <td>46.136287</td>\n",
       "    </tr>\n",
       "    <tr>\n",
       "      <th>max</th>\n",
       "      <td>540.000000</td>\n",
       "      <td>359.400000</td>\n",
       "      <td>200.100000</td>\n",
       "      <td>247.000000</td>\n",
       "      <td>32.200000</td>\n",
       "      <td>1145.000000</td>\n",
       "      <td>992.600000</td>\n",
       "      <td>365.000000</td>\n",
       "      <td>82.599225</td>\n",
       "    </tr>\n",
       "  </tbody>\n",
       "</table>\n",
       "</div>"
      ],
      "text/plain": [
       "            Cement      BF_slag      Fly_ash        Water  Super_plasticizer  \\\n",
       "count  1030.000000  1030.000000  1030.000000  1030.000000        1030.000000   \n",
       "mean    281.165631    73.895485    54.187136   181.566359           6.203112   \n",
       "std     104.507142    86.279104    63.996469    21.355567           5.973492   \n",
       "min     102.000000     0.000000     0.000000   121.750000           0.000000   \n",
       "25%     192.375000     0.000000     0.000000   164.900000           0.000000   \n",
       "50%     272.900000    22.000000     0.000000   185.000000           6.350000   \n",
       "75%     350.000000   142.950000   118.270000   192.000000          10.160000   \n",
       "max     540.000000   359.400000   200.100000   247.000000          32.200000   \n",
       "\n",
       "       Coarse_aggregate  Fine_aggregate          Age     Comp_str  \n",
       "count       1030.000000     1030.000000  1030.000000  1030.000000  \n",
       "mean         972.918592      773.578883    45.662136    35.817836  \n",
       "std           77.753818       80.175427    63.169912    16.705679  \n",
       "min          801.000000      594.000000     1.000000     2.331808  \n",
       "25%          932.000000      730.950000     7.000000    23.707115  \n",
       "50%          968.000000      779.510000    28.000000    34.442774  \n",
       "75%         1029.400000      824.000000    56.000000    46.136287  \n",
       "max         1145.000000      992.600000   365.000000    82.599225  "
      ]
     },
     "execution_count": 4,
     "metadata": {},
     "output_type": "execute_result"
    }
   ],
   "source": [
    "concrete.describe()"
   ]
  },
  {
   "cell_type": "markdown",
   "metadata": {},
   "source": [
    "## Train test split"
   ]
  },
  {
   "cell_type": "code",
   "execution_count": 5,
   "metadata": {},
   "outputs": [
    {
     "name": "stdout",
     "output_type": "stream",
     "text": [
      "(1030, 8)\n",
      "(1030,)\n"
     ]
    }
   ],
   "source": [
    "X = concrete.drop(\"Comp_str\", axis = 1)\n",
    "y = concrete[\"Comp_str\"]\n",
    "\n",
    "print(X.shape)\n",
    "print(y.shape)"
   ]
  },
  {
   "cell_type": "code",
   "execution_count": 6,
   "metadata": {},
   "outputs": [],
   "source": [
    "X_train, X_test, y_train, y_test = train_test_split(X, y, test_size = 0.20, random_state = 42)"
   ]
  },
  {
   "cell_type": "code",
   "execution_count": 7,
   "metadata": {},
   "outputs": [],
   "source": [
    "scaler = StandardScaler()\n",
    "X_train_scaled = scaler.fit_transform(X_train)\n",
    "X_test_scaled = scaler.transform(X_test)"
   ]
  },
  {
   "cell_type": "markdown",
   "metadata": {},
   "source": [
    "## Grid search"
   ]
  },
  {
   "cell_type": "markdown",
   "metadata": {},
   "source": [
    "## Preparing grid"
   ]
  },
  {
   "cell_type": "code",
   "execution_count": 8,
   "metadata": {},
   "outputs": [
    {
     "name": "stdout",
     "output_type": "stream",
     "text": [
      "GridSearchCV(cv=10, estimator=GradientBoostingRegressor(criterion='mae'),\n",
      "             n_jobs=4,\n",
      "             param_grid={'criterion': ['friedman_mse', 'mse', 'mae'],\n",
      "                         'max_depth': [2, 4, 8, 10, 12],\n",
      "                         'max_features': ['auto', 'sqrt'],\n",
      "                         'n_estimators': [100, 200, 300]},\n",
      "             return_train_score=True, scoring='neg_mean_absolute_error')\n"
     ]
    }
   ],
   "source": [
    "# Create a Random Forest Classifier with specified criterion\n",
    "gb_regressor = GradientBoostingRegressor(criterion = \"mae\")\n",
    "\n",
    "# Create the parameter grid\n",
    "param_grid = {'max_depth' : [2, 4, 8, 10, 12],\n",
    "              'n_estimators' : [100, 200, 300],\n",
    "              'max_features' : ['auto', 'sqrt'],\n",
    "              \"criterion\" : [\"friedman_mse\", \"mse\", \"mae\"]} \n",
    "\n",
    "# Create a GridSearchCV object\n",
    "grid_gb = GridSearchCV(\n",
    "    estimator = gb_regressor,\n",
    "    param_grid = param_grid,\n",
    "    scoring = 'neg_mean_absolute_error',\n",
    "    n_jobs = 4,\n",
    "    cv = 10,\n",
    "    refit = True,\n",
    "    return_train_score = True)\n",
    "\n",
    "print(grid_gb)"
   ]
  },
  {
   "cell_type": "markdown",
   "metadata": {},
   "source": [
    "## Train model"
   ]
  },
  {
   "cell_type": "code",
   "execution_count": 9,
   "metadata": {},
   "outputs": [
    {
     "data": {
      "text/plain": [
       "GridSearchCV(cv=10, estimator=GradientBoostingRegressor(criterion='mae'),\n",
       "             n_jobs=4,\n",
       "             param_grid={'criterion': ['friedman_mse', 'mse', 'mae'],\n",
       "                         'max_depth': [2, 4, 8, 10, 12],\n",
       "                         'max_features': ['auto', 'sqrt'],\n",
       "                         'n_estimators': [100, 200, 300]},\n",
       "             return_train_score=True, scoring='neg_mean_absolute_error')"
      ]
     },
     "execution_count": 9,
     "metadata": {},
     "output_type": "execute_result"
    }
   ],
   "source": [
    "grid_gb.fit(X_train_scaled, y_train)"
   ]
  },
  {
   "cell_type": "markdown",
   "metadata": {},
   "source": [
    "### Best parameters"
   ]
  },
  {
   "cell_type": "code",
   "execution_count": 10,
   "metadata": {},
   "outputs": [
    {
     "data": {
      "text/plain": [
       "{'criterion': 'mse',\n",
       " 'max_depth': 4,\n",
       " 'max_features': 'sqrt',\n",
       " 'n_estimators': 300}"
      ]
     },
     "execution_count": 10,
     "metadata": {},
     "output_type": "execute_result"
    }
   ],
   "source": [
    "grid_gb.best_params_"
   ]
  },
  {
   "cell_type": "markdown",
   "metadata": {},
   "source": [
    "### Best score"
   ]
  },
  {
   "cell_type": "code",
   "execution_count": 11,
   "metadata": {},
   "outputs": [
    {
     "data": {
      "text/plain": [
       "-2.782602145634087"
      ]
     },
     "execution_count": 11,
     "metadata": {},
     "output_type": "execute_result"
    }
   ],
   "source": [
    "grid_gb.best_score_"
   ]
  },
  {
   "cell_type": "code",
   "execution_count": 12,
   "metadata": {},
   "outputs": [
    {
     "name": "stdout",
     "output_type": "stream",
     "text": [
      "    mean_fit_time  std_fit_time  mean_score_time  std_score_time  \\\n",
      "41       0.364101      0.031693         0.002497        0.000921   \n",
      "\n",
      "   param_criterion param_max_depth param_max_features param_n_estimators  \\\n",
      "41             mse               4               sqrt                300   \n",
      "\n",
      "                                               params  split0_test_score  ...  \\\n",
      "41  {'criterion': 'mse', 'max_depth': 4, 'max_feat...          -2.909463  ...   \n",
      "\n",
      "    split2_train_score  split3_train_score  split4_train_score  \\\n",
      "41           -1.151883           -1.112935           -1.176433   \n",
      "\n",
      "    split5_train_score  split6_train_score  split7_train_score  \\\n",
      "41            -1.17894           -1.191538           -1.139731   \n",
      "\n",
      "    split8_train_score  split9_train_score  mean_train_score  std_train_score  \n",
      "41           -1.211992           -1.190432         -1.176775         0.035209  \n",
      "\n",
      "[1 rows x 34 columns]\n"
     ]
    }
   ],
   "source": [
    "cv_results = pd.DataFrame(grid_gb.cv_results_)\n",
    "\n",
    "# Extract and print the row that had the best mean test score\n",
    "best_row = cv_results[cv_results['rank_test_score'] == 1]\n",
    "print(best_row)"
   ]
  },
  {
   "cell_type": "code",
   "execution_count": 13,
   "metadata": {},
   "outputs": [
    {
     "data": {
      "text/html": [
       "<div>\n",
       "<style scoped>\n",
       "    .dataframe tbody tr th:only-of-type {\n",
       "        vertical-align: middle;\n",
       "    }\n",
       "\n",
       "    .dataframe tbody tr th {\n",
       "        vertical-align: top;\n",
       "    }\n",
       "\n",
       "    .dataframe thead th {\n",
       "        text-align: right;\n",
       "    }\n",
       "</style>\n",
       "<table border=\"1\" class=\"dataframe\">\n",
       "  <thead>\n",
       "    <tr style=\"text-align: right;\">\n",
       "      <th></th>\n",
       "      <th>mean_fit_time</th>\n",
       "      <th>std_fit_time</th>\n",
       "      <th>mean_score_time</th>\n",
       "      <th>std_score_time</th>\n",
       "      <th>param_criterion</th>\n",
       "      <th>param_max_depth</th>\n",
       "      <th>param_max_features</th>\n",
       "      <th>param_n_estimators</th>\n",
       "      <th>params</th>\n",
       "      <th>split0_test_score</th>\n",
       "      <th>...</th>\n",
       "      <th>split2_train_score</th>\n",
       "      <th>split3_train_score</th>\n",
       "      <th>split4_train_score</th>\n",
       "      <th>split5_train_score</th>\n",
       "      <th>split6_train_score</th>\n",
       "      <th>split7_train_score</th>\n",
       "      <th>split8_train_score</th>\n",
       "      <th>split9_train_score</th>\n",
       "      <th>mean_train_score</th>\n",
       "      <th>std_train_score</th>\n",
       "    </tr>\n",
       "  </thead>\n",
       "  <tbody>\n",
       "    <tr>\n",
       "      <th>41</th>\n",
       "      <td>0.364101</td>\n",
       "      <td>0.031693</td>\n",
       "      <td>0.002497</td>\n",
       "      <td>0.000921</td>\n",
       "      <td>mse</td>\n",
       "      <td>4</td>\n",
       "      <td>sqrt</td>\n",
       "      <td>300</td>\n",
       "      <td>{'criterion': 'mse', 'max_depth': 4, 'max_feat...</td>\n",
       "      <td>-2.909463</td>\n",
       "      <td>...</td>\n",
       "      <td>-1.151883</td>\n",
       "      <td>-1.112935</td>\n",
       "      <td>-1.176433</td>\n",
       "      <td>-1.17894</td>\n",
       "      <td>-1.191538</td>\n",
       "      <td>-1.139731</td>\n",
       "      <td>-1.211992</td>\n",
       "      <td>-1.190432</td>\n",
       "      <td>-1.176775</td>\n",
       "      <td>0.035209</td>\n",
       "    </tr>\n",
       "  </tbody>\n",
       "</table>\n",
       "<p>1 rows × 34 columns</p>\n",
       "</div>"
      ],
      "text/plain": [
       "    mean_fit_time  std_fit_time  mean_score_time  std_score_time  \\\n",
       "41       0.364101      0.031693         0.002497        0.000921   \n",
       "\n",
       "   param_criterion param_max_depth param_max_features param_n_estimators  \\\n",
       "41             mse               4               sqrt                300   \n",
       "\n",
       "                                               params  split0_test_score  ...  \\\n",
       "41  {'criterion': 'mse', 'max_depth': 4, 'max_feat...          -2.909463  ...   \n",
       "\n",
       "    split2_train_score  split3_train_score  split4_train_score  \\\n",
       "41           -1.151883           -1.112935           -1.176433   \n",
       "\n",
       "    split5_train_score  split6_train_score  split7_train_score  \\\n",
       "41            -1.17894           -1.191538           -1.139731   \n",
       "\n",
       "    split8_train_score  split9_train_score  mean_train_score  std_train_score  \n",
       "41           -1.211992           -1.190432         -1.176775         0.035209  \n",
       "\n",
       "[1 rows x 34 columns]"
      ]
     },
     "execution_count": 13,
     "metadata": {},
     "output_type": "execute_result"
    }
   ],
   "source": [
    "cv_results.loc[[grid_gb.best_index_]]"
   ]
  },
  {
   "cell_type": "code",
   "execution_count": 14,
   "metadata": {},
   "outputs": [
    {
     "data": {
      "text/plain": [
       "300"
      ]
     },
     "execution_count": 14,
     "metadata": {},
     "output_type": "execute_result"
    }
   ],
   "source": [
    "grid_gb.best_params_[\"n_estimators\"]"
   ]
  },
  {
   "cell_type": "markdown",
   "metadata": {},
   "source": [
    "## Predict test score"
   ]
  },
  {
   "cell_type": "code",
   "execution_count": 15,
   "metadata": {},
   "outputs": [],
   "source": [
    "predictions = grid_gb.best_estimator_.predict(X_test_scaled)"
   ]
  },
  {
   "cell_type": "code",
   "execution_count": 16,
   "metadata": {},
   "outputs": [
    {
     "data": {
      "text/plain": [
       "2.795385910770736"
      ]
     },
     "execution_count": 16,
     "metadata": {},
     "output_type": "execute_result"
    }
   ],
   "source": [
    "mean_absolute_error(predictions, y_test)"
   ]
  },
  {
   "cell_type": "markdown",
   "metadata": {},
   "source": [
    "# Random Search"
   ]
  },
  {
   "cell_type": "code",
   "execution_count": 17,
   "metadata": {},
   "outputs": [
    {
     "name": "stdout",
     "output_type": "stream",
     "text": [
      "RandomizedSearchCV(cv=10, estimator=GradientBoostingRegressor(criterion='mae'),\n",
      "                   n_jobs=4,\n",
      "                   param_distributions={'criterion': ['friedman_mse', 'mse',\n",
      "                                                      'mae'],\n",
      "                                        'max_depth': [2, 4, 8, 10, 12],\n",
      "                                        'max_features': ['auto', 'sqrt'],\n",
      "                                        'n_estimators': [100, 200, 300]},\n",
      "                   return_train_score=True, scoring='neg_mean_absolute_error')\n"
     ]
    }
   ],
   "source": [
    "# Create a Random Forest Classifier with specified criterion\n",
    "gb_regressor = GradientBoostingRegressor(criterion = \"mae\")\n",
    "\n",
    "# Create the parameter grid\n",
    "param_grid = {'max_depth' : [2, 4, 8, 10, 12],\n",
    "              'n_estimators' : [100, 200, 300],\n",
    "              'max_features' : ['auto', 'sqrt'],\n",
    "              \"criterion\" : [\"friedman_mse\", \"mse\", \"mae\"]} \n",
    "\n",
    "# Create a GridSearchCV object\n",
    "random_grid_gb = RandomizedSearchCV(\n",
    "    estimator = gb_regressor,\n",
    "    param_distributions = param_grid,\n",
    "    scoring = 'neg_mean_absolute_error',\n",
    "    n_jobs = 4,\n",
    "    cv = 10,\n",
    "    refit = True, return_train_score = True)\n",
    "print(random_grid_gb)"
   ]
  },
  {
   "cell_type": "code",
   "execution_count": 18,
   "metadata": {},
   "outputs": [
    {
     "data": {
      "text/plain": [
       "RandomizedSearchCV(cv=10, estimator=GradientBoostingRegressor(criterion='mae'),\n",
       "                   n_jobs=4,\n",
       "                   param_distributions={'criterion': ['friedman_mse', 'mse',\n",
       "                                                      'mae'],\n",
       "                                        'max_depth': [2, 4, 8, 10, 12],\n",
       "                                        'max_features': ['auto', 'sqrt'],\n",
       "                                        'n_estimators': [100, 200, 300]},\n",
       "                   return_train_score=True, scoring='neg_mean_absolute_error')"
      ]
     },
     "execution_count": 18,
     "metadata": {},
     "output_type": "execute_result"
    }
   ],
   "source": [
    "random_grid_gb.fit(X_train_scaled, y_train)"
   ]
  },
  {
   "cell_type": "code",
   "execution_count": 19,
   "metadata": {},
   "outputs": [
    {
     "name": "stdout",
     "output_type": "stream",
     "text": [
      "[12 10 2 4 4 2 4 8 2 8]\n",
      "[100 200 300 200 200 100 100 100 100 100]\n"
     ]
    }
   ],
   "source": [
    "print(random_grid_gb.cv_results_['param_max_depth'])\n",
    "print(random_grid_gb.cv_results_['param_n_estimators'])"
   ]
  },
  {
   "cell_type": "code",
   "execution_count": 20,
   "metadata": {},
   "outputs": [
    {
     "data": {
      "text/plain": [
       "{'n_estimators': 100,\n",
       " 'max_features': 'sqrt',\n",
       " 'max_depth': 8,\n",
       " 'criterion': 'mse'}"
      ]
     },
     "execution_count": 20,
     "metadata": {},
     "output_type": "execute_result"
    }
   ],
   "source": [
    "random_grid_gb.best_params_"
   ]
  },
  {
   "cell_type": "code",
   "execution_count": 21,
   "metadata": {},
   "outputs": [
    {
     "data": {
      "text/plain": [
       "-3.009400472938249"
      ]
     },
     "execution_count": 21,
     "metadata": {},
     "output_type": "execute_result"
    }
   ],
   "source": [
    "random_grid_gb.best_score_"
   ]
  },
  {
   "cell_type": "code",
   "execution_count": 22,
   "metadata": {},
   "outputs": [],
   "source": [
    "predictions = random_grid_gb.best_estimator_.predict(X_test_scaled)"
   ]
  },
  {
   "cell_type": "code",
   "execution_count": 23,
   "metadata": {},
   "outputs": [
    {
     "data": {
      "text/plain": [
       "3.085978632092046"
      ]
     },
     "execution_count": 23,
     "metadata": {},
     "output_type": "execute_result"
    }
   ],
   "source": [
    "mean_absolute_error(predictions, y_test)"
   ]
  },
  {
   "cell_type": "markdown",
   "metadata": {},
   "source": [
    "## Genetic hyperparameters tuning"
   ]
  },
  {
   "cell_type": "raw",
   "metadata": {},
   "source": [
    "!pip install TPOT"
   ]
  },
  {
   "cell_type": "code",
   "execution_count": 27,
   "metadata": {},
   "outputs": [],
   "source": [
    "from tpot import TPOTRegressor"
   ]
  },
  {
   "cell_type": "code",
   "execution_count": 28,
   "metadata": {},
   "outputs": [
    {
     "data": {
      "application/vnd.jupyter.widget-view+json": {
       "model_id": "",
       "version_major": 2,
       "version_minor": 0
      },
      "text/plain": [
       "Optimization Progress:   0%|          | 0/210 [00:00<?, ?pipeline/s]"
      ]
     },
     "metadata": {},
     "output_type": "display_data"
    },
    {
     "name": "stdout",
     "output_type": "stream",
     "text": [
      "\n",
      "Generation 1 - Current best internal CV score: -3.028483254521133\n",
      "\n",
      "Generation 2 - Current best internal CV score: -3.0232138198951146\n",
      "\n",
      "Generation 3 - Current best internal CV score: -3.0232138198951146\n",
      "\n",
      "Generation 4 - Current best internal CV score: -3.0232138198951146\n",
      "\n",
      "Generation 5 - Current best internal CV score: -3.0232138198951146\n",
      "\n",
      "Generation 6 - Current best internal CV score: -3.0232138198951146\n",
      "\n",
      "Generation 7 - Current best internal CV score: -3.0232138198951146\n",
      "\n",
      "Generation 8 - Current best internal CV score: -2.9996221125186024\n",
      "\n",
      "Generation 9 - Current best internal CV score: -2.9996221125186024\n",
      "\n",
      "Generation 10 - Current best internal CV score: -2.9828855398193816\n",
      "\n",
      "Generation 11 - Current best internal CV score: -2.9828855398193816\n",
      "\n",
      "Generation 12 - Current best internal CV score: -2.9342178716345044\n",
      "\n",
      "Generation 13 - Current best internal CV score: -2.9342178716345044\n",
      "\n",
      "Generation 14 - Current best internal CV score: -2.9325544289876646\n",
      "\n",
      "Generation 15 - Current best internal CV score: -2.8908559422446056\n",
      "\n",
      "Generation 16 - Current best internal CV score: -2.8908559422446056\n",
      "\n",
      "Generation 17 - Current best internal CV score: -2.8908559422446056\n",
      "\n",
      "Generation 18 - Current best internal CV score: -2.8908559422446056\n",
      "\n",
      "Generation 19 - Current best internal CV score: -2.8908559422446056\n",
      "\n",
      "Generation 20 - Current best internal CV score: -2.8908559422446056\n",
      "\n",
      "Best pipeline: XGBRegressor(CombineDFs(input_matrix, LassoLarsCV(input_matrix, normalize=True)), learning_rate=0.1, max_depth=8, min_child_weight=1, n_estimators=100, n_jobs=1, objective=reg:squarederror, subsample=0.5, verbosity=0)\n",
      "-2.9374855216171953\n"
     ]
    }
   ],
   "source": [
    "# Assign the values outlined to the inputs\n",
    "number_generations = 20\n",
    "population_size = 10\n",
    "offspring_size = 10\n",
    "scoring_function = 'neg_mean_absolute_error'\n",
    "\n",
    "# Create the tpot classifier\n",
    "tpot_clf = TPOTRegressor(generations = number_generations,\n",
    "                         population_size = population_size,\n",
    "                         offspring_size = offspring_size,\n",
    "                         scoring = scoring_function,\n",
    "                         verbosity = 2,\n",
    "                         random_state = 2,\n",
    "                         cv = 10,\n",
    "                         n_jobs = -1)\n",
    "\n",
    "# Fit the classifier to the training data\n",
    "tpot_clf.fit(X_train_scaled, y_train)\n",
    "\n",
    "# Score on the test set\n",
    "print(tpot_clf.score(X_test_scaled, y_test))"
   ]
  },
  {
   "cell_type": "code",
   "execution_count": 36,
   "metadata": {},
   "outputs": [],
   "source": [
    "predictions = tpot_clf.predict(X_test_scaled)"
   ]
  },
  {
   "cell_type": "code",
   "execution_count": 40,
   "metadata": {},
   "outputs": [
    {
     "data": {
      "text/plain": [
       "31    52.90832\n",
       "Name: Comp_str, dtype: float64"
      ]
     },
     "execution_count": 40,
     "metadata": {},
     "output_type": "execute_result"
    }
   ],
   "source": [
    "y_test[0:1]"
   ]
  },
  {
   "cell_type": "code",
   "execution_count": 41,
   "metadata": {},
   "outputs": [
    {
     "data": {
      "text/plain": [
       "array([51.695007], dtype=float32)"
      ]
     },
     "execution_count": 41,
     "metadata": {},
     "output_type": "execute_result"
    }
   ],
   "source": [
    "predictions[0:1]"
   ]
  },
  {
   "cell_type": "code",
   "execution_count": null,
   "metadata": {},
   "outputs": [],
   "source": [
    "pd"
   ]
  }
 ],
 "metadata": {
  "hide_input": false,
  "kernelspec": {
   "display_name": "Python 3",
   "language": "python",
   "name": "python3"
  },
  "language_info": {
   "codemirror_mode": {
    "name": "ipython",
    "version": 3
   },
   "file_extension": ".py",
   "mimetype": "text/x-python",
   "name": "python",
   "nbconvert_exporter": "python",
   "pygments_lexer": "ipython3",
   "version": "3.8.8"
  },
  "varInspector": {
   "cols": {
    "lenName": 16,
    "lenType": 16,
    "lenVar": 40
   },
   "kernels_config": {
    "python": {
     "delete_cmd_postfix": "",
     "delete_cmd_prefix": "del ",
     "library": "var_list.py",
     "varRefreshCmd": "print(var_dic_list())"
    },
    "r": {
     "delete_cmd_postfix": ") ",
     "delete_cmd_prefix": "rm(",
     "library": "var_list.r",
     "varRefreshCmd": "cat(var_dic_list()) "
    }
   },
   "types_to_exclude": [
    "module",
    "function",
    "builtin_function_or_method",
    "instance",
    "_Feature"
   ],
   "window_display": false
  }
 },
 "nbformat": 4,
 "nbformat_minor": 4
}
