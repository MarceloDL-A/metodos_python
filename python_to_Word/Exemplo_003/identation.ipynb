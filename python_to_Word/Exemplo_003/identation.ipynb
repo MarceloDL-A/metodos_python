{
 "cells": [
  {
   "cell_type": "markdown",
   "id": "economic-orleans",
   "metadata": {},
   "source": [
    "### [Paragraph Formatting In Python .docx Module](https://www.geeksforgeeks.org/paragraph-formatting-in-python-docx-module/)"
   ]
  },
  {
   "cell_type": "markdown",
   "id": "dutch-bumper",
   "metadata": {},
   "source": [
    "#### Example 1: Setting the line spacing with absolute distance value."
   ]
  },
  {
   "cell_type": "code",
   "execution_count": 1,
   "id": "crazy-monitoring",
   "metadata": {},
   "outputs": [],
   "source": [
    "# Import docx NOT python-docx\n",
    "import docx\n",
    "from docx.shared import Inches\n",
    "\n",
    "# Create an instance of a word document\n",
    "doc = docx.Document()\n",
    "\n",
    "# Add a Title to the document\n",
    "doc.add_heading('GeeksForGeeks', 0)\n",
    "\n",
    "# Adding paragraph with spacing\n",
    "doc.add_heading('Line Spacing: Para-1 [With Spacing]', 3)\n",
    "para = doc.add_paragraph('GeeksforGeeks is a Computer Science portal for geeks. It contains well written, well thought and well-explained computer science and programming articles, quizzes etc.')\n",
    "# Adding line space of 0.5 inches in the paragraph\n",
    "para.paragraph_format.line_spacing = Inches(0.5)\n",
    "\n",
    "# Adding paragraph without spacing\n",
    "doc.add_heading('Line Spacing: Para-2 [Without Spacing]', 3)\n",
    "doc.add_paragraph('GeeksforGeeks is a Computer Science portal for geeks. It contains well written, well thought and well-explained computer science and programming articles, quizzes etc.')\n",
    "\n",
    "# Now save the document to a location\n",
    "doc.save('gfg.docx')\n"
   ]
  },
  {
   "cell_type": "markdown",
   "id": "photographic-termination",
   "metadata": {},
   "source": [
    "![](gfg.jpg)"
   ]
  },
  {
   "cell_type": "markdown",
   "id": "simple-oxygen",
   "metadata": {},
   "source": [
    "#### Example 2: Setting the line spacing with relative value."
   ]
  },
  {
   "cell_type": "code",
   "execution_count": 3,
   "id": "statewide-sample",
   "metadata": {},
   "outputs": [],
   "source": [
    "# Import docx NOT python-docx\n",
    "import docx\n",
    "\n",
    "# Create an instance of a word document\n",
    "doc = docx.Document()\n",
    "\n",
    "# Add a Title to the document\n",
    "doc.add_heading('GeeksForGeeks', 0)\n",
    "\n",
    "# Adding paragraph with spacing\n",
    "doc.add_heading('Line Spacing: Para-1 [With Spacing]', 3)\n",
    "para = doc.add_paragraph('GeeksforGeeks is a Computer Science portal for geeks. It contains well written, well thought and well-explained computer science and programming articles, quizzes etc.')\n",
    "# Adding line space in the paragraph\n",
    "para.paragraph_format.line_spacing = 1.75\n",
    "\n",
    "# Adding paragraph without spacing\n",
    "doc.add_heading('Line Spacing: Para-2 [Without Spacing]', 3)\n",
    "doc.add_paragraph('GeeksforGeeks is a Computer Science portal for geeks. It contains well written, well thought and well-explained computer science and programming articles, quizzes etc.')\n",
    "\n",
    "# Now save the document to a location\n",
    "doc.save('gfg2.docx')\n"
   ]
  },
  {
   "cell_type": "markdown",
   "id": "accessible-grant",
   "metadata": {},
   "source": [
    "![](gfg2.jpg)"
   ]
  },
  {
   "cell_type": "code",
   "execution_count": null,
   "id": "impossible-kelly",
   "metadata": {},
   "outputs": [],
   "source": []
  }
 ],
 "metadata": {
  "kernelspec": {
   "display_name": "Python 3",
   "language": "python",
   "name": "python3"
  },
  "language_info": {
   "codemirror_mode": {
    "name": "ipython",
    "version": 3
   },
   "file_extension": ".py",
   "mimetype": "text/x-python",
   "name": "python",
   "nbconvert_exporter": "python",
   "pygments_lexer": "ipython3",
   "version": "3.8.8"
  }
 },
 "nbformat": 4,
 "nbformat_minor": 5
}
