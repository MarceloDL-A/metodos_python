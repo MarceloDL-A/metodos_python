{
 "cells": [
  {
   "cell_type": "markdown",
   "id": "further-socket",
   "metadata": {},
   "source": [
    "#### [Adição de colunas](https://github.com/python-openxml/python-docx/issues/167)"
   ]
  },
  {
   "cell_type": "markdown",
   "id": "subject-january",
   "metadata": {},
   "source": [
    "[WD_PARAGRAPH_ALIGNMENT](https://python-docx.readthedocs.io/en/latest/api/enum/WdAlignParagraph.html)"
   ]
  },
  {
   "cell_type": "code",
   "execution_count": 29,
   "id": "stainless-israeli",
   "metadata": {},
   "outputs": [],
   "source": [
    "from docx import Document\n",
    "from docx.enum.section import WD_SECTION\n",
    "from docx.enum.text import WD_ALIGN_PARAGRAPH"
   ]
  },
  {
   "cell_type": "code",
   "execution_count": 30,
   "id": "fitted-climate",
   "metadata": {},
   "outputs": [],
   "source": [
    "WNS_COLS_NUM = \"{http://schemas.openxmlformats.org/wordprocessingml/2006/main}num\"\n",
    "\n",
    "def set_number_of_columns(section, cols):\n",
    "    \"\"\" sets number of columns through xpath. \"\"\"\n",
    "    section._sectPr.xpath(\"./w:cols\")[0].set(WNS_COLS_NUM, str(cols))"
   ]
  },
  {
   "cell_type": "code",
   "execution_count": 33,
   "id": "binding-sudan",
   "metadata": {},
   "outputs": [],
   "source": [
    "doc = Document()\n",
    "paragraph = doc.add_paragraph(\"this page should be normal 1 columnIs anyone working on this feature now or is there any show-stopper in development? I had an urgent need in this feature and it took less than 20 minutes to figure out a working solution so I'd share if it helps anyone. Is there anything fundamentally wrong with the solution below and if not - what would be the right way to integrate it (apart from the tests)?\")\n",
    "paragraph.alignment = WD_ALIGN_PARAGRAPH.JUSTIFY\n",
    "doc.add_page_break()\n",
    "section = doc.add_section(WD_SECTION.NEW_PAGE)\n",
    "set_number_of_columns(section, 2)\n",
    "paragraph = doc.add_paragraph(\"this page should have 2 columns and it seems to work ok from docx import Document from docx import Document from docx import Document from docx import Document from docx import Document from docx import Document from docx import Document from docx import Document from docx import Document from docx import Document from docx import Document this page should have 2 columns and it seems to work ok from docx import Document from docx import Document from docx import Document from docx import Document from docx import Document from docx import Document from docx import Document from docx import Document from docx import Document from docx import Document from docx import Document this page should have 2 columns and it seems to work ok from docx import Document from docx import Document from docx import Document from docx import Document from docx import Document from docx import Document from docx import Document from docx import Document from docx import Document from docx import Document from docx import Document this page should have 2 columns and it seems to work ok from docx import Document from docx import Document from docx import Document from docx import Document from docx import Document from docx import Document from docx import Document from docx import Document from docx import Document from docx import Document from docx import Document this page should have 2 columns and it seems to work ok from docx import Document from docx import Document from docx import Document from docx import Document from docx import Document from docx import Document from docx import Document from docx import Document from docx import Document from docx import Document from docx import Document this page should have 2 columns and it seems to work ok from docx import Document from docx import Document from docx import Document from docx import Document from docx import Document from docx import Document from docx import Document from docx import Document from docx import Document from docx import Document from docx import Document this page should have 2 columns and it seems to work ok from docx import Document from docx import Document from docx import Document from docx import Document from docx import Document from docx import Document from docx import Document from docx import Document from docx import Document from docx import Document from docx import Document this page should have 2 columns and it seems to work ok from docx import Document from docx import Document from docx import Document from docx import Document from docx import Document from docx import Document from docx import Document from docx import Document from docx import Document from docx import Document from docx import Document this page should have 2 columns and it seems to work ok from docx import Document from docx import Document from docx import Document from docx import Document from docx import Document from docx import Document from docx import Document from docx import Document from docx import Document from docx import Document from docx import Document this page should have 2 columns and it seems to work ok from docx import Document from docx import Document from docx import Document from docx import Document from docx import Document from docx import Document from docx import Document from docx import Document from docx import Document from docx import Document from docx import Document this page should have 2 columns and it seems to work ok from docx import Document from docx import Document from docx import Document from docx import Document from docx import Document from docx import Document from docx import Document from docx import Document from docx import Document from docx import Document from docx import Document this page should have 2 columns and it seems to work ok from docx import Document from docx import Document from docx import Document from docx import Document from docx import Document from docx import Document from docx import Document from docx import Document from docx import Document from docx import Document from docx import Document this page should have 2 columns and it seems to work ok from docx import Document from docx import Document from docx import Document from docx import Document from docx import Document from docx import Document from docx import Document from docx import Document from docx import Document from docx import Document from docx import Document this page should have 2 columns and it seems to work ok from docx import Document from docx import Document from docx import Document from docx import Document from docx import Document from docx import Document from docx import Document from docx import Document from docx import Document from docx import Document from docx import Document this page should have 2 columns and it seems to work ok from docx import Document from docx import Document from docx import Document from docx import Document from docx import Document from docx import Document from docx import Document from docx import Document from docx import Document from docx import Document from docx import Document this page should have 2 columns and it seems to work ok from docx import Document from docx import Document from docx import Document from docx import Document from docx import Document from docx import Document from docx import Document from docx import Document from docx import Document from docx import Document from docx import Document this page should have 2 columns and it seems to work ok from docx import Document from docx import Document from docx import Document from docx import Document from docx import Document from docx import Document from docx import Document from docx import Document from docx import Document from docx import Document from docx import Document this page should have 2 columns and it seems to work ok from docx import Document from docx import Document from docx import Document from docx import Document from docx import Document from docx import Document from docx import Document from docx import Document from docx import Document from docx import Document from docx import Document\")\n",
    "paragraph.alignment = WD_ALIGN_PARAGRAPH.JUSTIFY"
   ]
  },
  {
   "cell_type": "code",
   "execution_count": 34,
   "id": "continuing-maple",
   "metadata": {},
   "outputs": [],
   "source": [
    "doc.save(\"teste.docx\")"
   ]
  },
  {
   "cell_type": "code",
   "execution_count": null,
   "id": "motivated-chaos",
   "metadata": {},
   "outputs": [],
   "source": []
  }
 ],
 "metadata": {
  "kernelspec": {
   "display_name": "Python 3",
   "language": "python",
   "name": "python3"
  },
  "language_info": {
   "codemirror_mode": {
    "name": "ipython",
    "version": 3
   },
   "file_extension": ".py",
   "mimetype": "text/x-python",
   "name": "python",
   "nbconvert_exporter": "python",
   "pygments_lexer": "ipython3",
   "version": "3.8.8"
  }
 },
 "nbformat": 4,
 "nbformat_minor": 5
}
