{
 "cells": [
  {
   "cell_type": "markdown",
   "id": "sustained-manner",
   "metadata": {},
   "source": [
    "[WD_PARAGRAPH_ALIGNMENT](https://python-docx.readthedocs.io/en/latest/api/enum/WdAlignParagraph.html)"
   ]
  },
  {
   "cell_type": "code",
   "execution_count": 8,
   "id": "transparent-fireplace",
   "metadata": {},
   "outputs": [],
   "source": [
    "WNS_COLS_NUM = \"{http://schemas.openxmlformats.org/wordprocessingml/2006/main}num\"\n",
    "\n",
    "def set_number_of_columns(section, cols):\n",
    "    \"\"\" sets number of columns through xpath. \"\"\"\n",
    "    section._sectPr.xpath(\"./w:cols\")[0].set(WNS_COLS_NUM, str(cols))"
   ]
  },
  {
   "cell_type": "code",
   "execution_count": 9,
   "id": "fluid-finnish",
   "metadata": {},
   "outputs": [
    {
     "data": {
      "text/plain": [
       "<docx.text.paragraph.Paragraph at 0x1f83b84f250>"
      ]
     },
     "execution_count": 9,
     "metadata": {},
     "output_type": "execute_result"
    }
   ],
   "source": [
    "from docx import Document\n",
    "from docx.enum.section import WD_SECTION\n",
    "\n",
    "\n",
    "doc = Document()\n",
    "doc.add_paragraph(\"this page should be normal 1 columnIs anyone working on this feature now or is there any show-stopper in development? I had an urgent need in this feature and it took less than 20 minutes to figure out a working solution so I'd share if it helps anyone. Is there anything fundamentally wrong with the solution below and if not - what would be the right way to integrate it (apart from the tests)?\")\n",
    "doc.add_page_break()\n",
    "section = doc.add_section(WD_SECTION.NEW_PAGE)\n",
    "set_number_of_columns(section, 2)\n",
    "doc.add_paragraph(\"this page should have 2 columns and it seems to work ok from docx import Documentfrom docx import Documentfrom docx import Documentfrom docx import Documentfrom docx import Documentfrom docx import Documentfrom docx import Documentfrom docx import Documentfrom docx import Documentfrom docx import Documentfrom docx import Document\")"
   ]
  },
  {
   "cell_type": "code",
   "execution_count": 10,
   "id": "known-pierre",
   "metadata": {},
   "outputs": [],
   "source": [
    "doc.save(\"teste2.docx\")"
   ]
  },
  {
   "cell_type": "code",
   "execution_count": null,
   "id": "intellectual-metabolism",
   "metadata": {},
   "outputs": [],
   "source": []
  },
  {
   "cell_type": "code",
   "execution_count": null,
   "id": "approved-campus",
   "metadata": {},
   "outputs": [],
   "source": []
  }
 ],
 "metadata": {
  "kernelspec": {
   "display_name": "Python 3",
   "language": "python",
   "name": "python3"
  },
  "language_info": {
   "codemirror_mode": {
    "name": "ipython",
    "version": 3
   },
   "file_extension": ".py",
   "mimetype": "text/x-python",
   "name": "python",
   "nbconvert_exporter": "python",
   "pygments_lexer": "ipython3",
   "version": "3.8.8"
  }
 },
 "nbformat": 4,
 "nbformat_minor": 5
}
