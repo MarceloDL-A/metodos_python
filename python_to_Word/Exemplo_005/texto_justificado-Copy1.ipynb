{
 "cells": [
  {
   "cell_type": "markdown",
   "id": "supposed-hartford",
   "metadata": {},
   "source": [
    "[WD_PARAGRAPH_ALIGNMENT](https://python-docx.readthedocs.io/en/latest/api/enum/WdAlignParagraph.html)"
   ]
  },
  {
   "cell_type": "code",
   "execution_count": 57,
   "id": "portuguese-locator",
   "metadata": {},
   "outputs": [],
   "source": [
    "from docx import Document\n",
    "from docx.enum.text import WD_ALIGN_PARAGRAPH\n",
    "from docx.shared import Inches\n",
    "from docx import Document\n",
    "from docx.enum.section import WD_SECTION\n",
    "from docx.enum.section import WD_ORIENT\n",
    "document = Document('fullText.docx')"
   ]
  },
  {
   "cell_type": "code",
   "execution_count": 58,
   "id": "virgin-training",
   "metadata": {},
   "outputs": [],
   "source": [
    "def obtainText(docFileName):\n",
    "    document = Document(docFileName)\n",
    "    finalText = []\n",
    "    for line in document.paragraphs:\n",
    "        finalText.append(line.text)\n",
    "    return \"\\n\".join(finalText)"
   ]
  },
  {
   "cell_type": "code",
   "execution_count": 59,
   "id": "removable-jackson",
   "metadata": {},
   "outputs": [
    {
     "name": "stdout",
     "output_type": "stream",
     "text": [
      "This is Heading1 Text\n",
      "This is a regular paragraph with the default style of Normal. This is a regular paragraph with the default style of Normal. This is a regular paragraph with the default style of Normal. This is a regular paragraph with the default style of Normal. This is a regular paragraph with the default style of Normal.\n",
      "This is a Defined Block Style Called BlockStyleTest\n",
      "This is more Normal text.\n",
      "This is Heading 2 text\n",
      "This is more Normal text. This is bold, this is italic, and this is bold italic. This is normal. This is in a defined inline style called InlineStyle. This is normal. This is red text. This is normal.\n",
      "This block is centered.\n",
      "This is left-aligned.\n",
      " \n",
      "First item of bulleted list.\n",
      "Second item of bulleted list.\n",
      "Second paragraph of second item of bulleted list.\n",
      "Third item of bulleted list.\n",
      "First item of third item’s nested list\n",
      "Second item of third item’s nested list\n",
      "Fourth and final item of main bulleted list.\n",
      " \n",
      "\n"
     ]
    }
   ],
   "source": [
    "print(obtainText(\"fullText.docx\"))"
   ]
  },
  {
   "cell_type": "markdown",
   "id": "welsh-unemployment",
   "metadata": {},
   "source": [
    "Imprimindo linha por linha"
   ]
  },
  {
   "cell_type": "code",
   "execution_count": 60,
   "id": "operational-procedure",
   "metadata": {},
   "outputs": [
    {
     "name": "stdout",
     "output_type": "stream",
     "text": [
      "This is Heading1 Text\n",
      "This is a regular paragraph with the default style of Normal. This is a regular paragraph with the default style of Normal. This is a regular paragraph with the default style of Normal. This is a regular paragraph with the default style of Normal. This is a regular paragraph with the default style of Normal.\n",
      "This is a Defined Block Style Called BlockStyleTest\n",
      "This is more Normal text.\n",
      "This is Heading 2 text\n",
      "This is more Normal text. This is bold, this is italic, and this is bold italic. This is normal. This is in a defined inline style called InlineStyle. This is normal. This is red text. This is normal.\n",
      "This block is centered.\n",
      "This is left-aligned.\n",
      " \n",
      "First item of bulleted list.\n",
      "Second item of bulleted list.\n",
      "Second paragraph of second item of bulleted list.\n",
      "Third item of bulleted list.\n",
      "First item of third item’s nested list\n",
      "Second item of third item’s nested list\n",
      "Fourth and final item of main bulleted list.\n",
      " \n",
      "\n"
     ]
    }
   ],
   "source": [
    "for line in document.paragraphs:\n",
    "    print(line.text)\n"
   ]
  },
  {
   "cell_type": "markdown",
   "id": "enhanced-avatar",
   "metadata": {},
   "source": [
    "##### Forma um objeto de nome **text_file** para ser inserido o texto na forma string e gera o arquivo de nome **sample.tx** para ser escrito através da propriedade **w**"
   ]
  },
  {
   "cell_type": "code",
   "execution_count": 61,
   "id": "applicable-labor",
   "metadata": {},
   "outputs": [],
   "source": [
    "text_file = open(\"sample.txt\", \"w\")"
   ]
  },
  {
   "cell_type": "code",
   "execution_count": 64,
   "id": "deadly-smell",
   "metadata": {},
   "outputs": [
    {
     "name": "stdout",
     "output_type": "stream",
     "text": [
      "This is Heading1 Text\n",
      "This is a regular paragraph with the default style of Normal. This is a regular paragraph with the default style of Normal. This is a regular paragraph with the default style of Normal. This is a regular paragraph with the default style of Normal. This is a regular paragraph with the default style of Normal.\n",
      "This is a Defined Block Style Called BlockStyleTest\n",
      "This is more Normal text.\n",
      "This is Heading 2 text\n",
      "This is more Normal text. This is bold, this is italic, and this is bold italic. This is normal. This is in a defined inline style called InlineStyle. This is normal. This is red text. This is normal.\n",
      "This block is centered.\n",
      "This is left-aligned.\n",
      " \n",
      "First item of bulleted list.\n",
      "Second item of bulleted list.\n",
      "Second paragraph of second item of bulleted list.\n",
      "Third item of bulleted list.\n",
      "First item of third item’s nested list\n",
      "Second item of third item’s nested list\n",
      "Fourth and final item of main bulleted list.\n",
      " \n",
      "\n",
      "\n",
      "\n"
     ]
    }
   ],
   "source": [
    "document2 = Document()\n",
    "section = document.add_section(WD_SECTION.CONTINUOUS) \n",
    "for line in document.paragraphs:\n",
    "    print(line.text)\n",
    "    paragraph = document2.add_paragraph(line.text)\n",
    "\n",
    "    paragraph_format.left_indent"
   ]
  },
  {
   "cell_type": "code",
   "execution_count": 65,
   "id": "modern-intranet",
   "metadata": {},
   "outputs": [],
   "source": [
    "section = document.add_section(WD_SECTION.CONTINUOUS) "
   ]
  },
  {
   "cell_type": "code",
   "execution_count": null,
   "id": "confident-aside",
   "metadata": {},
   "outputs": [],
   "source": []
  },
  {
   "cell_type": "code",
   "execution_count": 66,
   "id": "radical-chocolate",
   "metadata": {},
   "outputs": [],
   "source": [
    "document2.save(\"test_05.docx\")"
   ]
  },
  {
   "cell_type": "markdown",
   "id": "suited-hungary",
   "metadata": {},
   "source": [
    "##### Guardo o texto na forma string na variável **text**"
   ]
  },
  {
   "cell_type": "code",
   "execution_count": 40,
   "id": "ordered-bangkok",
   "metadata": {},
   "outputs": [],
   "source": [
    "text = obtainText(\"fullText.docx\")"
   ]
  },
  {
   "cell_type": "markdown",
   "id": "recorded-wound",
   "metadata": {},
   "source": [
    "#### Escreve o texto na forma string armazenado em **text** no objeto **text_file** que pode ser acessado pelo arquivo **sample.tx**"
   ]
  },
  {
   "cell_type": "code",
   "execution_count": 41,
   "id": "applied-nothing",
   "metadata": {},
   "outputs": [],
   "source": [
    "text_file.write(text)\n",
    "text_file.close() # Encerra a instancia do objeto text_file"
   ]
  },
  {
   "cell_type": "code",
   "execution_count": null,
   "id": "reserved-final",
   "metadata": {},
   "outputs": [],
   "source": []
  }
 ],
 "metadata": {
  "kernelspec": {
   "display_name": "Python 3",
   "language": "python",
   "name": "python3"
  },
  "language_info": {
   "codemirror_mode": {
    "name": "ipython",
    "version": 3
   },
   "file_extension": ".py",
   "mimetype": "text/x-python",
   "name": "python",
   "nbconvert_exporter": "python",
   "pygments_lexer": "ipython3",
   "version": "3.8.8"
  }
 },
 "nbformat": 4,
 "nbformat_minor": 5
}
