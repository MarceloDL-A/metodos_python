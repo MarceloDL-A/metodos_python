{
 "cells": [
  {
   "cell_type": "markdown",
   "id": "timely-entry",
   "metadata": {},
   "source": [
    "[WD_PARAGRAPH_ALIGNMENT](https://python-docx.readthedocs.io/en/latest/api/enum/WdAlignParagraph.html)"
   ]
  },
  {
   "cell_type": "code",
   "execution_count": 1,
   "id": "meaningful-money",
   "metadata": {},
   "outputs": [],
   "source": [
    "from docx import Document\n",
    "from docx.enum.text import WD_ALIGN_PARAGRAPH\n",
    "document = Document('fullText.docx')"
   ]
  },
  {
   "cell_type": "code",
   "execution_count": 2,
   "id": "endangered-table",
   "metadata": {},
   "outputs": [],
   "source": [
    "def obtainText(docFileName):\n",
    "    document = Document(docFileName)\n",
    "    finalText = []\n",
    "    for line in document.paragraphs:\n",
    "        finalText.append(line.text)\n",
    "    return \"\\n\".join(finalText)"
   ]
  },
  {
   "cell_type": "code",
   "execution_count": 3,
   "id": "induced-honduras",
   "metadata": {},
   "outputs": [
    {
     "name": "stdout",
     "output_type": "stream",
     "text": [
      "This is Heading1 Text\n",
      "This is a regular paragraph with the default style of Normal. This is a regular paragraph with the default style of Normal. This is a regular paragraph with the default style of Normal. This is a regular paragraph with the default style of Normal. This is a regular paragraph with the default style of Normal.\n",
      "This is a Defined Block Style Called BlockStyleTest\n",
      "This is more Normal text.\n",
      "This is Heading 2 text\n",
      "This is more Normal text. This is bold, this is italic, and this is bold italic. This is normal. This is in a defined inline style called InlineStyle. This is normal. This is red text. This is normal.\n",
      "This block is centered.\n",
      "This is left-aligned.\n",
      " \n",
      "First item of bulleted list.\n",
      "Second item of bulleted list.\n",
      "Second paragraph of second item of bulleted list.\n",
      "Third item of bulleted list.\n",
      "First item of third item’s nested list\n",
      "Second item of third item’s nested list\n",
      "Fourth and final item of main bulleted list.\n",
      " \n",
      "\n"
     ]
    }
   ],
   "source": [
    "print(obtainText(\"fullText.docx\"))"
   ]
  },
  {
   "cell_type": "markdown",
   "id": "closed-villa",
   "metadata": {},
   "source": [
    "Imprimindo linha por linha"
   ]
  },
  {
   "cell_type": "code",
   "execution_count": 4,
   "id": "amazing-scientist",
   "metadata": {},
   "outputs": [
    {
     "name": "stdout",
     "output_type": "stream",
     "text": [
      "This is Heading1 Text\n",
      "This is a regular paragraph with the default style of Normal. This is a regular paragraph with the default style of Normal. This is a regular paragraph with the default style of Normal. This is a regular paragraph with the default style of Normal. This is a regular paragraph with the default style of Normal.\n",
      "This is a Defined Block Style Called BlockStyleTest\n",
      "This is more Normal text.\n",
      "This is Heading 2 text\n",
      "This is more Normal text. This is bold, this is italic, and this is bold italic. This is normal. This is in a defined inline style called InlineStyle. This is normal. This is red text. This is normal.\n",
      "This block is centered.\n",
      "This is left-aligned.\n",
      " \n",
      "First item of bulleted list.\n",
      "Second item of bulleted list.\n",
      "Second paragraph of second item of bulleted list.\n",
      "Third item of bulleted list.\n",
      "First item of third item’s nested list\n",
      "Second item of third item’s nested list\n",
      "Fourth and final item of main bulleted list.\n",
      " \n",
      "\n"
     ]
    }
   ],
   "source": [
    "for line in document.paragraphs:\n",
    "    print(line.text)\n"
   ]
  },
  {
   "cell_type": "markdown",
   "id": "complex-lafayette",
   "metadata": {},
   "source": [
    "##### Forma um objeto de nome **text_file** para ser inserido o texto na forma string e gera o arquivo de nome **sample.tx** para ser escrito através da propriedade **w**"
   ]
  },
  {
   "cell_type": "code",
   "execution_count": 5,
   "id": "organized-florida",
   "metadata": {},
   "outputs": [],
   "source": [
    "text_file = open(\"sample.txt\", \"w\")"
   ]
  },
  {
   "cell_type": "code",
   "execution_count": 6,
   "id": "chinese-executive",
   "metadata": {},
   "outputs": [
    {
     "name": "stdout",
     "output_type": "stream",
     "text": [
      "This is Heading1 Text\n",
      "This is a regular paragraph with the default style of Normal. This is a regular paragraph with the default style of Normal. This is a regular paragraph with the default style of Normal. This is a regular paragraph with the default style of Normal. This is a regular paragraph with the default style of Normal.\n",
      "This is a Defined Block Style Called BlockStyleTest\n",
      "This is more Normal text.\n",
      "This is Heading 2 text\n",
      "This is more Normal text. This is bold, this is italic, and this is bold italic. This is normal. This is in a defined inline style called InlineStyle. This is normal. This is red text. This is normal.\n",
      "This block is centered.\n",
      "This is left-aligned.\n",
      " \n",
      "First item of bulleted list.\n",
      "Second item of bulleted list.\n",
      "Second paragraph of second item of bulleted list.\n",
      "Third item of bulleted list.\n",
      "First item of third item’s nested list\n",
      "Second item of third item’s nested list\n",
      "Fourth and final item of main bulleted list.\n",
      " \n",
      "\n"
     ]
    }
   ],
   "source": [
    "document2 = Document()\n",
    "for line in document.paragraphs:\n",
    "    print(line.text)\n",
    "    paragraph = document2.add_paragraph(line.text)\n",
    "    paragraph.alignment = WD_ALIGN_PARAGRAPH.JUSTIFY"
   ]
  },
  {
   "cell_type": "code",
   "execution_count": 7,
   "id": "interior-boulder",
   "metadata": {},
   "outputs": [],
   "source": [
    "document2.save(\"test_04.docx\")"
   ]
  },
  {
   "cell_type": "markdown",
   "id": "nominated-surname",
   "metadata": {},
   "source": [
    "##### Guardo o texto na forma string na variável **text**"
   ]
  },
  {
   "cell_type": "code",
   "execution_count": 8,
   "id": "analyzed-breach",
   "metadata": {},
   "outputs": [],
   "source": [
    "text = obtainText(\"fullText.docx\")"
   ]
  },
  {
   "cell_type": "markdown",
   "id": "infrared-brunswick",
   "metadata": {},
   "source": [
    "#### Escreve o texto na forma string armazenado em **text** no objeto **text_file** que pode ser acessado pelo arquivo **sample.tx**"
   ]
  },
  {
   "cell_type": "code",
   "execution_count": 9,
   "id": "white-language",
   "metadata": {},
   "outputs": [],
   "source": [
    "text_file.write(text)\n",
    "text_file.close() # Encerra a instancia do objeto text_file"
   ]
  }
 ],
 "metadata": {
  "kernelspec": {
   "display_name": "Python 3",
   "language": "python",
   "name": "python3"
  },
  "language_info": {
   "codemirror_mode": {
    "name": "ipython",
    "version": 3
   },
   "file_extension": ".py",
   "mimetype": "text/x-python",
   "name": "python",
   "nbconvert_exporter": "python",
   "pygments_lexer": "ipython3",
   "version": "3.8.8"
  }
 },
 "nbformat": 4,
 "nbformat_minor": 5
}
