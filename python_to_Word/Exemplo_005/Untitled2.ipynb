{
 "cells": [
  {
   "cell_type": "markdown",
   "id": "strange-wonder",
   "metadata": {},
   "source": [
    "#### [BEGIN_TWOCOL] First column text [BREAK] Second column text [END_TWOCOL] - Puts text into two columns."
   ]
  },
  {
   "cell_type": "code",
   "execution_count": 14,
   "id": "twelve-threshold",
   "metadata": {},
   "outputs": [
    {
     "data": {
      "text/plain": [
       "<docx.document.Document at 0x225d0ba7240>"
      ]
     },
     "execution_count": 14,
     "metadata": {},
     "output_type": "execute_result"
    }
   ],
   "source": [
    "from docx import Document\n",
    "from docx.oxml import OxmlElement\n",
    "from docx.oxml.ns import qn\n",
    "\n",
    "doc = Document('fullText.docx')\n",
    "doc"
   ]
  },
  {
   "cell_type": "code",
   "execution_count": 15,
   "id": "useful-directory",
   "metadata": {},
   "outputs": [],
   "source": [
    "section = doc.sections[0]\n",
    "\n",
    "sectPr = section._sectPr"
   ]
  },
  {
   "cell_type": "code",
   "execution_count": 19,
   "id": "ignored-joshua",
   "metadata": {},
   "outputs": [
    {
     "ename": "IndexError",
     "evalue": "list index out of range",
     "output_type": "error",
     "traceback": [
      "\u001b[1;31m---------------------------------------------------------------------------\u001b[0m",
      "\u001b[1;31mIndexError\u001b[0m                                Traceback (most recent call last)",
      "\u001b[1;32m<ipython-input-19-6385812b51ff>\u001b[0m in \u001b[0;36m<module>\u001b[1;34m\u001b[0m\n\u001b[1;32m----> 1\u001b[1;33m \u001b[0mcols\u001b[0m \u001b[1;33m=\u001b[0m \u001b[0msectPr\u001b[0m\u001b[1;33m.\u001b[0m\u001b[0mxpath\u001b[0m\u001b[1;33m(\u001b[0m\u001b[1;34m'./w:cols'\u001b[0m\u001b[1;33m)\u001b[0m\u001b[1;33m[\u001b[0m\u001b[1;36m0\u001b[0m\u001b[1;33m]\u001b[0m\u001b[1;33m\u001b[0m\u001b[1;33m\u001b[0m\u001b[0m\n\u001b[0m",
      "\u001b[1;31mIndexError\u001b[0m: list index out of range"
     ]
    }
   ],
   "source": [
    "cols = sectPr.xpath('./w:cols')[0]"
   ]
  },
  {
   "cell_type": "code",
   "execution_count": 13,
   "id": "recent-baker",
   "metadata": {},
   "outputs": [
    {
     "data": {
      "text/plain": [
       "[]"
      ]
     },
     "execution_count": 13,
     "metadata": {},
     "output_type": "execute_result"
    }
   ],
   "source": [
    "cols = sectPr.xpath('./w:cols')\n",
    "cols"
   ]
  },
  {
   "cell_type": "code",
   "execution_count": 7,
   "id": "expensive-parameter",
   "metadata": {},
   "outputs": [
    {
     "ename": "NameError",
     "evalue": "name 'cols' is not defined",
     "output_type": "error",
     "traceback": [
      "\u001b[1;31m---------------------------------------------------------------------------\u001b[0m",
      "\u001b[1;31mNameError\u001b[0m                                 Traceback (most recent call last)",
      "\u001b[1;32m<ipython-input-7-24eb52bb0f10>\u001b[0m in \u001b[0;36m<module>\u001b[1;34m\u001b[0m\n\u001b[1;32m----> 1\u001b[1;33m \u001b[0mcols\u001b[0m\u001b[1;33m.\u001b[0m\u001b[0mset\u001b[0m\u001b[1;33m(\u001b[0m\u001b[0mqn\u001b[0m\u001b[1;33m(\u001b[0m\u001b[1;34m'w:num'\u001b[0m\u001b[1;33m)\u001b[0m\u001b[1;33m,\u001b[0m\u001b[1;34m'2'\u001b[0m\u001b[1;33m)\u001b[0m\u001b[1;33m\u001b[0m\u001b[1;33m\u001b[0m\u001b[0m\n\u001b[0m",
      "\u001b[1;31mNameError\u001b[0m: name 'cols' is not defined"
     ]
    }
   ],
   "source": [
    "cols.set(qn('w:num'),'2')"
   ]
  },
  {
   "cell_type": "code",
   "execution_count": null,
   "id": "rising-lender",
   "metadata": {},
   "outputs": [],
   "source": [
    "current_section = doc.sections[-1]  \n",
    "current_section.start_type\n",
    "new_section = doc.add_section(WD_SECTION.NEW_COLUMN)\n",
    "new_section.start_type"
   ]
  }
 ],
 "metadata": {
  "kernelspec": {
   "display_name": "Python 3",
   "language": "python",
   "name": "python3"
  },
  "language_info": {
   "codemirror_mode": {
    "name": "ipython",
    "version": 3
   },
   "file_extension": ".py",
   "mimetype": "text/x-python",
   "name": "python",
   "nbconvert_exporter": "python",
   "pygments_lexer": "ipython3",
   "version": "3.8.8"
  }
 },
 "nbformat": 4,
 "nbformat_minor": 5
}
