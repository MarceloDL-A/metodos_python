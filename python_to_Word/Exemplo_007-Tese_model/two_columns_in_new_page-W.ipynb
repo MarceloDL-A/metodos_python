{
 "cells": [
  {
   "cell_type": "markdown",
   "id": "prescribed-sweet",
   "metadata": {},
   "source": [
    "#### [Adição de colunas](https://github.com/python-openxml/python-docx/issues/167)"
   ]
  },
  {
   "cell_type": "markdown",
   "id": "opening-batch",
   "metadata": {},
   "source": [
    "[WD_PARAGRAPH_ALIGNMENT](https://python-docx.readthedocs.io/en/latest/api/enum/WdAlignParagraph.html)"
   ]
  },
  {
   "cell_type": "code",
   "execution_count": 1,
   "id": "funny-kingdom",
   "metadata": {},
   "outputs": [],
   "source": [
    "from docx import Document\n",
    "from docx.enum.section import WD_SECTION\n",
    "from docx.enum.text import WD_ALIGN_PARAGRAPH\n",
    "import matplotlib.pyplot as plt\n",
    "from docx.shared import Inches"
   ]
  },
  {
   "cell_type": "code",
   "execution_count": 2,
   "id": "bored-brunei",
   "metadata": {},
   "outputs": [],
   "source": [
    "WNS_COLS_NUM = \"{http://schemas.openxmlformats.org/wordprocessingml/2006/main}num\"\n",
    "\n",
    "def set_number_of_columns(section, cols):\n",
    "    \"\"\" sets number of columns through xpath. \"\"\"\n",
    "    section._sectPr.xpath(\"./w:cols\")[0].set(WNS_COLS_NUM, str(cols))"
   ]
  },
  {
   "cell_type": "markdown",
   "id": "hawaiian-eating",
   "metadata": {},
   "source": [
    "#### Título"
   ]
  },
  {
   "cell_type": "code",
   "execution_count": 3,
   "id": "detected-garage",
   "metadata": {},
   "outputs": [],
   "source": [
    "doc = Document()\n",
    "\n",
    "# Título, em negrito, centralizado\n",
    "paragraph = doc.add_paragraph()\n",
    "run = paragraph.add_run(\"SPEARMAN MATRIX FOR PRELIMINARY ANALYSIS OF SOLAR-CELL DATA\")\n",
    "run.bold = True\n",
    "paragraph.alignment = WD_ALIGN_PARAGRAPH.CENTER"
   ]
  },
  {
   "cell_type": "markdown",
   "id": "rental-victorian",
   "metadata": {},
   "source": [
    "#### Colaboradores"
   ]
  },
  {
   "cell_type": "code",
   "execution_count": 4,
   "id": "digital-clearance",
   "metadata": {},
   "outputs": [],
   "source": [
    "# Colaboradores, centralizado\n",
    "paragraph = doc.add_paragraph(\"*M. D. de Lima, T. Borrely, A. Alzeidan, T. F. Cantalice, P. H. D. Fernandes, A. A. Quivy\")\n",
    "paragraph.alignment = WD_ALIGN_PARAGRAPH.CENTER"
   ]
  },
  {
   "cell_type": "markdown",
   "id": "private-gibraltar",
   "metadata": {},
   "source": [
    "#### Universidade"
   ]
  },
  {
   "cell_type": "code",
   "execution_count": 5,
   "id": "according-legend",
   "metadata": {},
   "outputs": [],
   "source": [
    "# Universidade\n",
    "paragraph = doc.add_paragraph()\n",
    "run = paragraph.add_run(\"Institute of Physics, University of Sao Paulo, Rua do Matao 1371, 05508-090 \\nSao Paulo, SP, Brazil\")\n",
    "run.italic = True\n",
    "paragraph.alignment = WD_ALIGN_PARAGRAPH.CENTER"
   ]
  },
  {
   "cell_type": "markdown",
   "id": "worst-mixture",
   "metadata": {},
   "source": [
    "#### Abstract"
   ]
  },
  {
   "cell_type": "code",
   "execution_count": 6,
   "id": "stone-confirmation",
   "metadata": {},
   "outputs": [],
   "source": [
    "# Abstract\n",
    "paragraph = doc.add_paragraph()\n",
    "run = paragraph.add_run(\"Abstract\")\n",
    "run.bold = True\n",
    "\n",
    "p = doc.add_paragraph(\"In investigative scientific works about the development of more efficient \\\n",
    "or versatile solar cells, a large volume of data is sometimes not analyzed due to the immense amount of work and \\\n",
    "time that would be required. The most common analysis procedure consists in checking the relation between the main \\\n",
    "parameters that are more often investigated in most papers of the literature. On that point of view, the computational \\\n",
    "tools that provide a quick preliminary analysis of the whole set of data become quite attractive. Among the wide range \\\n",
    "of tools developed in the field of data science, especially the ones provided by Python libraries, Spearman's Correlation \\\n",
    "Matrix is one that provides an immediate, intuitive and global view of all the data at the same time, allowing much more \\\n",
    "comprehensive and data-supported insights. Spearman’s correlation indicates which parameters are monotonously correlated. \\\n",
    "In the present work, we used Spearsman’s Correlation Matrix to analyze the large amount of data that was collected during \\\n",
    "the optimization process of GaAs solar cells having different structures, sizes and fingers geometries. The measurements \\\n",
    "were performed with a class AAA solar simulator, under standard AM1.5G conditions. More than 2600 data points extracted \\\n",
    "from current-voltage curves like short-circuit current, open-circuit voltage, fill factor, series resistance, shunt resistance, etc. were considered. We will show and discuss some of these results that point out a conversion efficiency of 8,9% for a pure GaAs device, and an efficiency of 15.8% when the same device has a top Al\")\n",
    "sub_text = p.add_run('0.86')\n",
    "sub_text.font.subscript = True\n",
    "sub_text = p.add_run('Ga')\n",
    "sub_text = p.add_run('0.14')\n",
    "sub_text.font.subscript = True\n",
    "sub_text = p.add_run('As window layer and an Al')\n",
    "sub_text = p.add_run('2')\n",
    "sub_text.font.subscript = True\n",
    "sub_text = p.add_run('O')\n",
    "sub_text = p.add_run('3')\n",
    "sub_text.font.subscript = True\n",
    "sub_text = p.add_run(\" antireflecting coating.\")\n",
    "p.alignment = WD_ALIGN_PARAGRAPH.JUSTIFY"
   ]
  },
  {
   "cell_type": "markdown",
   "id": "persistent-excess",
   "metadata": {},
   "source": [
    "#### page break"
   ]
  },
  {
   "cell_type": "code",
   "execution_count": 7,
   "id": "committed-imaging",
   "metadata": {},
   "outputs": [
    {
     "data": {
      "text/plain": [
       "<docx.text.paragraph.Paragraph at 0x1d927e3d790>"
      ]
     },
     "execution_count": 7,
     "metadata": {},
     "output_type": "execute_result"
    }
   ],
   "source": [
    "doc.add_page_break()"
   ]
  },
  {
   "cell_type": "markdown",
   "id": "diagnostic-atlas",
   "metadata": {},
   "source": [
    "Inserção de imagens [[1](https://stackoverflow.com/questions/32932230/add-an-image-in-a-specific-position-in-the-document-docx)]"
   ]
  },
  {
   "cell_type": "code",
   "execution_count": 8,
   "id": "smooth-saturn",
   "metadata": {},
   "outputs": [
    {
     "data": {
      "image/png": "[encoded data removed]",
      "text/plain": [
       "<Figure size 201.6x201.6 with 1 Axes>"
      ]
     },
     "metadata": {
      "needs_background": "light"
     },
     "output_type": "display_data"
    }
   ],
   "source": [
    "# Inicio de uma nova página\n",
    "section = doc.add_section(WD_SECTION.NEW_PAGE)\n",
    "set_number_of_columns(section, 2)\n",
    "paragraph = doc.add_paragraph(\" Document from docx import Document this page should have 2 columns and it seems to work ok from docx import Document from docx import Document from docx import Document from docx import Document from docx import Document from docx import Document from docx import Document from docx import Document from docx import Document from docx import Document from docx import Document this page should have 2 columns and it seems to work ok from docx import Document from docx import Document from docx import Document from docx import Document from docx import Document from docx import Document from docx import Document from docx import Document from docx import Document from docx import Document from docx import Document\")\n",
    "paragraph.alignment = WD_ALIGN_PARAGRAPH.THAI_JUSTIFY\n",
    "\n",
    "# Inserção de um gráfico\n",
    "a = list(range(0, 100, 1))\n",
    "plt.figure(figsize=(2.8,2.8))\n",
    "plt.plot(a, [n**2 for n in a])\n",
    "plt.savefig(\"grafico.png\", bbox_inches='tight', pad_inches = 0.01)\n",
    "pic = doc.add_picture('grafico.png')\n",
    "\n",
    "# Inserção de uma imagem\n",
    "pic = doc.add_picture('imagem000.png',width=Inches(2.8))\n",
    "\n",
    "# Continuação do pagrafo\n",
    "paragraph = doc.add_paragraph(\" import Document this page should have 2 columns and it seems to work ok from docx import Document from docx import Document from docx import Document from docx import Document from docx import Document from docx import Document from docx import Document from docx import Document from docx import Document from docx import Document from docx import Document this page should have 2 columns and it seems to work ok from docx import Document from docx import Document from docx import Document from docx import Document from docx import Document from docx import Document from docx import Document from docx import Document from docx import Document from docx import Document from docx import Document this page should have 2 columns and it seems to work ok from docx import Document from docx import Document from docx import Document from docx import Document from docx import Document from docx import Document from docx import Document from docx import Document from docx import Document from docx import Document from docx import Document this page should have 2 columns and it seems to work ok from docx import Document from docx import Document from docx import Document from docx import Document from docx import Document from docx import Document from docx import Document from docx import Document from docx import Document from docx import Document from docx import Document this page should have 2 columns and it seems to work ok from docx import Document from docx import Document from docx import Document from docx import Document from docx import Document from docx import Document from docx import Document from docx import Document from docx import Document from docx import Document from docx import Document\")\n",
    "paragraph.alignment = WD_ALIGN_PARAGRAPH.THAI_JUSTIFY\n"
   ]
  },
  {
   "cell_type": "code",
   "execution_count": 9,
   "id": "split-traveler",
   "metadata": {},
   "outputs": [
    {
     "data": {
      "text/plain": [
       "<docx.text.paragraph.Paragraph at 0x1d929f68a90>"
      ]
     },
     "execution_count": 9,
     "metadata": {},
     "output_type": "execute_result"
    }
   ],
   "source": [
    "doc.add_page_break()"
   ]
  },
  {
   "cell_type": "code",
   "execution_count": 10,
   "id": "controversial-overhead",
   "metadata": {},
   "outputs": [],
   "source": [
    "section = doc.add_section(WD_SECTION.NEW_PAGE)\n",
    "set_number_of_columns(section, 2)\n",
    "paragraph = doc.add_paragraph(\"this page should have 2 columns and it seems to work ok from docx import Document from docx import Document from docx import Document from docx import Document from docx import Document from docx import Document from docx import Document from docx import Document from docx import Document from docx import Document from docx import Document this page should have 2 columns and it seems to work ok from docx import Document from docx import Document from docx import Document from docx import Document from docx import Document from docx import Document from docx import Document from docx import Document from docx import Document from docx import Document from docx import Document this page should have 2 columns and it seems to work ok from docx import Document from docx import Document from docx import Document from docx import Document from docx import Document from docx import Document from docx import Document from docx import Document from docx import Document from docx import Document from docx import Document this page should have 2 columns and it seems to work ok from docx import Document from docx import Document from docx import Document from docx import Document from docx import Document from docx import Document from docx import Document from docx import Document from docx import Document from docx import Document from docx import Document this page should have 2 columns and it seems to work ok from docx import Document from docx import Document from docx import Document from docx import Document from docx import Document from docx import Document from docx import Document from docx import Document from docx import Document from docx import Document from docx import Document this page should have 2 columns and it seems to work ok from docx import Document from docx import Document from docx import Document from docx import Document from docx import Document from docx import Document from docx import Document from docx import Document from docx import Document from docx import Document from docx import Document this page should have 2 columns and it seems to work ok from docx import Document from docx import Document from docx import Document from docx import Document from docx import Document from docx import Document from docx import Document from docx import Document from docx import Document from docx import Document from docx import Document this page should have 2 columns and it seems to work ok from docx import Document from docx import Document from docx import Document from docx import Document from docx import Document from docx import Document from docx import Document from docx import Document from docx import Document from docx import Document from docx import Document this page should have 2 columns and it seems to work ok from docx import Document from docx import Document from docx import Document from docx import Document from docx import Document from docx import Document from docx import Document from docx import Document from docx import Document from docx import Document from docx import Document this page should have 2 columns and it seems to work ok from docx import Document from docx import Document from docx import Document from docx import Document from docx import Document from docx import Document from docx import Document from docx import Document from docx import Document from docx import Document from docx import Document this page should have 2 columns and it seems to work ok from docx import Document from docx import Document from docx import Document from docx import Document from docx import Document from docx import Document from docx import Document from docx import Document from docx import Document from docx import Document from docx import Document this page should have 2 columns and it seems to work ok from docx import Document from docx import Document from docx import Document from docx import Document from docx import Document from docx import Document from docx import Document from docx import Document from docx import Document from docx import Document from docx import Document this page should have 2 columns and it seems to work ok from docx import Document from docx import Document from docx import Document from docx import Document from docx import Document from docx import Document from docx import Document from docx import Document from docx import Document from docx import Document from docx import Document this page should have 2 columns and it seems to work ok from docx import Document from docx import Document from docx import Document from docx import Document from docx import Document from docx import Document from docx import Document from docx import Document from docx import Document from docx import Document from docx import Document this page should have 2 columns and it seems to work ok from docx import Document from docx import Document from docx import Document from docx import Document from docx import Document from docx import Document from docx import Document from docx import Document from docx import Document from docx import Document from docx import Document this page should have 2 columns and it seems to work ok from docx import Document from docx import Document from docx import Document from docx import Document from docx import Document from docx import Document from docx import Document from docx import Document from docx import Document from docx import Document from docx import Document this page should have 2 columns and it seems to work ok from docx import Document from docx import Document from docx import Document from docx import Document from docx import Document from docx import Document from docx import Document from docx import Document from docx import Document from docx import Document from docx import Document this page should have 2 columns and it seems to work ok from docx import Document from docx import Document from docx import Document from docx import Document from docx import Document from docx import Document from docx import Document from docx import Document from docx import Document from docx import Document from docx import Document\")\n",
    "paragraph.alignment = WD_ALIGN_PARAGRAPH.THAI_JUSTIFY"
   ]
  },
  {
   "cell_type": "code",
   "execution_count": 11,
   "id": "suited-platform",
   "metadata": {},
   "outputs": [],
   "source": [
    "doc.save(\"tese_model.docx\")"
   ]
  },
  {
   "cell_type": "code",
   "execution_count": null,
   "id": "governmental-champagne",
   "metadata": {},
   "outputs": [],
   "source": []
  },
  {
   "cell_type": "code",
   "execution_count": null,
   "id": "obvious-folks",
   "metadata": {},
   "outputs": [],
   "source": []
  }
 ],
 "metadata": {
  "kernelspec": {
   "display_name": "Python 3",
   "language": "python",
   "name": "python3"
  },
  "language_info": {
   "codemirror_mode": {
    "name": "ipython",
    "version": 3
   },
   "file_extension": ".py",
   "mimetype": "text/x-python",
   "name": "python",
   "nbconvert_exporter": "python",
   "pygments_lexer": "ipython3",
   "version": "3.8.8"
  }
 },
 "nbformat": 4,
 "nbformat_minor": 5
}
