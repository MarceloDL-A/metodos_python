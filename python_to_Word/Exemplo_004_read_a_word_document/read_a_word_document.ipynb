{
 "cells": [
  {
   "cell_type": "code",
   "execution_count": 1,
   "id": "latin-tuner",
   "metadata": {},
   "outputs": [],
   "source": [
    "from docx import Document"
   ]
  },
  {
   "cell_type": "code",
   "execution_count": 8,
   "id": "attached-frame",
   "metadata": {},
   "outputs": [],
   "source": [
    "document = Document()"
   ]
  },
  {
   "cell_type": "code",
   "execution_count": 9,
   "id": "driving-respect",
   "metadata": {
    "tags": []
   },
   "outputs": [],
   "source": [
    "def obtainText(docFileName):\n",
    "    document = Document(docFileName)\n",
    "    finalText = []\n",
    "    for line in document.paragraphs:\n",
    "        finalText.append(line.text)\n",
    "    return \"\\n\".join(finalText)"
   ]
  },
  {
   "cell_type": "code",
   "execution_count": 10,
   "id": "reported-break",
   "metadata": {},
   "outputs": [
    {
     "name": "stdout",
     "output_type": "stream",
     "text": [
      "This is Heading1 Text\n",
      "This is a regular paragraph with the default style of Normal. This is a regular paragraph with the default style of Normal. This is a regular paragraph with the default style of Normal. This is a regular paragraph with the default style of Normal. This is a regular paragraph with the default style of Normal.\n",
      "This is a Defined Block Style Called BlockStyleTest\n",
      "This is more Normal text.\n",
      "This is Heading 2 text\n",
      "This is more Normal text. This is bold, this is italic, and this is bold italic. This is normal. This is in a defined inline style called InlineStyle. This is normal. This is red text. This is normal.\n",
      "This block is centered.\n",
      "This is left-aligned.\n",
      " \n",
      "First item of bulleted list.\n",
      "Second item of bulleted list.\n",
      "Second paragraph of second item of bulleted list.\n",
      "Third item of bulleted list.\n",
      "First item of third item’s nested list\n",
      "Second item of third item’s nested list\n",
      "Fourth and final item of main bulleted list.\n",
      " \n",
      "\n"
     ]
    }
   ],
   "source": [
    "print(obtainText(\"fullText.docx\"))"
   ]
  },
  {
   "cell_type": "code",
   "execution_count": 12,
   "id": "infectious-denver",
   "metadata": {},
   "outputs": [],
   "source": [
    "document"
   ]
  },
  {
   "cell_type": "code",
   "execution_count": 13,
   "id": "empirical-slovakia",
   "metadata": {},
   "outputs": [
    {
     "ename": "AttributeError",
     "evalue": "'str' object has no attribute 'save'",
     "output_type": "error",
     "traceback": [
      "\u001b[1;31m---------------------------------------------------------------------------\u001b[0m",
      "\u001b[1;31mAttributeError\u001b[0m                            Traceback (most recent call last)",
      "\u001b[1;32m<ipython-input-13-e2fa01aef4d2>\u001b[0m in \u001b[0;36m<module>\u001b[1;34m\u001b[0m\n\u001b[1;32m----> 1\u001b[1;33m \u001b[0mdocument\u001b[0m\u001b[1;33m.\u001b[0m\u001b[0msave\u001b[0m\u001b[1;33m(\u001b[0m\u001b[1;34m\"fullText3.docx\"\u001b[0m\u001b[1;33m)\u001b[0m\u001b[1;33m\u001b[0m\u001b[1;33m\u001b[0m\u001b[0m\n\u001b[0m",
      "\u001b[1;31mAttributeError\u001b[0m: 'str' object has no attribute 'save'"
     ]
    }
   ],
   "source": [
    "document.save(\"fullText3.docx\")"
   ]
  },
  {
   "cell_type": "code",
   "execution_count": null,
   "id": "fabulous-auditor",
   "metadata": {},
   "outputs": [],
   "source": []
  }
 ],
 "metadata": {
  "kernelspec": {
   "display_name": "Python 3",
   "language": "python",
   "name": "python3"
  },
  "language_info": {
   "codemirror_mode": {
    "name": "ipython",
    "version": 3
   },
   "file_extension": ".py",
   "mimetype": "text/x-python",
   "name": "python",
   "nbconvert_exporter": "python",
   "pygments_lexer": "ipython3",
   "version": "3.8.8"
  }
 },
 "nbformat": 4,
 "nbformat_minor": 5
}
