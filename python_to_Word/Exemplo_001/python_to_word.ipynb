{
 "cells": [
  {
   "cell_type": "markdown",
   "id": "spoken-collins",
   "metadata": {},
   "source": [
    "## Leitura e escrita de documentos word"
   ]
  },
  {
   "cell_type": "markdown",
   "id": "controversial-circus",
   "metadata": {},
   "source": [
    "### Leitura"
   ]
  },
  {
   "cell_type": "markdown",
   "id": "written-sentence",
   "metadata": {},
   "source": [
    "[Reading and Writing MS Word Files in Python via Python-Docx Module](https://stackabuse.com/reading-and-writing-ms-word-files-in-python-via-python-docx-module/)"
   ]
  },
  {
   "cell_type": "raw",
   "id": "constitutional-cedar",
   "metadata": {},
   "source": [
    "!pip install docx"
   ]
  },
  {
   "cell_type": "raw",
   "id": "equivalent-decline",
   "metadata": {},
   "source": [
    "!pip install python-docx"
   ]
  },
  {
   "cell_type": "code",
   "execution_count": 1,
   "id": "duplicate-lyric",
   "metadata": {},
   "outputs": [],
   "source": [
    "import docx"
   ]
  },
  {
   "cell_type": "markdown",
   "id": "divided-programming",
   "metadata": {},
   "source": [
    "#### Intanciando um objeto para leitura de informações em um **documento.docx**"
   ]
  },
  {
   "cell_type": "code",
   "execution_count": 2,
   "id": "classified-health",
   "metadata": {},
   "outputs": [],
   "source": [
    "doc = docx.Document(\"my_word_file.docx\")"
   ]
  },
  {
   "cell_type": "markdown",
   "id": "civil-situation",
   "metadata": {},
   "source": [
    "#### Leitura de paragramos do **documento.docx**"
   ]
  },
  {
   "cell_type": "code",
   "execution_count": 3,
   "id": "polished-montgomery",
   "metadata": {},
   "outputs": [
    {
     "data": {
      "text/plain": [
       "9"
      ]
     },
     "execution_count": 3,
     "metadata": {},
     "output_type": "execute_result"
    }
   ],
   "source": [
    "all_paras = doc.paragraphs\n",
    "len(all_paras) # Quantidade de paragrafos no documento.docx"
   ]
  },
  {
   "cell_type": "code",
   "execution_count": 4,
   "id": "turkish-accessory",
   "metadata": {},
   "outputs": [
    {
     "name": "stdout",
     "output_type": "stream",
     "text": [
      "Introduction\n",
      "---------------------\n",
      "\n",
      "---------------------\n",
      "Welcome to stackabuse.com\n",
      "---------------------\n",
      "\n",
      "---------------------\n",
      "The best site for learning Python and Other Programming Languages\n",
      "---------------------\n",
      "Learn to program and write code in the most efficient manner\n",
      "---------------------\n",
      "\n",
      "---------------------\n",
      "Details\n",
      "---------------------\n",
      "This website contains useful programming articles for Java, Python\n",
      "---------------------\n"
     ]
    }
   ],
   "source": [
    "for para in all_paras:\n",
    "    print(para.text)\n",
    "    print(\"---------------------\")"
   ]
  },
  {
   "cell_type": "markdown",
   "id": "lucky-arkansas",
   "metadata": {},
   "source": [
    "#### Acessando um paragrafo específico"
   ]
  },
  {
   "cell_type": "code",
   "execution_count": 5,
   "id": "racial-spouse",
   "metadata": {},
   "outputs": [
    {
     "name": "stdout",
     "output_type": "stream",
     "text": [
      "The best site for learning Python and Other Programming Languages\n"
     ]
    }
   ],
   "source": [
    "single_para = doc.paragraphs[4]\n",
    "print(single_para.text)"
   ]
  },
  {
   "cell_type": "markdown",
   "id": "multiple-massachusetts",
   "metadata": {},
   "source": [
    "#### Leitura de trechos formatados"
   ]
  },
  {
   "cell_type": "code",
   "execution_count": 6,
   "id": "standing-newfoundland",
   "metadata": {},
   "outputs": [
    {
     "name": "stdout",
     "output_type": "stream",
     "text": [
      "The best site for \n",
      "learning Python\n",
      " and Other \n",
      "Programming Languages\n"
     ]
    }
   ],
   "source": [
    "single_para = doc.paragraphs[4]\n",
    "for run in single_para.runs:\n",
    "    print(run.text)"
   ]
  },
  {
   "cell_type": "code",
   "execution_count": 7,
   "id": "covered-underwear",
   "metadata": {},
   "outputs": [
    {
     "name": "stdout",
     "output_type": "stream",
     "text": [
      "Learn to program and write code in the \n",
      "most efficient manner\n"
     ]
    }
   ],
   "source": [
    "single_para = doc.paragraphs[5]\n",
    "for run in single_para.runs:\n",
    "    print(run.text)"
   ]
  },
  {
   "cell_type": "markdown",
   "id": "sophisticated-holly",
   "metadata": {},
   "source": [
    "### Escrita"
   ]
  },
  {
   "cell_type": "markdown",
   "id": "august-three",
   "metadata": {},
   "source": [
    "#### Writing MS Word Files with Python-Docx Module"
   ]
  },
  {
   "cell_type": "markdown",
   "id": "indie-rubber",
   "metadata": {},
   "source": [
    "#### Crie um objeto da classe Document com um contructor vazio"
   ]
  },
  {
   "cell_type": "code",
   "execution_count": 8,
   "id": "beginning-veteran",
   "metadata": {},
   "outputs": [],
   "source": [
    "mydoc = docx.Document()"
   ]
  },
  {
   "cell_type": "markdown",
   "id": "emerging-department",
   "metadata": {},
   "source": [
    "#### Escreva paragrafos"
   ]
  },
  {
   "cell_type": "code",
   "execution_count": 9,
   "id": "cooked-lawsuit",
   "metadata": {},
   "outputs": [],
   "source": [
    "mydoc.add_paragraph(\"This is first paragraph of a MS Word file\")\n",
    "mydoc.save(\"my_written_file.docx\")"
   ]
  },
  {
   "cell_type": "code",
   "execution_count": 10,
   "id": "scientific-mistake",
   "metadata": {},
   "outputs": [],
   "source": [
    "mydoc.add_paragraph(\"This is the second paragraph of a MS Word file.\")\n",
    "mydoc.save(\"my_written_file.docx\")"
   ]
  },
  {
   "cell_type": "markdown",
   "id": "developed-scientist",
   "metadata": {},
   "source": [
    "#### Criação de trechos formatados"
   ]
  },
  {
   "cell_type": "code",
   "execution_count": 11,
   "id": "spread-retail",
   "metadata": {},
   "outputs": [],
   "source": [
    "third_para = mydoc.add_paragraph(\"This is the third paragraph\")\n",
    "third_para.add_run(\" this is a section at the end of third paragraph\")\n",
    "mydoc.save(\"my_written_file.docx\")"
   ]
  },
  {
   "cell_type": "markdown",
   "id": "convertible-pipeline",
   "metadata": {},
   "source": [
    "#### Adicionando cabeçalhos"
   ]
  },
  {
   "cell_type": "code",
   "execution_count": 12,
   "id": "thick-mills",
   "metadata": {},
   "outputs": [],
   "source": [
    "mydoc.add_heading(\"This is level 1 heading\", 0)\n",
    "mydoc.add_heading(\"This is level 2 heading\", 1)\n",
    "mydoc.add_heading(\"This is level 3 heading\", 2)\n",
    "mydoc.save(\"my_written_file.docx\")"
   ]
  },
  {
   "cell_type": "markdown",
   "id": "challenging-shirt",
   "metadata": {},
   "source": [
    "#### Adicionando imagens"
   ]
  },
  {
   "cell_type": "code",
   "execution_count": 13,
   "id": "weighted-wells",
   "metadata": {},
   "outputs": [],
   "source": [
    "mydoc.add_picture(\"Captura de tela 2021-04-01 121403.png\", width=docx.shared.Inches(5), height=docx.shared.Inches(7))\n",
    "mydoc.save(\"my_written_file.docx\")"
   ]
  },
  {
   "cell_type": "code",
   "execution_count": null,
   "id": "organizational-monroe",
   "metadata": {},
   "outputs": [],
   "source": []
  }
 ],
 "metadata": {
  "kernelspec": {
   "display_name": "Python 3",
   "language": "python",
   "name": "python3"
  },
  "language_info": {
   "codemirror_mode": {
    "name": "ipython",
    "version": 3
   },
   "file_extension": ".py",
   "mimetype": "text/x-python",
   "name": "python",
   "nbconvert_exporter": "python",
   "pygments_lexer": "ipython3",
   "version": "3.8.8"
  }
 },
 "nbformat": 4,
 "nbformat_minor": 5
}
