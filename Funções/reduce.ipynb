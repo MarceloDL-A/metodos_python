{
 "cells": [
  {
   "cell_type": "code",
   "execution_count": 107,
   "id": "retired-fortune",
   "metadata": {},
   "outputs": [],
   "source": [
    "from functools import reduce"
   ]
  },
  {
   "cell_type": "code",
   "execution_count": 108,
   "id": "certified-break",
   "metadata": {},
   "outputs": [],
   "source": [
    "ls = [1, 2, 3, 4]"
   ]
  },
  {
   "cell_type": "code",
   "execution_count": 109,
   "id": "employed-replica",
   "metadata": {},
   "outputs": [],
   "source": [
    "y = reduce(lambda x,y: x*y**2, ls)"
   ]
  },
  {
   "cell_type": "code",
   "execution_count": 110,
   "id": "seeing-permit",
   "metadata": {},
   "outputs": [
    {
     "name": "stdout",
     "output_type": "stream",
     "text": [
      "0 0\n",
      "1 1\n",
      "2 3\n",
      "3 6\n",
      "4 10\n",
      "5 15\n",
      "6 21\n",
      "7 28\n",
      "8 36\n",
      "9 45\n",
      "10 55\n",
      "11 66\n",
      "12 78\n",
      "13 91\n",
      "14 105\n",
      "15 120\n",
      "16 136\n",
      "17 153\n",
      "18 171\n",
      "19 190\n"
     ]
    }
   ],
   "source": [
    "#Sequência de Fibonacci\n",
    "for i in range(0, 20, 1):\n",
    "    try:\n",
    "        print(i, reduce(lambda x, y: x + y, list(range(i+1))))\n",
    "    except:\n",
    "        pass"
   ]
  },
  {
   "cell_type": "code",
   "execution_count": 141,
   "id": "existing-retirement",
   "metadata": {},
   "outputs": [],
   "source": [
    "I = [0, 1, 1, 2, 3, 4, 5]\n",
    "V = [i*3 for i in I]"
   ]
  },
  {
   "cell_type": "code",
   "execution_count": 142,
   "id": "engaged-conservative",
   "metadata": {},
   "outputs": [
    {
     "name": "stdout",
     "output_type": "stream",
     "text": [
      "0 0 0\n",
      "3 1 3\n",
      "3 1 3\n",
      "12 2 6\n",
      "27 3 9\n",
      "48 4 12\n",
      "75 5 15\n"
     ]
    }
   ],
   "source": [
    "for x, y in zip(I, V):\n",
    "    ls = [x, y]\n",
    "    print(reduce(lambda x, y: x*y, ls), x, y)"
   ]
  },
  {
   "cell_type": "code",
   "execution_count": null,
   "id": "chicken-pakistan",
   "metadata": {},
   "outputs": [],
   "source": []
  }
 ],
 "metadata": {
  "kernelspec": {
   "display_name": "Python 3",
   "language": "python",
   "name": "python3"
  },
  "language_info": {
   "codemirror_mode": {
    "name": "ipython",
    "version": 3
   },
   "file_extension": ".py",
   "mimetype": "text/x-python",
   "name": "python",
   "nbconvert_exporter": "python",
   "pygments_lexer": "ipython3",
   "version": "3.8.8"
  }
 },
 "nbformat": 4,
 "nbformat_minor": 5
}
