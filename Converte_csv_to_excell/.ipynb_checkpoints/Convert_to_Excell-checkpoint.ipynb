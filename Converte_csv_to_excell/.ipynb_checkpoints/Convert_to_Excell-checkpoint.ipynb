{
 "cells": [
  {
   "cell_type": "code",
   "execution_count": 2,
   "metadata": {},
   "outputs": [],
   "source": [
    "import pandas as pd\n",
    "import os"
   ]
  },
  {
   "cell_type": "markdown",
   "metadata": {},
   "source": [
    "### Função para criação de uma lista"
   ]
  },
  {
   "cell_type": "code",
   "execution_count": 3,
   "metadata": {},
   "outputs": [],
   "source": [
    "def create_list(path_local):\n",
    "    len_path_pdf = len(path_local)\n",
    "\n",
    "    import pathlib\n",
    "\n",
    "    path = pathlib.Path(path_local)\n",
    "    lista = []\n",
    "\n",
    "    for entry in path.iterdir():\n",
    "         if entry.is_file():\n",
    "            lista += [path_local + str(entry)[len_path_pdf:]]\n",
    "    return lista"
   ]
  },
  {
   "cell_type": "markdown",
   "metadata": {},
   "source": [
    "### Local do arquivo csv a ser converteido para xlsx"
   ]
  },
  {
   "cell_type": "code",
   "execution_count": 4,
   "metadata": {},
   "outputs": [],
   "source": [
    "path_local = \"Arquivos_csv\""
   ]
  },
  {
   "cell_type": "markdown",
   "metadata": {},
   "source": [
    "### Visualisação da lista, com caminho completo, de aquivos dentro da pasta Arquivos_csv"
   ]
  },
  {
   "cell_type": "code",
   "execution_count": 5,
   "metadata": {},
   "outputs": [
    {
     "data": {
      "text/plain": [
       "['Arquivos_csv\\\\drawio-import-example.csv']"
      ]
     },
     "execution_count": 5,
     "metadata": {},
     "output_type": "execute_result"
    }
   ],
   "source": [
    "lst_csv = create_list(path_local)\n",
    "lst_csv"
   ]
  },
  {
   "cell_type": "markdown",
   "metadata": {},
   "source": [
    "### Visualisação da lista de aquivos dentro da pasta Arquivos_csv"
   ]
  },
  {
   "cell_type": "code",
   "execution_count": 6,
   "metadata": {},
   "outputs": [
    {
     "name": "stdout",
     "output_type": "stream",
     "text": [
      "drawio-import-example\n"
     ]
    }
   ],
   "source": [
    "for i in lst_csv:\n",
    "    print(i[len(\"Arquivos_csv\\\\\"):-4])"
   ]
  },
  {
   "cell_type": "code",
   "execution_count": 7,
   "metadata": {},
   "outputs": [],
   "source": [
    "for i in lst_csv:\n",
    "    df__2 = pd.read_csv(i)\n"
   ]
  },
  {
   "cell_type": "code",
   "execution_count": null,
   "metadata": {},
   "outputs": [],
   "source": []
  },
  {
   "cell_type": "code",
   "execution_count": 8,
   "metadata": {},
   "outputs": [
    {
     "name": "stdout",
     "output_type": "stream",
     "text": [
      "drawio-import-example\n"
     ]
    }
   ],
   "source": [
    "a = len(\"Arquivos_csv\\\\\")\n",
    "for i in lst_csv:\n",
    "    print(i[a:-4])\n",
    "    DataFrame_Name = str(i[len(\"Arquivos_csv\\\\\"):-4])\n",
    "    df__2.to_excel(\"Arquivos_excell/\" + str(i[a:-4]) + \".xlsx\", index = None)  "
   ]
  },
  {
   "cell_type": "markdown",
   "metadata": {},
   "source": [
    "### Leitura do arquivo excell na pasta Arquivos_excell/"
   ]
  },
  {
   "cell_type": "code",
   "execution_count": 9,
   "metadata": {},
   "outputs": [],
   "source": [
    "read_excell = pd.read_excel(\"Arquivos_excell/drawio-import-example_mod_05.xlsx\").reset_index(drop = True)"
   ]
  },
  {
   "cell_type": "code",
   "execution_count": 10,
   "metadata": {},
   "outputs": [
    {
     "data": {
      "text/html": [
       "<div>\n",
       "<style scoped>\n",
       "    .dataframe tbody tr th:only-of-type {\n",
       "        vertical-align: middle;\n",
       "    }\n",
       "\n",
       "    .dataframe tbody tr th {\n",
       "        vertical-align: top;\n",
       "    }\n",
       "\n",
       "    .dataframe thead th {\n",
       "        text-align: right;\n",
       "    }\n",
       "</style>\n",
       "<table border=\"1\" class=\"dataframe\">\n",
       "  <thead>\n",
       "    <tr style=\"text-align: right;\">\n",
       "      <th></th>\n",
       "      <th>tabelas_target</th>\n",
       "      <th>cometários</th>\n",
       "      <th>id</th>\n",
       "      <th>location</th>\n",
       "      <th>tabelas_origem</th>\n",
       "      <th>fill</th>\n",
       "      <th>stroke</th>\n",
       "      <th>refs</th>\n",
       "      <th>url</th>\n",
       "      <th>image</th>\n",
       "    </tr>\n",
       "  </thead>\n",
       "  <tbody>\n",
       "    <tr>\n",
       "      <th>0</th>\n",
       "      <td>Tabela01</td>\n",
       "      <td>CFO</td>\n",
       "      <td>tab01</td>\n",
       "      <td>Office 1</td>\n",
       "      <td>Tabela01</td>\n",
       "      <td>#dae8fc</td>\n",
       "      <td>#6c8ebf</td>\n",
       "      <td>tab01, tab02</td>\n",
       "      <td>https://www.draw.io</td>\n",
       "      <td>NaN</td>\n",
       "    </tr>\n",
       "    <tr>\n",
       "      <th>1</th>\n",
       "      <td>Tabela02</td>\n",
       "      <td>Brand Manager</td>\n",
       "      <td>tab02</td>\n",
       "      <td>Office 2</td>\n",
       "      <td>Tabela01</td>\n",
       "      <td>#d5e8d4</td>\n",
       "      <td>#82b366</td>\n",
       "      <td>NaN</td>\n",
       "      <td>https://www.draw.io</td>\n",
       "      <td>NaN</td>\n",
       "    </tr>\n",
       "    <tr>\n",
       "      <th>2</th>\n",
       "      <td>Tabela03</td>\n",
       "      <td>System Admin</td>\n",
       "      <td>tab03</td>\n",
       "      <td>Office 3</td>\n",
       "      <td>Tabela01</td>\n",
       "      <td>#d5e8d4</td>\n",
       "      <td>#82b366</td>\n",
       "      <td>tab03, tab04</td>\n",
       "      <td>https://www.draw.io</td>\n",
       "      <td>NaN</td>\n",
       "    </tr>\n",
       "    <tr>\n",
       "      <th>3</th>\n",
       "      <td>Tabela04</td>\n",
       "      <td>HR Director</td>\n",
       "      <td>tab04</td>\n",
       "      <td>Office 4</td>\n",
       "      <td>Tabela03</td>\n",
       "      <td>#d5e8d4</td>\n",
       "      <td>#82b366</td>\n",
       "      <td>NaN</td>\n",
       "      <td>https://www.draw.io</td>\n",
       "      <td>NaN</td>\n",
       "    </tr>\n",
       "  </tbody>\n",
       "</table>\n",
       "</div>"
      ],
      "text/plain": [
       "  tabelas_target     cometários     id  location tabelas_origem     fill  \\\n",
       "0       Tabela01            CFO  tab01  Office 1       Tabela01  #dae8fc   \n",
       "1       Tabela02  Brand Manager  tab02  Office 2       Tabela01  #d5e8d4   \n",
       "2       Tabela03   System Admin  tab03  Office 3       Tabela01  #d5e8d4   \n",
       "3       Tabela04    HR Director  tab04  Office 4       Tabela03  #d5e8d4   \n",
       "\n",
       "    stroke          refs                  url  image  \n",
       "0  #6c8ebf  tab01, tab02  https://www.draw.io    NaN  \n",
       "1  #82b366           NaN  https://www.draw.io    NaN  \n",
       "2  #82b366  tab03, tab04  https://www.draw.io    NaN  \n",
       "3  #82b366           NaN  https://www.draw.io    NaN  "
      ]
     },
     "execution_count": 10,
     "metadata": {},
     "output_type": "execute_result"
    }
   ],
   "source": [
    "\n",
    "read_excell"
   ]
  },
  {
   "cell_type": "markdown",
   "metadata": {},
   "source": [
    "### Salva o arquivo excell da pasta Arquivos_excell/ para o formato csv na pasta Converte_para_Excell"
   ]
  },
  {
   "cell_type": "code",
   "execution_count": 11,
   "metadata": {},
   "outputs": [],
   "source": [
    "read_excell.to_csv(\"excel_to_csv_mod_05.csv\", index = False)"
   ]
  },
  {
   "cell_type": "code",
   "execution_count": null,
   "metadata": {},
   "outputs": [],
   "source": []
  },
  {
   "cell_type": "code",
   "execution_count": null,
   "metadata": {},
   "outputs": [],
   "source": []
  }
 ],
 "metadata": {
  "kernelspec": {
   "display_name": "Python 3",
   "language": "python",
   "name": "python3"
  },
  "language_info": {
   "codemirror_mode": {
    "name": "ipython",
    "version": 3
   },
   "file_extension": ".py",
   "mimetype": "text/x-python",
   "name": "python",
   "nbconvert_exporter": "python",
   "pygments_lexer": "ipython3",
   "version": "3.8.5"
  }
 },
 "nbformat": 4,
 "nbformat_minor": 4
}
